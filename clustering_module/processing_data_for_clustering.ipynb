{
 "cells": [
  {
   "cell_type": "code",
   "execution_count": 1,
   "metadata": {},
   "outputs": [],
   "source": [
    "import pandas as pd"
   ]
  },
  {
   "cell_type": "code",
   "execution_count": 2,
   "metadata": {
    "scrolled": true
   },
   "outputs": [
    {
     "name": "stderr",
     "output_type": "stream",
     "text": [
      "/usr/lib/python3/dist-packages/IPython/core/interactiveshell.py:3062: DtypeWarning: Columns (125) have mixed types.Specify dtype option on import or set low_memory=False.\n",
      "  has_raised = await self.run_ast_nodes(code_ast.body, cell_name,\n",
      "/usr/lib/python3/dist-packages/IPython/core/interactiveshell.py:3062: DtypeWarning: Columns (40) have mixed types.Specify dtype option on import or set low_memory=False.\n",
      "  has_raised = await self.run_ast_nodes(code_ast.body, cell_name,\n"
     ]
    }
   ],
   "source": [
    "cem_2017_df = pd.read_csv(\"../../data/Data/2017/cem_2017_value.csv\",delimiter=\";\");\n",
    "cem_2018_df = pd.read_csv(\"../../data/Data/2018/cem_2018_values.csv\",delimiter=\";\");\n",
    "cem_2019_df = pd.read_csv(\"../../data/Data/2019/cem_2019_value.csv\",delimiter=\";\");\n",
    "cem_2020_df = pd.read_csv(\"../../data/Data/2020/cem_2020_value.csv\",delimiter=\";\");"
   ]
  },
  {
   "cell_type": "code",
   "execution_count": 31,
   "metadata": {},
   "outputs": [],
   "source": [
    "# Se usarán 20-30 columnas"
   ]
  },
  {
   "cell_type": "code",
   "execution_count": null,
   "metadata": {},
   "outputs": [],
   "source": [
    "# Columnas a usar sí o sí, UBIGEO(Dep,Prov,Distr), CEM, FECHA_INGRESO. Para filtrar, no para clustering."
   ]
  },
  {
   "cell_type": "code",
   "execution_count": null,
   "metadata": {},
   "outputs": [],
   "source": [
    "# Columnas relacionadas a la agresión cuentan como 1"
   ]
  },
  {
   "cell_type": "code",
   "execution_count": 27,
   "metadata": {},
   "outputs": [],
   "source": [
    "def show_columns_with_missing_values(df):\n",
    "    columns = df.columns\n",
    "    empty = 0\n",
    "    whitespace = 0\n",
    "    for col in columns:\n",
    "        partial = df[df[col]== \"\"]\n",
    "        if(len(partial[col]) > 0):\n",
    "            empty+=1\n",
    "        partial2 = df[df[col]== \" \"]\n",
    "        if(len(partial2[col]) > 0):\n",
    "            whitespace+=1\n",
    "    print(\"columnas con espacio vacío \",empty)\n",
    "    print(\"columnas con espacios en blanco\",whitespace)"
   ]
  },
  {
   "cell_type": "code",
   "execution_count": 28,
   "metadata": {
    "scrolled": false
   },
   "outputs": [
    {
     "name": "stdout",
     "output_type": "stream",
     "text": [
      "columnas con espacio vacío  0\n",
      "columnas con espacios en blanco 107\n"
     ]
    }
   ],
   "source": [
    "show_columns_with_missing_values(cem_2017_df)"
   ]
  },
  {
   "cell_type": "code",
   "execution_count": 29,
   "metadata": {
    "scrolled": false
   },
   "outputs": [
    {
     "name": "stdout",
     "output_type": "stream",
     "text": [
      "columnas con espacio vacío  0\n",
      "columnas con espacios en blanco 119\n"
     ]
    }
   ],
   "source": [
    "show_columns_with_missing_values(cem_2018_df)"
   ]
  },
  {
   "cell_type": "code",
   "execution_count": 30,
   "metadata": {},
   "outputs": [
    {
     "name": "stdout",
     "output_type": "stream",
     "text": [
      "columnas con espacio vacío  0\n",
      "columnas con espacios en blanco 142\n"
     ]
    }
   ],
   "source": [
    "show_columns_with_missing_values(cem_2019_df)"
   ]
  },
  {
   "cell_type": "code",
   "execution_count": 31,
   "metadata": {
    "scrolled": true
   },
   "outputs": [
    {
     "name": "stdout",
     "output_type": "stream",
     "text": [
      "columnas con espacio vacío  0\n",
      "columnas con espacios en blanco 123\n"
     ]
    }
   ],
   "source": [
    "show_columns_with_missing_values(cem_2020_df)"
   ]
  },
  {
   "cell_type": "code",
   "execution_count": 40,
   "metadata": {},
   "outputs": [],
   "source": [
    "def show_columns_names_with_missing_values(df):\n",
    "    columns = df.columns\n",
    "    data_len = len(df['CEM'])\n",
    "    for col in columns:\n",
    "        partial = df[df[col]== \"\"]\n",
    "        if(len(partial[col]) < 0.1*data_len):\n",
    "            print(\"Columna \"+col+\" tiene \"+str(len(partial[col]))+\"  ''\")\n",
    "        partial2 = df[df[col]== \" \"]\n",
    "        if(len(partial2[col]) < 0.1*data_len):\n",
    "            print(\"Columna \"+col+\" tiene \"+str(len(partial2[col]))+\" ' '\")\n"
   ]
  },
  {
   "cell_type": "code",
   "execution_count": 48,
   "metadata": {},
   "outputs": [
    {
     "data": {
      "text/html": [
       "<div>\n",
       "<style scoped>\n",
       "    .dataframe tbody tr th:only-of-type {\n",
       "        vertical-align: middle;\n",
       "    }\n",
       "\n",
       "    .dataframe tbody tr th {\n",
       "        vertical-align: top;\n",
       "    }\n",
       "\n",
       "    .dataframe thead th {\n",
       "        text-align: right;\n",
       "    }\n",
       "</style>\n",
       "<table border=\"1\" class=\"dataframe\">\n",
       "  <thead>\n",
       "    <tr style=\"text-align: right;\">\n",
       "      <th></th>\n",
       "      <th>CEM</th>\n",
       "      <th>CONDICION</th>\n",
       "      <th>FECHA_INGRESO</th>\n",
       "      <th>INFORMANTE</th>\n",
       "      <th>FORMA_INGRESO</th>\n",
       "      <th>VICTIMA_PERUANA</th>\n",
       "      <th>VICTIMA_CUENTA_DNI</th>\n",
       "      <th>VICTIMA_EXTRANJERA</th>\n",
       "      <th>VICTIMA_PAIS_EXTRANJERO</th>\n",
       "      <th>VICTIMA_CARNE_EXTRANJERIA</th>\n",
       "      <th>...</th>\n",
       "      <th>INTERPUSO_DENUNCIA</th>\n",
       "      <th>DONDE_INTERPUSO_DENUNCIA</th>\n",
       "      <th>DESEA_DENUNCIAR</th>\n",
       "      <th>CUENTA_MEDIDAS_DE_PROTECCION</th>\n",
       "      <th>CUENTA_MEDIDAS_DE_CAUTELARES</th>\n",
       "      <th>DESEA_PATROCINIO_LEGAL</th>\n",
       "      <th>CASO_TENTATIVA_DE_FEMINICIDIO</th>\n",
       "      <th>LUGAR_TENTATIVA_DE_FEMINICIDIO</th>\n",
       "      <th>SITUACION_AGRESOR</th>\n",
       "      <th>TIPO_VIOLENCIA</th>\n",
       "    </tr>\n",
       "  </thead>\n",
       "  <tbody>\n",
       "    <tr>\n",
       "      <th>0</th>\n",
       "      <td>ABANCAY</td>\n",
       "      <td>N</td>\n",
       "      <td>01/02/2017</td>\n",
       "      <td>0</td>\n",
       "      <td>1</td>\n",
       "      <td>1</td>\n",
       "      <td>1</td>\n",
       "      <td>0</td>\n",
       "      <td>NaN</td>\n",
       "      <td></td>\n",
       "      <td>...</td>\n",
       "      <td>0</td>\n",
       "      <td></td>\n",
       "      <td>1</td>\n",
       "      <td>0</td>\n",
       "      <td>0</td>\n",
       "      <td>1</td>\n",
       "      <td>0</td>\n",
       "      <td></td>\n",
       "      <td></td>\n",
       "      <td>1</td>\n",
       "    </tr>\n",
       "    <tr>\n",
       "      <th>1</th>\n",
       "      <td>ABANCAY</td>\n",
       "      <td>I</td>\n",
       "      <td>01/02/2017</td>\n",
       "      <td>0</td>\n",
       "      <td>8</td>\n",
       "      <td>1</td>\n",
       "      <td>1</td>\n",
       "      <td>0</td>\n",
       "      <td>NaN</td>\n",
       "      <td></td>\n",
       "      <td>...</td>\n",
       "      <td>1</td>\n",
       "      <td>2</td>\n",
       "      <td></td>\n",
       "      <td>0</td>\n",
       "      <td>0</td>\n",
       "      <td>1</td>\n",
       "      <td>0</td>\n",
       "      <td></td>\n",
       "      <td></td>\n",
       "      <td>1</td>\n",
       "    </tr>\n",
       "    <tr>\n",
       "      <th>2</th>\n",
       "      <td>ABANCAY</td>\n",
       "      <td>R</td>\n",
       "      <td>01/06/2017</td>\n",
       "      <td>1</td>\n",
       "      <td>7</td>\n",
       "      <td>1</td>\n",
       "      <td>1</td>\n",
       "      <td>0</td>\n",
       "      <td>NaN</td>\n",
       "      <td></td>\n",
       "      <td>...</td>\n",
       "      <td>1</td>\n",
       "      <td>1</td>\n",
       "      <td></td>\n",
       "      <td>0</td>\n",
       "      <td>0</td>\n",
       "      <td>1</td>\n",
       "      <td>0</td>\n",
       "      <td></td>\n",
       "      <td></td>\n",
       "      <td>1</td>\n",
       "    </tr>\n",
       "    <tr>\n",
       "      <th>3</th>\n",
       "      <td>ABANCAY</td>\n",
       "      <td>N</td>\n",
       "      <td>01/10/2017</td>\n",
       "      <td>1</td>\n",
       "      <td>7</td>\n",
       "      <td>1</td>\n",
       "      <td>1</td>\n",
       "      <td>0</td>\n",
       "      <td>NaN</td>\n",
       "      <td></td>\n",
       "      <td>...</td>\n",
       "      <td>1</td>\n",
       "      <td>1</td>\n",
       "      <td></td>\n",
       "      <td>0</td>\n",
       "      <td>0</td>\n",
       "      <td>1</td>\n",
       "      <td>0</td>\n",
       "      <td></td>\n",
       "      <td></td>\n",
       "      <td>1</td>\n",
       "    </tr>\n",
       "    <tr>\n",
       "      <th>4</th>\n",
       "      <td>ABANCAY</td>\n",
       "      <td>N</td>\n",
       "      <td>01/10/2017</td>\n",
       "      <td>1</td>\n",
       "      <td>7</td>\n",
       "      <td>1</td>\n",
       "      <td>1</td>\n",
       "      <td>0</td>\n",
       "      <td>NaN</td>\n",
       "      <td></td>\n",
       "      <td>...</td>\n",
       "      <td>1</td>\n",
       "      <td>1</td>\n",
       "      <td></td>\n",
       "      <td>0</td>\n",
       "      <td>0</td>\n",
       "      <td>1</td>\n",
       "      <td>0</td>\n",
       "      <td></td>\n",
       "      <td></td>\n",
       "      <td>1</td>\n",
       "    </tr>\n",
       "    <tr>\n",
       "      <th>...</th>\n",
       "      <td>...</td>\n",
       "      <td>...</td>\n",
       "      <td>...</td>\n",
       "      <td>...</td>\n",
       "      <td>...</td>\n",
       "      <td>...</td>\n",
       "      <td>...</td>\n",
       "      <td>...</td>\n",
       "      <td>...</td>\n",
       "      <td>...</td>\n",
       "      <td>...</td>\n",
       "      <td>...</td>\n",
       "      <td>...</td>\n",
       "      <td>...</td>\n",
       "      <td>...</td>\n",
       "      <td>...</td>\n",
       "      <td>...</td>\n",
       "      <td>...</td>\n",
       "      <td>...</td>\n",
       "      <td>...</td>\n",
       "      <td>...</td>\n",
       "    </tr>\n",
       "    <tr>\n",
       "      <th>95312</th>\n",
       "      <td>ZARUMILLA</td>\n",
       "      <td>R</td>\n",
       "      <td>12/22/2017</td>\n",
       "      <td>1</td>\n",
       "      <td>7</td>\n",
       "      <td>1</td>\n",
       "      <td>1</td>\n",
       "      <td>0</td>\n",
       "      <td>NaN</td>\n",
       "      <td></td>\n",
       "      <td>...</td>\n",
       "      <td>1</td>\n",
       "      <td>1</td>\n",
       "      <td></td>\n",
       "      <td>0</td>\n",
       "      <td>0</td>\n",
       "      <td>1</td>\n",
       "      <td>0</td>\n",
       "      <td></td>\n",
       "      <td></td>\n",
       "      <td>1</td>\n",
       "    </tr>\n",
       "    <tr>\n",
       "      <th>95313</th>\n",
       "      <td>ZARUMILLA</td>\n",
       "      <td>N</td>\n",
       "      <td>12/26/2017</td>\n",
       "      <td>1</td>\n",
       "      <td>7</td>\n",
       "      <td>1</td>\n",
       "      <td>1</td>\n",
       "      <td>0</td>\n",
       "      <td>NaN</td>\n",
       "      <td></td>\n",
       "      <td>...</td>\n",
       "      <td>1</td>\n",
       "      <td>1</td>\n",
       "      <td></td>\n",
       "      <td>0</td>\n",
       "      <td>0</td>\n",
       "      <td>1</td>\n",
       "      <td>0</td>\n",
       "      <td></td>\n",
       "      <td></td>\n",
       "      <td>1</td>\n",
       "    </tr>\n",
       "    <tr>\n",
       "      <th>95314</th>\n",
       "      <td>ZARUMILLA</td>\n",
       "      <td>N</td>\n",
       "      <td>12/27/2017</td>\n",
       "      <td>1</td>\n",
       "      <td>7</td>\n",
       "      <td>1</td>\n",
       "      <td>1</td>\n",
       "      <td>0</td>\n",
       "      <td>NaN</td>\n",
       "      <td></td>\n",
       "      <td>...</td>\n",
       "      <td>1</td>\n",
       "      <td>1</td>\n",
       "      <td></td>\n",
       "      <td>0</td>\n",
       "      <td>0</td>\n",
       "      <td>1</td>\n",
       "      <td>0</td>\n",
       "      <td></td>\n",
       "      <td></td>\n",
       "      <td>2</td>\n",
       "    </tr>\n",
       "    <tr>\n",
       "      <th>95315</th>\n",
       "      <td>ZARUMILLA</td>\n",
       "      <td>N</td>\n",
       "      <td>12/27/2017</td>\n",
       "      <td>1</td>\n",
       "      <td>7</td>\n",
       "      <td>1</td>\n",
       "      <td>1</td>\n",
       "      <td>0</td>\n",
       "      <td>NaN</td>\n",
       "      <td></td>\n",
       "      <td>...</td>\n",
       "      <td>1</td>\n",
       "      <td>1</td>\n",
       "      <td></td>\n",
       "      <td>0</td>\n",
       "      <td>0</td>\n",
       "      <td>1</td>\n",
       "      <td>0</td>\n",
       "      <td></td>\n",
       "      <td></td>\n",
       "      <td>2</td>\n",
       "    </tr>\n",
       "    <tr>\n",
       "      <th>95316</th>\n",
       "      <td>ZARUMILLA</td>\n",
       "      <td>R</td>\n",
       "      <td>12/28/2017</td>\n",
       "      <td>1</td>\n",
       "      <td>7</td>\n",
       "      <td>1</td>\n",
       "      <td>1</td>\n",
       "      <td>0</td>\n",
       "      <td>NaN</td>\n",
       "      <td></td>\n",
       "      <td>...</td>\n",
       "      <td>1</td>\n",
       "      <td>1</td>\n",
       "      <td></td>\n",
       "      <td>0</td>\n",
       "      <td>0</td>\n",
       "      <td>0</td>\n",
       "      <td></td>\n",
       "      <td></td>\n",
       "      <td></td>\n",
       "      <td>2</td>\n",
       "    </tr>\n",
       "  </tbody>\n",
       "</table>\n",
       "<p>95317 rows × 143 columns</p>\n",
       "</div>"
      ],
      "text/plain": [
       "             CEM CONDICION FECHA_INGRESO  INFORMANTE  FORMA_INGRESO  \\\n",
       "0        ABANCAY         N    01/02/2017           0              1   \n",
       "1        ABANCAY         I    01/02/2017           0              8   \n",
       "2        ABANCAY         R    01/06/2017           1              7   \n",
       "3        ABANCAY         N    01/10/2017           1              7   \n",
       "4        ABANCAY         N    01/10/2017           1              7   \n",
       "...          ...       ...           ...         ...            ...   \n",
       "95312  ZARUMILLA         R    12/22/2017           1              7   \n",
       "95313  ZARUMILLA         N    12/26/2017           1              7   \n",
       "95314  ZARUMILLA         N    12/27/2017           1              7   \n",
       "95315  ZARUMILLA         N    12/27/2017           1              7   \n",
       "95316  ZARUMILLA         R    12/28/2017           1              7   \n",
       "\n",
       "       VICTIMA_PERUANA VICTIMA_CUENTA_DNI  VICTIMA_EXTRANJERA  \\\n",
       "0                    1                  1                   0   \n",
       "1                    1                  1                   0   \n",
       "2                    1                  1                   0   \n",
       "3                    1                  1                   0   \n",
       "4                    1                  1                   0   \n",
       "...                ...                ...                 ...   \n",
       "95312                1                  1                   0   \n",
       "95313                1                  1                   0   \n",
       "95314                1                  1                   0   \n",
       "95315                1                  1                   0   \n",
       "95316                1                  1                   0   \n",
       "\n",
       "      VICTIMA_PAIS_EXTRANJERO VICTIMA_CARNE_EXTRANJERIA  ...  \\\n",
       "0                         NaN                            ...   \n",
       "1                         NaN                            ...   \n",
       "2                         NaN                            ...   \n",
       "3                         NaN                            ...   \n",
       "4                         NaN                            ...   \n",
       "...                       ...                       ...  ...   \n",
       "95312                     NaN                            ...   \n",
       "95313                     NaN                            ...   \n",
       "95314                     NaN                            ...   \n",
       "95315                     NaN                            ...   \n",
       "95316                     NaN                            ...   \n",
       "\n",
       "      INTERPUSO_DENUNCIA DONDE_INTERPUSO_DENUNCIA DESEA_DENUNCIAR  \\\n",
       "0                      0                                        1   \n",
       "1                      1                        2                   \n",
       "2                      1                        1                   \n",
       "3                      1                        1                   \n",
       "4                      1                        1                   \n",
       "...                  ...                      ...             ...   \n",
       "95312                  1                        1                   \n",
       "95313                  1                        1                   \n",
       "95314                  1                        1                   \n",
       "95315                  1                        1                   \n",
       "95316                  1                        1                   \n",
       "\n",
       "      CUENTA_MEDIDAS_DE_PROTECCION CUENTA_MEDIDAS_DE_CAUTELARES  \\\n",
       "0                                0                            0   \n",
       "1                                0                            0   \n",
       "2                                0                            0   \n",
       "3                                0                            0   \n",
       "4                                0                            0   \n",
       "...                            ...                          ...   \n",
       "95312                            0                            0   \n",
       "95313                            0                            0   \n",
       "95314                            0                            0   \n",
       "95315                            0                            0   \n",
       "95316                            0                            0   \n",
       "\n",
       "      DESEA_PATROCINIO_LEGAL CASO_TENTATIVA_DE_FEMINICIDIO  \\\n",
       "0                          1                             0   \n",
       "1                          1                             0   \n",
       "2                          1                             0   \n",
       "3                          1                             0   \n",
       "4                          1                             0   \n",
       "...                      ...                           ...   \n",
       "95312                      1                             0   \n",
       "95313                      1                             0   \n",
       "95314                      1                             0   \n",
       "95315                      1                             0   \n",
       "95316                      0                                 \n",
       "\n",
       "       LUGAR_TENTATIVA_DE_FEMINICIDIO  SITUACION_AGRESOR  TIPO_VIOLENCIA  \n",
       "0                                                                      1  \n",
       "1                                                                      1  \n",
       "2                                                                      1  \n",
       "3                                                                      1  \n",
       "4                                                                      1  \n",
       "...                               ...                ...             ...  \n",
       "95312                                                                  1  \n",
       "95313                                                                  1  \n",
       "95314                                                                  2  \n",
       "95315                                                                  2  \n",
       "95316                                                                  2  \n",
       "\n",
       "[95317 rows x 143 columns]"
      ]
     },
     "execution_count": 48,
     "metadata": {},
     "output_type": "execute_result"
    }
   ],
   "source": [
    "cem_2017_df"
   ]
  },
  {
   "cell_type": "code",
   "execution_count": 41,
   "metadata": {
    "scrolled": true
   },
   "outputs": [
    {
     "name": "stdout",
     "output_type": "stream",
     "text": [
      "Columna CEM tiene 0  ''\n",
      "Columna CEM tiene 0 ' '\n",
      "Columna CONDICION tiene 0  ''\n",
      "Columna CONDICION tiene 0 ' '\n",
      "Columna FECHA_INGRESO tiene 0  ''\n",
      "Columna FECHA_INGRESO tiene 0 ' '\n",
      "Columna INFORMANTE tiene 0  ''\n",
      "Columna INFORMANTE tiene 0 ' '\n",
      "Columna FORMA_INGRESO tiene 0  ''\n",
      "Columna FORMA_INGRESO tiene 0 ' '\n",
      "Columna VICTIMA_PERUANA tiene 0  ''\n",
      "Columna VICTIMA_PERUANA tiene 0 ' '\n",
      "Columna VICTIMA_CUENTA_DNI tiene 0  ''\n",
      "Columna VICTIMA_CUENTA_DNI tiene 274 ' '\n",
      "Columna VICTIMA_EXTRANJERA tiene 0  ''\n",
      "Columna VICTIMA_EXTRANJERA tiene 0 ' '\n",
      "Columna VICTIMA_PAIS_EXTRANJERO tiene 0  ''\n",
      "Columna VICTIMA_PAIS_EXTRANJERO tiene 0 ' '\n",
      "Columna VICTIMA_CARNE_EXTRANJERIA tiene 0  ''\n",
      "Columna VICTIMA_SOLICITANTE_REFUGIO tiene 0  ''\n",
      "Columna VICTIMA_REFUGIADO tiene 0  ''\n",
      "Columna VICTIMA_SOLICITANTE_ASILO tiene 0  ''\n",
      "Columna VICTIMA_ASILADO tiene 0  ''\n",
      "Columna VICTIMA_APATRIDA tiene 0  ''\n",
      "Columna VICTIMA_OTRA_SIT_MIGR tiene 0  ''\n",
      "Columna VICTIMA_NINGUNA_SIT_MIGR tiene 0  ''\n",
      "Columna EDAD_VICTIMA tiene 0  ''\n",
      "Columna EDAD_VICTIMA tiene 0 ' '\n",
      "Columna SEXO_VICTIMA tiene 0  ''\n",
      "Columna SEXO_VICTIMA tiene 0 ' '\n",
      "Columna VICTIMA_GESTANDO tiene 0  ''\n",
      "Columna VICTIMA_GESTANDO tiene 0 ' '\n",
      "Columna HIJAS_VIVAS tiene 0  ''\n",
      "Columna HIJAS_VIVAS tiene 0 ' '\n",
      "Columna HIJOS_VIVOS tiene 0  ''\n",
      "Columna HIJOS_VIVOS tiene 0 ' '\n",
      "Columna LENGUA_MATERNA_VICTIMA tiene 0  ''\n",
      "Columna LENGUA_MATERNA_VICTIMA tiene 0 ' '\n",
      "Columna ETNIA_VICTIMA tiene 0  ''\n",
      "Columna ETNIA_VICTIMA tiene 0 ' '\n",
      "Columna DPTO_DOMICILIO tiene 0  ''\n",
      "Columna DPTO_DOMICILIO tiene 0 ' '\n",
      "Columna PROV_DOMICILIO tiene 0  ''\n",
      "Columna PROV_DOMICILIO tiene 0 ' '\n",
      "Columna DIST_DOMICILIO tiene 0  ''\n",
      "Columna DIST_DOMICILIO tiene 0 ' '\n",
      "Columna AREA_RESIDENCIA_DOMICILIO tiene 0  ''\n",
      "Columna AREA_RESIDENCIA_DOMICILIO tiene 0 ' '\n",
      "Columna ESTADO_CIVIL_VICTIMA tiene 0  ''\n",
      "Columna ESTADO_CIVIL_VICTIMA tiene 0 ' '\n",
      "Columna NIVEL_EDUCATIVO_VICTIMA tiene 0  ''\n",
      "Columna NIVEL_EDUCATIVO_VICTIMA tiene 0 ' '\n",
      "Columna TRABAJA_VICTIMA tiene 0  ''\n",
      "Columna TRABAJA_VICTIMA tiene 0 ' '\n",
      "Columna OCUPACION_VICTIMA tiene 0  ''\n",
      "Columna AGRESOR_PERUANO tiene 0  ''\n",
      "Columna AGRESOR_PERUANO tiene 306 ' '\n",
      "Columna AGRESOR_CUENTA_DNI tiene 0  ''\n",
      "Columna AGRESOR_CUENTA_DNI tiene 530 ' '\n",
      "Columna AGRESOR_EXTRANJERO tiene 0  ''\n",
      "Columna AGRESOR_EXTRANJERO tiene 0 ' '\n",
      "Columna AGRESOR_PAIS_EXTRANJERO tiene 0  ''\n",
      "Columna AGRESOR_PAIS_EXTRANJERO tiene 0 ' '\n",
      "Columna AGRESOR_CARNE_EXTRANJERIA tiene 0  ''\n",
      "Columna AGRESOR_SOLICITANTE_REFUGIO tiene 0  ''\n",
      "Columna AGRESOR_REFUGIADO tiene 0  ''\n",
      "Columna AGRESOR_SOLICITANTE_ASILO tiene 0  ''\n",
      "Columna AGRESOR_ASILADO tiene 0  ''\n",
      "Columna AGRESOR_APATRIDA tiene 0  ''\n",
      "Columna AGRESOR_OTRA_SIT_MIGR tiene 0  ''\n",
      "Columna AGRESOR_NINGUNA_SIT_MIGR tiene 0  ''\n",
      "Columna VINCULO_AGRESOR_VICTIMA tiene 0  ''\n",
      "Columna VINCULO_AGRESOR_VICTIMA tiene 0 ' '\n",
      "Columna VINCULO_PAREJA tiene 0  ''\n",
      "Columna VINCULO_FAMILIAR tiene 0  ''\n",
      "Columna SIN_VINCULO tiene 0  ''\n",
      "Columna AGRESOR_VIVE_CASA_VICTIMA tiene 0  ''\n",
      "Columna AGRESOR_VIVE_CASA_VICTIMA tiene 0 ' '\n",
      "Columna EDAD_AGRESOR tiene 0  ''\n",
      "Columna EDAD_AGRESOR tiene 1117 ' '\n",
      "Columna SEXO_AGRESOR tiene 0  ''\n",
      "Columna SEXO_AGRESOR tiene 0 ' '\n",
      "Columna NIVEL_EDUCATIVO_AGRESOR tiene 0  ''\n",
      "Columna NIVEL_EDUCATIVO_AGRESOR tiene 1981 ' '\n",
      "Columna TRABAJA_AGRESOR tiene 0  ''\n",
      "Columna TRABAJA_AGRESOR tiene 1118 ' '\n",
      "Columna OCUPACION_AGRESOR tiene 0  ''\n",
      "Columna GRITOS_INSULTOS tiene 0  ''\n",
      "Columna VIOLENCIA_RACIAL tiene 0  ''\n",
      "Columna INDIFERENCIA tiene 0  ''\n",
      "Columna DISCR_ORIENTACION_SEXUAL tiene 0  ''\n",
      "Columna DISCR_GENERO tiene 0  ''\n",
      "Columna DISCR_IDENTIDAD_GENERO tiene 0  ''\n",
      "Columna RECHAZO tiene 0  ''\n",
      "Columna DESVALORIZACION_HUMILLACION tiene 0  ''\n",
      "Columna AMENAZA_QUITAR_HIJOS tiene 0  ''\n",
      "Columna OTRAS_AMENAZAS tiene 0  ''\n",
      "Columna PROHIBE_RECIBIR_VISITAS tiene 0  ''\n",
      "Columna PROHIBE_ESTUDIAR_TRABAJAR_SALIR tiene 0  ''\n",
      "Columna ROMPE_DESTRUYE_COSAS tiene 0  ''\n",
      "Columna VIGILANCIA_CONTINUA_PERSECUCION tiene 0  ''\n",
      "Columna BOTAR_CASA tiene 0  ''\n",
      "Columna AMENAZA_DE_MUERTE tiene 0  ''\n",
      "Columna ABANDONO tiene 0  ''\n",
      "Columna OTRA_VPSI tiene 0  ''\n",
      "Columna PUNTAPIES_PATADAS tiene 0  ''\n",
      "Columna PUÑETAZOS tiene 0  ''\n",
      "Columna BOFETADAS tiene 0  ''\n",
      "Columna JALONES_CABELLO tiene 0  ''\n",
      "Columna OTRAS_AGRESIONES tiene 0  ''\n",
      "Columna EMPUJONES tiene 0  ''\n",
      "Columna GOLPES_CON_PALOS tiene 0  ''\n",
      "Columna LATIGAZO tiene 0  ''\n",
      "Columna AHORCAMIENTO tiene 0  ''\n",
      "Columna HERIDAS_CON_ARMAS tiene 0  ''\n",
      "Columna GOLPES_CON_OBJETOS_CONTUNDENTES tiene 0  ''\n",
      "Columna NEGLIGENCIA tiene 0  ''\n",
      "Columna OTRA_VFIS tiene 0  ''\n",
      "Columna PERTURBACION_POSESION tiene 0  ''\n",
      "Columna MENOSCABO_TENENCIA_BIENES tiene 0  ''\n",
      "Columna PERDIDA_DERECHOS_PATRIMONIALES tiene 0  ''\n",
      "Columna LIMITACION_RECURSOS_ECONOMICOS tiene 0  ''\n",
      "Columna PRIVACION_MEDIOS_INDISPENSABLES tiene 0  ''\n",
      "Columna INCUMPLIMIENTO_OBLIGACION_ALIMENTARIA tiene 0  ''\n",
      "Columna CONTROL_DE_INGRESOS tiene 0  ''\n",
      "Columna PERCEPCION_SALARIO_MENOR tiene 0  ''\n",
      "Columna OTRA_VECON_PATRIM tiene 0  ''\n",
      "Columna ACOSO_SEXUAL tiene 0  ''\n",
      "Columna OFENSAS_AL_PUDOR tiene 0  ''\n",
      "Columna VIOLACION tiene 0  ''\n",
      "Columna ACTOS_CONTRA_EL_PUDOR tiene 0  ''\n",
      "Columna TRATA_CON_FINES_EXPLOTACION_SEXUAL tiene 0  ''\n",
      "Columna EXPLOTACION_SEXUAL tiene 0  ''\n",
      "Columna PORNOGRAFIA tiene 0  ''\n",
      "Columna OTRA_VSEX tiene 0  ''\n",
      "Columna DEPENDE_VICTIMA_FEMINICIDIO tiene 0  ''\n",
      "Columna DEPENDE_VICTIMA_FEMINICIDIO tiene 0 ' '\n",
      "Columna PRIMERA_VEZ_AGREDE tiene 0  ''\n",
      "Columna PRIMERA_VEZ_AGREDE tiene 0 ' '\n",
      "Columna N_AÑOS tiene 0  ''\n",
      "Columna N_MESES tiene 0  ''\n",
      "Columna N_SEMANAS tiene 0  ''\n",
      "Columna FRECUENCIA_AGREDE tiene 0  ''\n",
      "Columna TRATAMIENTO_PSICOLOGICO tiene 0  ''\n",
      "Columna TRATAMIENTO_PSIQUIATRICO tiene 0  ''\n",
      "Columna ATENCION_MEDICA tiene 0  ''\n",
      "Columna OTRO_TRATAMIENTO tiene 0  ''\n",
      "Columna NINGUN_TRATAMIENTO tiene 0  ''\n",
      "Columna CONTINUA_RECIBIENDO_TRATAMIENTO tiene 0  ''\n",
      "Columna CONTINUA_RECIBIENDO_TRATAMIENTO tiene 0 ' '\n",
      "Columna FACTOR_AGRESOR_CONSUMO_ALCOHOL tiene 0  ''\n",
      "Columna FACTOR_AGRESOR_CONSUME_DROGA tiene 0  ''\n",
      "Columna FACTOR_VICTIMA_DISCAPACIDAD tiene 0  ''\n",
      "Columna FACTOR_VICTIMA_ABUSO_CONSUMO_ALCOHOL tiene 0  ''\n",
      "Columna FACTOR_VICTIMA_CONSUME_DROGAS tiene 0  ''\n",
      "Columna FACTOR_VICTIMA_POBLACION_LGTBI tiene 0  ''\n",
      "Columna VINCULO_AFECTIVO_FAMILIA tiene 0  ''\n",
      "Columna VINCULO_AFECTIVO_AMIGOS tiene 0  ''\n",
      "Columna VINCULO_AFECTIVO_VECINOS tiene 0  ''\n",
      "Columna VINCULO_AFECTIVO_ASOCIACIONES tiene 0  ''\n",
      "Columna VINCULO_AFECTIVO_ORGANIZACIONES_CIVICAS tiene 0  ''\n",
      "Columna VINCULO_AFECTIVO_COMPAÑEROS_TRABAJO tiene 0  ''\n",
      "Columna VINCULO_AFECTIVO_OTRO tiene 0  ''\n",
      "Columna VINCULO_AFECTIVO_NINGUNO tiene 0  ''\n",
      "Columna APOYO_EMOCIONAL tiene 0  ''\n",
      "Columna APOYO_COGNITIVO tiene 0  ''\n",
      "Columna APOYO_INSTRUMENTAL tiene 0  ''\n",
      "Columna APOYO_MATERIAL tiene 0  ''\n",
      "Columna NIVEL_DE_RIESGO_VICTIMA tiene 0  ''\n",
      "Columna NIVEL_DE_RIESGO_VICTIMA tiene 0 ' '\n",
      "Columna INTERPUSO_DENUNCIA tiene 0  ''\n",
      "Columna INTERPUSO_DENUNCIA tiene 0 ' '\n",
      "Columna DONDE_INTERPUSO_DENUNCIA tiene 0  ''\n",
      "Columna DESEA_DENUNCIAR tiene 0  ''\n",
      "Columna CUENTA_MEDIDAS_DE_PROTECCION tiene 0  ''\n",
      "Columna CUENTA_MEDIDAS_DE_PROTECCION tiene 0 ' '\n",
      "Columna CUENTA_MEDIDAS_DE_CAUTELARES tiene 0  ''\n",
      "Columna CUENTA_MEDIDAS_DE_CAUTELARES tiene 0 ' '\n",
      "Columna DESEA_PATROCINIO_LEGAL tiene 0  ''\n",
      "Columna DESEA_PATROCINIO_LEGAL tiene 0 ' '\n",
      "Columna CASO_TENTATIVA_DE_FEMINICIDIO tiene 0  ''\n",
      "Columna CASO_TENTATIVA_DE_FEMINICIDIO tiene 8806 ' '\n",
      "Columna LUGAR_TENTATIVA_DE_FEMINICIDIO tiene 0  ''\n",
      "Columna SITUACION_AGRESOR tiene 0  ''\n",
      "Columna TIPO_VIOLENCIA tiene 0  ''\n",
      "Columna TIPO_VIOLENCIA tiene 0 ' '\n"
     ]
    }
   ],
   "source": [
    "show_columns_names_with_missing_values(cem_2017_df)"
   ]
  },
  {
   "cell_type": "code",
   "execution_count": null,
   "metadata": {},
   "outputs": [],
   "source": [
    "#Columnas descartadas"
   ]
  },
  {
   "cell_type": "code",
   "execution_count": 49,
   "metadata": {},
   "outputs": [
    {
     "data": {
      "text/html": [
       "<div>\n",
       "<style scoped>\n",
       "    .dataframe tbody tr th:only-of-type {\n",
       "        vertical-align: middle;\n",
       "    }\n",
       "\n",
       "    .dataframe tbody tr th {\n",
       "        vertical-align: top;\n",
       "    }\n",
       "\n",
       "    .dataframe thead th {\n",
       "        text-align: right;\n",
       "    }\n",
       "</style>\n",
       "<table border=\"1\" class=\"dataframe\">\n",
       "  <thead>\n",
       "    <tr style=\"text-align: right;\">\n",
       "      <th></th>\n",
       "      <th>CEM</th>\n",
       "      <th>CONDICION</th>\n",
       "      <th>FECHA_INGRESO</th>\n",
       "      <th>INFORMANTE</th>\n",
       "      <th>FORMA_INGRESO</th>\n",
       "      <th>VICTIMA_PERUANA</th>\n",
       "      <th>VICTIMA_CUENTA_DNI</th>\n",
       "      <th>VICTIMA_EXTRANJERA</th>\n",
       "      <th>VICTIMA_PAIS_EXTRANJERO</th>\n",
       "      <th>VICTIMA_CARNE_EXTRANJERIA</th>\n",
       "      <th>...</th>\n",
       "      <th>INTERPUSO_DENUNCIA</th>\n",
       "      <th>DONDE_INTERPUSO_DENUNCIA</th>\n",
       "      <th>DESEA_DENUNCIAR</th>\n",
       "      <th>CUENTA_MEDIDAS_DE_PROTECCION</th>\n",
       "      <th>CUENTA_MEDIDAS_DE_CAUTELARES</th>\n",
       "      <th>DESEA_PATROCINIO_LEGAL</th>\n",
       "      <th>CASO_TENTATIVA_DE_FEMINICIDIO</th>\n",
       "      <th>LUGAR_TENTATIVA_DE_FEMINICIDIO</th>\n",
       "      <th>SITUACION_AGRESOR</th>\n",
       "      <th>TIPO_VIOLENCIA</th>\n",
       "    </tr>\n",
       "  </thead>\n",
       "  <tbody>\n",
       "    <tr>\n",
       "      <th>0</th>\n",
       "      <td>ABANCAY</td>\n",
       "      <td>N</td>\n",
       "      <td>01/05/2018</td>\n",
       "      <td>1</td>\n",
       "      <td>7</td>\n",
       "      <td>1</td>\n",
       "      <td>1</td>\n",
       "      <td>0</td>\n",
       "      <td>NaN</td>\n",
       "      <td></td>\n",
       "      <td>...</td>\n",
       "      <td>1</td>\n",
       "      <td>1</td>\n",
       "      <td></td>\n",
       "      <td>0</td>\n",
       "      <td>0</td>\n",
       "      <td>1</td>\n",
       "      <td>0</td>\n",
       "      <td></td>\n",
       "      <td></td>\n",
       "      <td>1</td>\n",
       "    </tr>\n",
       "    <tr>\n",
       "      <th>1</th>\n",
       "      <td>ABANCAY</td>\n",
       "      <td>R</td>\n",
       "      <td>01/05/2018</td>\n",
       "      <td>1</td>\n",
       "      <td>1</td>\n",
       "      <td>1</td>\n",
       "      <td>1</td>\n",
       "      <td>0</td>\n",
       "      <td>NaN</td>\n",
       "      <td></td>\n",
       "      <td>...</td>\n",
       "      <td>0</td>\n",
       "      <td></td>\n",
       "      <td>1</td>\n",
       "      <td>0</td>\n",
       "      <td>0</td>\n",
       "      <td>1</td>\n",
       "      <td>0</td>\n",
       "      <td></td>\n",
       "      <td></td>\n",
       "      <td>1</td>\n",
       "    </tr>\n",
       "    <tr>\n",
       "      <th>2</th>\n",
       "      <td>ABANCAY</td>\n",
       "      <td>N</td>\n",
       "      <td>01/05/2018</td>\n",
       "      <td>1</td>\n",
       "      <td>1</td>\n",
       "      <td>1</td>\n",
       "      <td>1</td>\n",
       "      <td>0</td>\n",
       "      <td>NaN</td>\n",
       "      <td></td>\n",
       "      <td>...</td>\n",
       "      <td>0</td>\n",
       "      <td></td>\n",
       "      <td>1</td>\n",
       "      <td>0</td>\n",
       "      <td>0</td>\n",
       "      <td>1</td>\n",
       "      <td>0</td>\n",
       "      <td></td>\n",
       "      <td></td>\n",
       "      <td>1</td>\n",
       "    </tr>\n",
       "    <tr>\n",
       "      <th>3</th>\n",
       "      <td>ABANCAY</td>\n",
       "      <td>N</td>\n",
       "      <td>01/09/2018</td>\n",
       "      <td>1</td>\n",
       "      <td>1</td>\n",
       "      <td>1</td>\n",
       "      <td>1</td>\n",
       "      <td>0</td>\n",
       "      <td>NaN</td>\n",
       "      <td></td>\n",
       "      <td>...</td>\n",
       "      <td>0</td>\n",
       "      <td></td>\n",
       "      <td>1</td>\n",
       "      <td>0</td>\n",
       "      <td>0</td>\n",
       "      <td>1</td>\n",
       "      <td>0</td>\n",
       "      <td></td>\n",
       "      <td></td>\n",
       "      <td>2</td>\n",
       "    </tr>\n",
       "    <tr>\n",
       "      <th>4</th>\n",
       "      <td>ABANCAY</td>\n",
       "      <td>N</td>\n",
       "      <td>01/09/2018</td>\n",
       "      <td>1</td>\n",
       "      <td>5</td>\n",
       "      <td>1</td>\n",
       "      <td>1</td>\n",
       "      <td>0</td>\n",
       "      <td>NaN</td>\n",
       "      <td></td>\n",
       "      <td>...</td>\n",
       "      <td>0</td>\n",
       "      <td></td>\n",
       "      <td>1</td>\n",
       "      <td>0</td>\n",
       "      <td>0</td>\n",
       "      <td>1</td>\n",
       "      <td>0</td>\n",
       "      <td></td>\n",
       "      <td></td>\n",
       "      <td>1</td>\n",
       "    </tr>\n",
       "    <tr>\n",
       "      <th>...</th>\n",
       "      <td>...</td>\n",
       "      <td>...</td>\n",
       "      <td>...</td>\n",
       "      <td>...</td>\n",
       "      <td>...</td>\n",
       "      <td>...</td>\n",
       "      <td>...</td>\n",
       "      <td>...</td>\n",
       "      <td>...</td>\n",
       "      <td>...</td>\n",
       "      <td>...</td>\n",
       "      <td>...</td>\n",
       "      <td>...</td>\n",
       "      <td>...</td>\n",
       "      <td>...</td>\n",
       "      <td>...</td>\n",
       "      <td>...</td>\n",
       "      <td>...</td>\n",
       "      <td>...</td>\n",
       "      <td>...</td>\n",
       "      <td>...</td>\n",
       "    </tr>\n",
       "    <tr>\n",
       "      <th>133692</th>\n",
       "      <td>ZARUMILLA</td>\n",
       "      <td>I</td>\n",
       "      <td>12/27/2018</td>\n",
       "      <td>1</td>\n",
       "      <td>7</td>\n",
       "      <td>1</td>\n",
       "      <td>1</td>\n",
       "      <td>0</td>\n",
       "      <td>NaN</td>\n",
       "      <td></td>\n",
       "      <td>...</td>\n",
       "      <td>1</td>\n",
       "      <td>1</td>\n",
       "      <td></td>\n",
       "      <td>0</td>\n",
       "      <td>0</td>\n",
       "      <td>1</td>\n",
       "      <td>0</td>\n",
       "      <td></td>\n",
       "      <td></td>\n",
       "      <td>2</td>\n",
       "    </tr>\n",
       "    <tr>\n",
       "      <th>133693</th>\n",
       "      <td>ZARUMILLA</td>\n",
       "      <td>N</td>\n",
       "      <td>12/28/2018</td>\n",
       "      <td>1</td>\n",
       "      <td>7</td>\n",
       "      <td>1</td>\n",
       "      <td>1</td>\n",
       "      <td>0</td>\n",
       "      <td>NaN</td>\n",
       "      <td></td>\n",
       "      <td>...</td>\n",
       "      <td>1</td>\n",
       "      <td>1</td>\n",
       "      <td></td>\n",
       "      <td>0</td>\n",
       "      <td>0</td>\n",
       "      <td>0</td>\n",
       "      <td>0</td>\n",
       "      <td></td>\n",
       "      <td></td>\n",
       "      <td>1</td>\n",
       "    </tr>\n",
       "    <tr>\n",
       "      <th>133694</th>\n",
       "      <td>ZARUMILLA</td>\n",
       "      <td>I</td>\n",
       "      <td>12/28/2018</td>\n",
       "      <td>1</td>\n",
       "      <td>7</td>\n",
       "      <td>1</td>\n",
       "      <td>1</td>\n",
       "      <td>0</td>\n",
       "      <td>NaN</td>\n",
       "      <td></td>\n",
       "      <td>...</td>\n",
       "      <td>1</td>\n",
       "      <td>1</td>\n",
       "      <td></td>\n",
       "      <td>0</td>\n",
       "      <td>0</td>\n",
       "      <td>0</td>\n",
       "      <td>0</td>\n",
       "      <td></td>\n",
       "      <td></td>\n",
       "      <td>1</td>\n",
       "    </tr>\n",
       "    <tr>\n",
       "      <th>133695</th>\n",
       "      <td>ZARUMILLA</td>\n",
       "      <td>I</td>\n",
       "      <td>12/28/2018</td>\n",
       "      <td>1</td>\n",
       "      <td>7</td>\n",
       "      <td>1</td>\n",
       "      <td>1</td>\n",
       "      <td>0</td>\n",
       "      <td>NaN</td>\n",
       "      <td></td>\n",
       "      <td>...</td>\n",
       "      <td>1</td>\n",
       "      <td>1</td>\n",
       "      <td></td>\n",
       "      <td>0</td>\n",
       "      <td>0</td>\n",
       "      <td>0</td>\n",
       "      <td>0</td>\n",
       "      <td></td>\n",
       "      <td></td>\n",
       "      <td>1</td>\n",
       "    </tr>\n",
       "    <tr>\n",
       "      <th>133696</th>\n",
       "      <td>ZARUMILLA</td>\n",
       "      <td>N</td>\n",
       "      <td>12/28/2018</td>\n",
       "      <td>1</td>\n",
       "      <td>7</td>\n",
       "      <td>1</td>\n",
       "      <td>1</td>\n",
       "      <td>0</td>\n",
       "      <td>NaN</td>\n",
       "      <td></td>\n",
       "      <td>...</td>\n",
       "      <td>1</td>\n",
       "      <td>1</td>\n",
       "      <td></td>\n",
       "      <td>0</td>\n",
       "      <td>0</td>\n",
       "      <td>0</td>\n",
       "      <td>0</td>\n",
       "      <td></td>\n",
       "      <td></td>\n",
       "      <td>1</td>\n",
       "    </tr>\n",
       "  </tbody>\n",
       "</table>\n",
       "<p>133697 rows × 158 columns</p>\n",
       "</div>"
      ],
      "text/plain": [
       "              CEM CONDICION FECHA_INGRESO  INFORMANTE  FORMA_INGRESO  \\\n",
       "0         ABANCAY         N    01/05/2018           1              7   \n",
       "1         ABANCAY         R    01/05/2018           1              1   \n",
       "2         ABANCAY         N    01/05/2018           1              1   \n",
       "3         ABANCAY         N    01/09/2018           1              1   \n",
       "4         ABANCAY         N    01/09/2018           1              5   \n",
       "...           ...       ...           ...         ...            ...   \n",
       "133692  ZARUMILLA         I    12/27/2018           1              7   \n",
       "133693  ZARUMILLA         N    12/28/2018           1              7   \n",
       "133694  ZARUMILLA         I    12/28/2018           1              7   \n",
       "133695  ZARUMILLA         I    12/28/2018           1              7   \n",
       "133696  ZARUMILLA         N    12/28/2018           1              7   \n",
       "\n",
       "        VICTIMA_PERUANA VICTIMA_CUENTA_DNI  VICTIMA_EXTRANJERA  \\\n",
       "0                     1                  1                   0   \n",
       "1                     1                  1                   0   \n",
       "2                     1                  1                   0   \n",
       "3                     1                  1                   0   \n",
       "4                     1                  1                   0   \n",
       "...                 ...                ...                 ...   \n",
       "133692                1                  1                   0   \n",
       "133693                1                  1                   0   \n",
       "133694                1                  1                   0   \n",
       "133695                1                  1                   0   \n",
       "133696                1                  1                   0   \n",
       "\n",
       "       VICTIMA_PAIS_EXTRANJERO VICTIMA_CARNE_EXTRANJERIA  ...  \\\n",
       "0                          NaN                            ...   \n",
       "1                          NaN                            ...   \n",
       "2                          NaN                            ...   \n",
       "3                          NaN                            ...   \n",
       "4                          NaN                            ...   \n",
       "...                        ...                       ...  ...   \n",
       "133692                     NaN                            ...   \n",
       "133693                     NaN                            ...   \n",
       "133694                     NaN                            ...   \n",
       "133695                     NaN                            ...   \n",
       "133696                     NaN                            ...   \n",
       "\n",
       "       INTERPUSO_DENUNCIA DONDE_INTERPUSO_DENUNCIA DESEA_DENUNCIAR  \\\n",
       "0                       1                        1                   \n",
       "1                       0                                        1   \n",
       "2                       0                                        1   \n",
       "3                       0                                        1   \n",
       "4                       0                                        1   \n",
       "...                   ...                      ...             ...   \n",
       "133692                  1                        1                   \n",
       "133693                  1                        1                   \n",
       "133694                  1                        1                   \n",
       "133695                  1                        1                   \n",
       "133696                  1                        1                   \n",
       "\n",
       "       CUENTA_MEDIDAS_DE_PROTECCION CUENTA_MEDIDAS_DE_CAUTELARES  \\\n",
       "0                                 0                            0   \n",
       "1                                 0                            0   \n",
       "2                                 0                            0   \n",
       "3                                 0                            0   \n",
       "4                                 0                            0   \n",
       "...                             ...                          ...   \n",
       "133692                            0                            0   \n",
       "133693                            0                            0   \n",
       "133694                            0                            0   \n",
       "133695                            0                            0   \n",
       "133696                            0                            0   \n",
       "\n",
       "       DESEA_PATROCINIO_LEGAL CASO_TENTATIVA_DE_FEMINICIDIO  \\\n",
       "0                           1                             0   \n",
       "1                           1                             0   \n",
       "2                           1                             0   \n",
       "3                           1                             0   \n",
       "4                           1                             0   \n",
       "...                       ...                           ...   \n",
       "133692                      1                             0   \n",
       "133693                      0                             0   \n",
       "133694                      0                             0   \n",
       "133695                      0                             0   \n",
       "133696                      0                             0   \n",
       "\n",
       "        LUGAR_TENTATIVA_DE_FEMINICIDIO  SITUACION_AGRESOR TIPO_VIOLENCIA  \n",
       "0                                                                      1  \n",
       "1                                                                      1  \n",
       "2                                                                      1  \n",
       "3                                                                      2  \n",
       "4                                                                      1  \n",
       "...                                ...                ...            ...  \n",
       "133692                                                                 2  \n",
       "133693                                                                 1  \n",
       "133694                                                                 1  \n",
       "133695                                                                 1  \n",
       "133696                                                                 1  \n",
       "\n",
       "[133697 rows x 158 columns]"
      ]
     },
     "execution_count": 49,
     "metadata": {},
     "output_type": "execute_result"
    }
   ],
   "source": [
    "cem_2018_df"
   ]
  },
  {
   "cell_type": "code",
   "execution_count": 54,
   "metadata": {
    "scrolled": true
   },
   "outputs": [
    {
     "name": "stdout",
     "output_type": "stream",
     "text": [
      "Columna VICTIMA_CARNE_EXTRANJERIA tiene 132832 ' '\n",
      "Columna VICTIMA_SOLICITANTE_REFUGIO tiene 133649 ' '\n",
      "Columna VICTIMA_REFUGIADO tiene 133674 ' '\n",
      "Columna VICTIMA_SOLICITANTE_ASILO tiene 133695 ' '\n",
      "Columna VICTIMA_ASILADO tiene 133697 ' '\n",
      "Columna VICTIMA_APATRIDA tiene 133697 ' '\n",
      "Columna VICTIMA_OTRA_SIT_MIGR tiene 133564 ' '\n",
      "Columna VICTIMA_NINGUNA_SIT_MIGR tiene 133517 ' '\n",
      "Columna ESSALUD_SEGURO tiene 108025 ' '\n",
      "Columna OTRO_SEGURO tiene 130916 ' '\n",
      "Columna AGRESOR_CARNE_EXTRANJERIA tiene 132983 ' '\n",
      "Columna AGRESOR_SOLICITANTE_REFUGIO tiene 133655 ' '\n",
      "Columna AGRESOR_REFUGIADO tiene 133677 ' '\n",
      "Columna AGRESOR_SOLICITANTE_ASILO tiene 133696 ' '\n",
      "Columna AGRESOR_ASILADO tiene 133696 ' '\n",
      "Columna AGRESOR_APATRIDA tiene 133697 ' '\n",
      "Columna AGRESOR_OTRA_SIT_MIGR tiene 133614 ' '\n",
      "Columna AGRESOR_NINGUNA_SIT_MIGR tiene 133523 ' '\n",
      "Columna SIN_VINCULO tiene 124583 ' '\n",
      "Columna PERTURBACION_POSESION tiene 132163 ' '\n",
      "Columna MENOSCABO_TENENCIA_BIENES tiene 132898 ' '\n",
      "Columna PERDIDA_DERECHOS_PATRIMONIALES tiene 131821 ' '\n",
      "Columna LIMITACION_RECURSOS_ECONOMICOS tiene 130578 ' '\n",
      "Columna PRIVACION_MEDIOS_INDISPENSABLES tiene 132379 ' '\n",
      "Columna INCUMPLIMIENTO_OBLIGACION_ALIMENTARIA tiene 127761 ' '\n",
      "Columna CONTROL_DE_INGRESOS tiene 132610 ' '\n",
      "Columna PERCEPCION_SALARIO_MENOR tiene 133658 ' '\n",
      "Columna OTRA_VECON_PATRIM tiene 133195 ' '\n",
      "Columna VIOLENCIA_RACIAL tiene 132537 ' '\n",
      "Columna INDIFERENCIA tiene 121057 ' '\n",
      "Columna DISCR_ORIENTACION_SEXUAL tiene 133476 ' '\n",
      "Columna DISCR_GENERO tiene 130295 ' '\n",
      "Columna DISCR_IDENTIDAD_GENERO tiene 133342 ' '\n",
      "Columna RECHAZO tiene 120489 ' '\n",
      "Columna AMENAZA_QUITAR_HIJOS tiene 122898 ' '\n",
      "Columna OTRAS_AMENAZAS tiene 114341 ' '\n",
      "Columna PROHIBE_RECIBIR_VISITAS tiene 130649 ' '\n",
      "Columna PROHIBE_ESTUDIAR_TRABAJAR_SALIR tiene 130160 ' '\n",
      "Columna ROMPE_DESTRUYE_COSAS tiene 127601 ' '\n",
      "Columna VIGILANCIA_CONTINUA_PERSECUCION tiene 127020 ' '\n",
      "Columna BOTAR_CASA tiene 120176 ' '\n",
      "Columna AMENAZA_DE_MUERTE tiene 116575 ' '\n",
      "Columna ABANDONO tiene 130776 ' '\n",
      "Columna OTRA_VPSI tiene 115108 ' '\n",
      "Columna PUNTAPIES_PATADAS tiene 121375 ' '\n",
      "Columna PUÑETAZOS tiene 114600 ' '\n",
      "Columna BOFETADAS tiene 120802 ' '\n",
      "Columna JALONES_CABELLO tiene 119897 ' '\n",
      "Columna OTRAS_AGRESIONES tiene 128629 ' '\n",
      "Columna EMPUJONES tiene 115447 ' '\n",
      "Columna GOLPES_CON_PALOS tiene 131464 ' '\n",
      "Columna LATIGAZO tiene 130041 ' '\n",
      "Columna AHORCAMIENTO tiene 129542 ' '\n",
      "Columna HERIDAS_CON_ARMAS tiene 133004 ' '\n",
      "Columna GOLPES_CON_OBJETOS_CONTUNDENTES tiene 131509 ' '\n",
      "Columna NEGLIGENCIA tiene 127840 ' '\n",
      "Columna OTRA_VFIS tiene 125878 ' '\n",
      "Columna HOSTIGAMIENTO_SEXUAL tiene 132747 ' '\n",
      "Columna ACOSO_SEX_ESP_PUB tiene 133210 ' '\n",
      "Columna VIOLACION tiene 127611 ' '\n",
      "Columna ACTOS_CONTRA_EL_PUDOR tiene 128946 ' '\n",
      "Columna TRATA_CON_FINES_EXPLOTACION_SEXUAL tiene 133638 ' '\n",
      "Columna EXPLOTACION_SEXUAL tiene 133684 ' '\n",
      "Columna PORNOGRAFIA tiene 133637 ' '\n",
      "Columna OTRA_VSEX tiene 132320 ' '\n",
      "Columna TRATAMIENTO_PSICOLOGICO tiene 126283 ' '\n",
      "Columna TRATAMIENTO_PSIQUIATRICO tiene 132561 ' '\n",
      "Columna ATENCION_MEDICA tiene 130302 ' '\n",
      "Columna OTRO_TRATAMIENTO tiene 133101 ' '\n",
      "Columna VINCULO_AFECTIVO_AMIGOS tiene 127205 ' '\n",
      "Columna VINCULO_AFECTIVO_VECINOS tiene 130755 ' '\n",
      "Columna VINCULO_AFECTIVO_ASOCIACIONES tiene 133393 ' '\n",
      "Columna VINCULO_AFECTIVO_ORGANIZACIONES_CIVICAS tiene 132958 ' '\n",
      "Columna VINCULO_AFECTIVO_COMPAÑEROS_TRABAJO tiene 133238 ' '\n",
      "Columna VINCULO_AFECTIVO_OTRO tiene 132286 ' '\n",
      "Columna VINCULO_AFECTIVO_NINGUNO tiene 125987 ' '\n",
      "Columna FACTOR_AGRESOR_CONSUME_DROGA tiene 127815 ' '\n",
      "Columna FACTOR_VICTIMA_DISCAPACIDAD tiene 131833 ' '\n",
      "Columna FACTOR_VICTIMA_ABUSO_CONSUMO_ALCOHOL tiene 133223 ' '\n",
      "Columna FACTOR_VICTIMA_CONSUME_DROGAS tiene 133513 ' '\n",
      "Columna FACTOR_VICTIMA_POBLACION_LGTBI tiene 133617 ' '\n",
      "Columna FACTOR_VICTIMA_VIH tiene 133606 ' '\n",
      "Columna FACTOR_VICTIMA_CARCEL tiene 133697 ' '\n",
      "Columna LUGAR_TENTATIVA_DE_FEMINICIDIO tiene 133390 ' '\n",
      "Columna SITUACION_AGRESOR tiene 133390 ' '\n"
     ]
    }
   ],
   "source": [
    "show_columns_names_with_missing_values(cem_2018_df)"
   ]
  },
  {
   "cell_type": "code",
   "execution_count": 50,
   "metadata": {},
   "outputs": [
    {
     "data": {
      "text/html": [
       "<div>\n",
       "<style scoped>\n",
       "    .dataframe tbody tr th:only-of-type {\n",
       "        vertical-align: middle;\n",
       "    }\n",
       "\n",
       "    .dataframe tbody tr th {\n",
       "        vertical-align: top;\n",
       "    }\n",
       "\n",
       "    .dataframe thead th {\n",
       "        text-align: right;\n",
       "    }\n",
       "</style>\n",
       "<table border=\"1\" class=\"dataframe\">\n",
       "  <thead>\n",
       "    <tr style=\"text-align: right;\">\n",
       "      <th></th>\n",
       "      <th>CEM</th>\n",
       "      <th>CONDICION</th>\n",
       "      <th>FECHA_INGRESO</th>\n",
       "      <th>INFORMANTE</th>\n",
       "      <th>FORMA_INGRESO</th>\n",
       "      <th>VICTIMA_PERUANA</th>\n",
       "      <th>VICTIMA_CUENTA_DNI</th>\n",
       "      <th>VICTIMA_EXTRANJERA</th>\n",
       "      <th>VICTIMA_PAIS_EXTRANJERO</th>\n",
       "      <th>VICTIMA_CARNE_EXTRANJERIA</th>\n",
       "      <th>...</th>\n",
       "      <th>DESEA_DENUNCIAR</th>\n",
       "      <th>CUENTA_MEDIDAS_PROTECCION</th>\n",
       "      <th>CUENTA_MEDIDAS_CAUTELARES</th>\n",
       "      <th>DESEA_PATROCINIO_LEGAL</th>\n",
       "      <th>CASO_TENTATIVA_DE_FEMINICIDIO</th>\n",
       "      <th>LUGAR_TENTATIVA_DE_FEMINICIDIO</th>\n",
       "      <th>MODALIDAD_TENTATIVA_DE_FEMINICIDIO</th>\n",
       "      <th>SITUACION_AGRESOR</th>\n",
       "      <th>TIPO_VIOLENCIA</th>\n",
       "      <th>filter_$</th>\n",
       "    </tr>\n",
       "  </thead>\n",
       "  <tbody>\n",
       "    <tr>\n",
       "      <th>0</th>\n",
       "      <td>ANTA</td>\n",
       "      <td>1</td>\n",
       "      <td>06/06/2019</td>\n",
       "      <td>1</td>\n",
       "      <td>1</td>\n",
       "      <td>1</td>\n",
       "      <td>1</td>\n",
       "      <td>0</td>\n",
       "      <td></td>\n",
       "      <td></td>\n",
       "      <td>...</td>\n",
       "      <td>1</td>\n",
       "      <td></td>\n",
       "      <td></td>\n",
       "      <td>1</td>\n",
       "      <td>0</td>\n",
       "      <td></td>\n",
       "      <td></td>\n",
       "      <td></td>\n",
       "      <td>1</td>\n",
       "      <td>1</td>\n",
       "    </tr>\n",
       "    <tr>\n",
       "      <th>1</th>\n",
       "      <td>PARCONA</td>\n",
       "      <td>1</td>\n",
       "      <td>10/29/2019</td>\n",
       "      <td>1</td>\n",
       "      <td>1</td>\n",
       "      <td>1</td>\n",
       "      <td>1</td>\n",
       "      <td>0</td>\n",
       "      <td></td>\n",
       "      <td></td>\n",
       "      <td>...</td>\n",
       "      <td>1</td>\n",
       "      <td></td>\n",
       "      <td></td>\n",
       "      <td>1</td>\n",
       "      <td>0</td>\n",
       "      <td></td>\n",
       "      <td></td>\n",
       "      <td></td>\n",
       "      <td>1</td>\n",
       "      <td>1</td>\n",
       "    </tr>\n",
       "    <tr>\n",
       "      <th>2</th>\n",
       "      <td>PARCONA</td>\n",
       "      <td>2</td>\n",
       "      <td>10/29/2019</td>\n",
       "      <td>1</td>\n",
       "      <td>1</td>\n",
       "      <td>1</td>\n",
       "      <td>1</td>\n",
       "      <td>0</td>\n",
       "      <td></td>\n",
       "      <td></td>\n",
       "      <td>...</td>\n",
       "      <td>1</td>\n",
       "      <td></td>\n",
       "      <td></td>\n",
       "      <td>1</td>\n",
       "      <td>0</td>\n",
       "      <td></td>\n",
       "      <td></td>\n",
       "      <td></td>\n",
       "      <td>1</td>\n",
       "      <td>1</td>\n",
       "    </tr>\n",
       "    <tr>\n",
       "      <th>3</th>\n",
       "      <td>PARCONA</td>\n",
       "      <td>2</td>\n",
       "      <td>10/29/2019</td>\n",
       "      <td>1</td>\n",
       "      <td>1</td>\n",
       "      <td>1</td>\n",
       "      <td>1</td>\n",
       "      <td>0</td>\n",
       "      <td></td>\n",
       "      <td></td>\n",
       "      <td>...</td>\n",
       "      <td>1</td>\n",
       "      <td></td>\n",
       "      <td></td>\n",
       "      <td>1</td>\n",
       "      <td>0</td>\n",
       "      <td></td>\n",
       "      <td></td>\n",
       "      <td></td>\n",
       "      <td>1</td>\n",
       "      <td>1</td>\n",
       "    </tr>\n",
       "    <tr>\n",
       "      <th>4</th>\n",
       "      <td>PARCONA</td>\n",
       "      <td>2</td>\n",
       "      <td>10/29/2019</td>\n",
       "      <td>1</td>\n",
       "      <td>1</td>\n",
       "      <td>1</td>\n",
       "      <td>1</td>\n",
       "      <td>0</td>\n",
       "      <td></td>\n",
       "      <td></td>\n",
       "      <td>...</td>\n",
       "      <td>1</td>\n",
       "      <td></td>\n",
       "      <td></td>\n",
       "      <td>1</td>\n",
       "      <td>0</td>\n",
       "      <td></td>\n",
       "      <td></td>\n",
       "      <td></td>\n",
       "      <td>1</td>\n",
       "      <td>1</td>\n",
       "    </tr>\n",
       "    <tr>\n",
       "      <th>...</th>\n",
       "      <td>...</td>\n",
       "      <td>...</td>\n",
       "      <td>...</td>\n",
       "      <td>...</td>\n",
       "      <td>...</td>\n",
       "      <td>...</td>\n",
       "      <td>...</td>\n",
       "      <td>...</td>\n",
       "      <td>...</td>\n",
       "      <td>...</td>\n",
       "      <td>...</td>\n",
       "      <td>...</td>\n",
       "      <td>...</td>\n",
       "      <td>...</td>\n",
       "      <td>...</td>\n",
       "      <td>...</td>\n",
       "      <td>...</td>\n",
       "      <td>...</td>\n",
       "      <td>...</td>\n",
       "      <td>...</td>\n",
       "      <td>...</td>\n",
       "    </tr>\n",
       "    <tr>\n",
       "      <th>181880</th>\n",
       "      <td>ZARUMILLA</td>\n",
       "      <td>4</td>\n",
       "      <td>12/20/2019</td>\n",
       "      <td>1</td>\n",
       "      <td>8</td>\n",
       "      <td>0</td>\n",
       "      <td></td>\n",
       "      <td>1</td>\n",
       "      <td>52</td>\n",
       "      <td>1</td>\n",
       "      <td>...</td>\n",
       "      <td></td>\n",
       "      <td>0</td>\n",
       "      <td>0</td>\n",
       "      <td>1</td>\n",
       "      <td>0</td>\n",
       "      <td></td>\n",
       "      <td></td>\n",
       "      <td></td>\n",
       "      <td>2</td>\n",
       "      <td></td>\n",
       "    </tr>\n",
       "    <tr>\n",
       "      <th>181881</th>\n",
       "      <td>ZARUMILLA</td>\n",
       "      <td>4</td>\n",
       "      <td>12/20/2019</td>\n",
       "      <td>1</td>\n",
       "      <td>8</td>\n",
       "      <td>1</td>\n",
       "      <td>1</td>\n",
       "      <td>0</td>\n",
       "      <td></td>\n",
       "      <td></td>\n",
       "      <td>...</td>\n",
       "      <td></td>\n",
       "      <td>0</td>\n",
       "      <td>0</td>\n",
       "      <td>1</td>\n",
       "      <td>0</td>\n",
       "      <td></td>\n",
       "      <td></td>\n",
       "      <td></td>\n",
       "      <td>2</td>\n",
       "      <td></td>\n",
       "    </tr>\n",
       "    <tr>\n",
       "      <th>181882</th>\n",
       "      <td>ZARUMILLA</td>\n",
       "      <td>1</td>\n",
       "      <td>12/30/2019</td>\n",
       "      <td>1</td>\n",
       "      <td>9</td>\n",
       "      <td>0</td>\n",
       "      <td></td>\n",
       "      <td>1</td>\n",
       "      <td>188</td>\n",
       "      <td>1</td>\n",
       "      <td>...</td>\n",
       "      <td></td>\n",
       "      <td>0</td>\n",
       "      <td>0</td>\n",
       "      <td>1</td>\n",
       "      <td>0</td>\n",
       "      <td></td>\n",
       "      <td></td>\n",
       "      <td></td>\n",
       "      <td>1</td>\n",
       "      <td></td>\n",
       "    </tr>\n",
       "    <tr>\n",
       "      <th>181883</th>\n",
       "      <td>ZARUMILLA</td>\n",
       "      <td>4</td>\n",
       "      <td>12/30/2019</td>\n",
       "      <td>1</td>\n",
       "      <td>8</td>\n",
       "      <td>1</td>\n",
       "      <td>1</td>\n",
       "      <td>0</td>\n",
       "      <td></td>\n",
       "      <td></td>\n",
       "      <td>...</td>\n",
       "      <td></td>\n",
       "      <td>0</td>\n",
       "      <td>0</td>\n",
       "      <td>1</td>\n",
       "      <td>0</td>\n",
       "      <td></td>\n",
       "      <td></td>\n",
       "      <td></td>\n",
       "      <td>1</td>\n",
       "      <td></td>\n",
       "    </tr>\n",
       "    <tr>\n",
       "      <th>181884</th>\n",
       "      <td>ZARUMILLA</td>\n",
       "      <td>4</td>\n",
       "      <td>12/31/2019</td>\n",
       "      <td>1</td>\n",
       "      <td>8</td>\n",
       "      <td>1</td>\n",
       "      <td>1</td>\n",
       "      <td>0</td>\n",
       "      <td></td>\n",
       "      <td></td>\n",
       "      <td>...</td>\n",
       "      <td></td>\n",
       "      <td>0</td>\n",
       "      <td>0</td>\n",
       "      <td>1</td>\n",
       "      <td>0</td>\n",
       "      <td></td>\n",
       "      <td></td>\n",
       "      <td></td>\n",
       "      <td>2</td>\n",
       "      <td></td>\n",
       "    </tr>\n",
       "  </tbody>\n",
       "</table>\n",
       "<p>181885 rows × 184 columns</p>\n",
       "</div>"
      ],
      "text/plain": [
       "              CEM  CONDICION FECHA_INGRESO  INFORMANTE  FORMA_INGRESO  \\\n",
       "0            ANTA          1    06/06/2019           1              1   \n",
       "1         PARCONA          1    10/29/2019           1              1   \n",
       "2         PARCONA          2    10/29/2019           1              1   \n",
       "3         PARCONA          2    10/29/2019           1              1   \n",
       "4         PARCONA          2    10/29/2019           1              1   \n",
       "...           ...        ...           ...         ...            ...   \n",
       "181880  ZARUMILLA          4    12/20/2019           1              8   \n",
       "181881  ZARUMILLA          4    12/20/2019           1              8   \n",
       "181882  ZARUMILLA          1    12/30/2019           1              9   \n",
       "181883  ZARUMILLA          4    12/30/2019           1              8   \n",
       "181884  ZARUMILLA          4    12/31/2019           1              8   \n",
       "\n",
       "        VICTIMA_PERUANA VICTIMA_CUENTA_DNI  VICTIMA_EXTRANJERA  \\\n",
       "0                     1                  1                   0   \n",
       "1                     1                  1                   0   \n",
       "2                     1                  1                   0   \n",
       "3                     1                  1                   0   \n",
       "4                     1                  1                   0   \n",
       "...                 ...                ...                 ...   \n",
       "181880                0                                      1   \n",
       "181881                1                  1                   0   \n",
       "181882                0                                      1   \n",
       "181883                1                  1                   0   \n",
       "181884                1                  1                   0   \n",
       "\n",
       "       VICTIMA_PAIS_EXTRANJERO VICTIMA_CARNE_EXTRANJERIA  ... DESEA_DENUNCIAR  \\\n",
       "0                                                         ...               1   \n",
       "1                                                         ...               1   \n",
       "2                                                         ...               1   \n",
       "3                                                         ...               1   \n",
       "4                                                         ...               1   \n",
       "...                        ...                       ...  ...             ...   \n",
       "181880                      52                         1  ...                   \n",
       "181881                                                    ...                   \n",
       "181882                     188                         1  ...                   \n",
       "181883                                                    ...                   \n",
       "181884                                                    ...                   \n",
       "\n",
       "       CUENTA_MEDIDAS_PROTECCION CUENTA_MEDIDAS_CAUTELARES  \\\n",
       "0                                                            \n",
       "1                                                            \n",
       "2                                                            \n",
       "3                                                            \n",
       "4                                                            \n",
       "...                          ...                       ...   \n",
       "181880                         0                         0   \n",
       "181881                         0                         0   \n",
       "181882                         0                         0   \n",
       "181883                         0                         0   \n",
       "181884                         0                         0   \n",
       "\n",
       "       DESEA_PATROCINIO_LEGAL CASO_TENTATIVA_DE_FEMINICIDIO  \\\n",
       "0                           1                             0   \n",
       "1                           1                             0   \n",
       "2                           1                             0   \n",
       "3                           1                             0   \n",
       "4                           1                             0   \n",
       "...                       ...                           ...   \n",
       "181880                      1                             0   \n",
       "181881                      1                             0   \n",
       "181882                      1                             0   \n",
       "181883                      1                             0   \n",
       "181884                      1                             0   \n",
       "\n",
       "       LUGAR_TENTATIVA_DE_FEMINICIDIO MODALIDAD_TENTATIVA_DE_FEMINICIDIO  \\\n",
       "0                                                                          \n",
       "1                                                                          \n",
       "2                                                                          \n",
       "3                                                                          \n",
       "4                                                                          \n",
       "...                               ...                                ...   \n",
       "181880                                                                     \n",
       "181881                                                                     \n",
       "181882                                                                     \n",
       "181883                                                                     \n",
       "181884                                                                     \n",
       "\n",
       "        SITUACION_AGRESOR  TIPO_VIOLENCIA filter_$  \n",
       "0                                       1        1  \n",
       "1                                       1        1  \n",
       "2                                       1        1  \n",
       "3                                       1        1  \n",
       "4                                       1        1  \n",
       "...                   ...             ...      ...  \n",
       "181880                                  2           \n",
       "181881                                  2           \n",
       "181882                                  1           \n",
       "181883                                  1           \n",
       "181884                                  2           \n",
       "\n",
       "[181885 rows x 184 columns]"
      ]
     },
     "execution_count": 50,
     "metadata": {},
     "output_type": "execute_result"
    }
   ],
   "source": [
    "cem_2019_df"
   ]
  },
  {
   "cell_type": "code",
   "execution_count": 55,
   "metadata": {
    "scrolled": true
   },
   "outputs": [
    {
     "name": "stdout",
     "output_type": "stream",
     "text": [
      "Columna VICTIMA_PAIS_EXTRANJERO tiene 179739 ' '\n",
      "Columna VICTIMA_CARNE_EXTRANJERIA tiene 179738 ' '\n",
      "Columna VICTIMA_SOLICITANTE_REFUGIO tiene 181751 ' '\n",
      "Columna VICTIMA_REFUGIADO tiene 181770 ' '\n",
      "Columna VICTIMA_SOLICITANTE_ASILO tiene 181881 ' '\n",
      "Columna VICTIMA_ASILADO tiene 181884 ' '\n",
      "Columna VICTIMA_APATRIDA tiene 181883 ' '\n",
      "Columna VICTIMA_OTRA_SIT_MIGR tiene 181572 ' '\n",
      "Columna VICTIMA_NINGUNA_SIT_MIGR tiene 181257 ' '\n",
      "Columna OTRA_LENGUA_NATIVA_VICTIMA tiene 181753 ' '\n",
      "Columna PUEBLO_INDIGENA_AMAZONIA tiene 181149 ' '\n",
      "Columna PUEBLO_INDIGENA_ANDES tiene 181882 ' '\n",
      "Columna ESSALUD_SEGURO tiene 147195 ' '\n",
      "Columna OTRO_SEGURO tiene 178037 ' '\n",
      "Columna AGRESOR_PAIS_EXTRANJERO tiene 180164 ' '\n",
      "Columna AGRESOR_CARNE_EXTRANJERIA tiene 180163 ' '\n",
      "Columna AGRESOR_SOLICITANTE_REFUGIO tiene 181799 ' '\n",
      "Columna AGRESOR_REFUGIADO tiene 181803 ' '\n",
      "Columna AGRESOR_SOLICITANTE_ASILO tiene 181880 ' '\n",
      "Columna AGRESOR_ASILADO tiene 181884 ' '\n",
      "Columna AGRESOR_APATRIDA tiene 181880 ' '\n",
      "Columna AGRESOR_OTRA_SIT_MIGR tiene 181674 ' '\n",
      "Columna AGRESOR_NINGUNA_SIT_MIGR tiene 181362 ' '\n",
      "Columna SIN_VINCULO tiene 167990 ' '\n",
      "Columna PERTURBACION_POSESION tiene 180177 ' '\n",
      "Columna MENOSCABO_TENENCIA_BIENES tiene 181104 ' '\n",
      "Columna PERDIDA_DERECHOS_PATRIMONIALES tiene 179481 ' '\n",
      "Columna LIMITACION_RECURSOS_ECONOMICOS tiene 176454 ' '\n",
      "Columna PRIVACION_MEDIOS_INDISPENSABLES tiene 179580 ' '\n",
      "Columna INCUMPLIMIENTO_OBLIGACION_ALIMENTARIA tiene 176208 ' '\n",
      "Columna CONTROL_DE_INGRESOS tiene 181052 ' '\n",
      "Columna PERCEPCION_SALARIO_MENOR tiene 181832 ' '\n",
      "Columna OTRA_VECON_PATRIM tiene 181304 ' '\n",
      "Columna VIOLENCIA_RACIAL tiene 180220 ' '\n",
      "Columna INDIFERENCIA tiene 169967 ' '\n",
      "Columna DISCR_ORIENTACION_SEXUAL tiene 181606 ' '\n",
      "Columna DISCR_GENERO tiene 176752 ' '\n",
      "Columna DISCR_IDENTIDAD_GENERO tiene 181304 ' '\n",
      "Columna RECHAZO tiene 160694 ' '\n",
      "Columna AMENAZA_QUITAR_HIJOS tiene 167713 ' '\n",
      "Columna OTRAS_AMENAZAS tiene 154632 ' '\n",
      "Columna PROHIBE_RECIBIR_VISITAS tiene 177883 ' '\n",
      "Columna PROHIBE_ESTUDIAR_TRABAJAR_SALIR tiene 177388 ' '\n",
      "Columna ROMPE_DESTRUYE_COSAS tiene 173284 ' '\n",
      "Columna VIGILANCIA_CONTINUA_PERSECUCION tiene 174081 ' '\n",
      "Columna BOTAR_CASA tiene 165245 ' '\n",
      "Columna AMENAZA_DE_MUERTE tiene 160004 ' '\n",
      "Columna ABANDONO tiene 178480 ' '\n",
      "Columna OTRA_VPSI tiene 156095 ' '\n",
      "Columna PUNTAPIES_PATADAS tiene 166424 ' '\n",
      "Columna PUÑETAZOS tiene 156492 ' '\n",
      "Columna BOFETADAS tiene 164078 ' '\n",
      "Columna JALONES_CABELLO tiene 163720 ' '\n",
      "Columna OTRAS_AGRESIONES tiene 175069 ' '\n",
      "Columna EMPUJONES tiene 155784 ' '\n",
      "Columna GOLPES_CON_PALOS tiene 178560 ' '\n",
      "Columna LATIGAZO tiene 177167 ' '\n",
      "Columna AHORCAMIENTO tiene 176191 ' '\n",
      "Columna HERIDAS_CON_ARMAS tiene 180699 ' '\n",
      "Columna GOLPES_CON_OBJETOS_CONTUNDENTES tiene 179953 ' '\n",
      "Columna NEGLIGENCIA tiene 174412 ' '\n",
      "Columna OTRA_VFIS tiene 170768 ' '\n",
      "Columna HOSTIGAMIENTO_SEXUAL tiene 180757 ' '\n",
      "Columna ACOSO_SEX_ESP_PUB tiene 181096 ' '\n",
      "Columna VIOLACION tiene 174004 ' '\n",
      "Columna ACTOS_CONTRA_EL_PUDOR tiene 175166 ' '\n",
      "Columna TRATA_CON_FINES_EXPLOTACION_SEXUAL tiene 181812 ' '\n",
      "Columna EXPLOTACION_SEXUAL tiene 181859 ' '\n",
      "Columna PORNOGRAFIA tiene 181812 ' '\n",
      "Columna OTRA_VSEX tiene 179336 ' '\n",
      "Columna VIOLENCIA_OBSTETRICA tiene 181847 ' '\n",
      "Columna ACOSO_POLITICO tiene 181877 ' '\n",
      "Columna VIOLENCIA_CONFLICTOS_SOCIALES tiene 181873 ' '\n",
      "Columna VIOLENCIA_CONFLICTO_ARMADO tiene 181881 ' '\n",
      "Columna VIOLENCIA_TICS tiene 181582 ' '\n",
      "Columna VIOLENCIA_CARCELARIA tiene 181858 ' '\n",
      "Columna TRATAMIENTO_PSICOLOGICO tiene 173880 ' '\n",
      "Columna TRATAMIENTO_PSIQUIATRICO tiene 180613 ' '\n",
      "Columna ATENCION_MEDICA tiene 178313 ' '\n",
      "Columna OTRO_TRATAMIENTO tiene 180995 ' '\n",
      "Columna FACTOR_AGRESOR_CONSUME_DROGA tiene 173268 ' '\n",
      "Columna FACTOR_VICTIMA_DISCAPACIDAD tiene 179291 ' '\n",
      "Columna FACTOR_VICTIMA_ABUSO_CONSUMO_ALCOHOL tiene 181178 ' '\n",
      "Columna FACTOR_VICTIMA_CONSUME_DROGAS tiene 181571 ' '\n",
      "Columna VULNERABILIDAD_VICTIMA_LGTBI tiene 181787 ' '\n",
      "Columna VULNERABILIDAD_VICTIMA_VIH tiene 181755 ' '\n",
      "Columna VICTIMA_DISCAPACIDAD_FISICA tiene 180741 ' '\n",
      "Columna VICTIMA_DISCAPACIDAD_VISUAL tiene 181462 ' '\n",
      "Columna VICTIMA_DISCAPACIDAD_AUDITIVA tiene 181494 ' '\n",
      "Columna VICTIMA_DISCAPACIDAD_PSICOSOCIAL tiene 181662 ' '\n",
      "Columna VICTIMA_DISCAPACIDAD_INTELECTUAL tiene 181000 ' '\n",
      "Columna VICTIMA_DISCAPACIDAD_SORDOCIEGO tiene 181815 ' '\n",
      "Columna VICTIMA_DISCAPACIDAD_MUDO tiene 181744 ' '\n",
      "Columna VINCULO_AFECTIVO_AMIGOS tiene 173166 ' '\n",
      "Columna VINCULO_AFECTIVO_VECINOS tiene 177494 ' '\n",
      "Columna VINCULO_AFECTIVO_ASOCIACIONES tiene 181521 ' '\n",
      "Columna VINCULO_AFECTIVO_ORGANIZACIONES_CIVICAS tiene 181113 ' '\n",
      "Columna VINCULO_AFECTIVO_COMPAÑEROS_TRABAJO tiene 181200 ' '\n",
      "Columna VINCULO_AFECTIVO_OTRO tiene 180105 ' '\n",
      "Columna VINCULO_AFECTIVO_NINGUNO tiene 171255 ' '\n",
      "Columna LUGAR_TENTATIVA_DE_FEMINICIDIO tiene 181481 ' '\n",
      "Columna MODALIDAD_TENTATIVA_DE_FEMINICIDIO tiene 181481 ' '\n",
      "Columna SITUACION_AGRESOR tiene 181481 ' '\n",
      "Columna filter_$ tiene 181877 ' '\n"
     ]
    }
   ],
   "source": [
    "show_columns_names_with_missing_values(cem_2019_df)"
   ]
  },
  {
   "cell_type": "code",
   "execution_count": 51,
   "metadata": {
    "scrolled": true
   },
   "outputs": [
    {
     "data": {
      "text/html": [
       "<div>\n",
       "<style scoped>\n",
       "    .dataframe tbody tr th:only-of-type {\n",
       "        vertical-align: middle;\n",
       "    }\n",
       "\n",
       "    .dataframe tbody tr th {\n",
       "        vertical-align: top;\n",
       "    }\n",
       "\n",
       "    .dataframe thead th {\n",
       "        text-align: right;\n",
       "    }\n",
       "</style>\n",
       "<table border=\"1\" class=\"dataframe\">\n",
       "  <thead>\n",
       "    <tr style=\"text-align: right;\">\n",
       "      <th></th>\n",
       "      <th>CEM</th>\n",
       "      <th>CONDICION</th>\n",
       "      <th>FECHA_INGRESO</th>\n",
       "      <th>INFORMANTE</th>\n",
       "      <th>FORMA_INGRESO</th>\n",
       "      <th>VICTIMA_PERUANA</th>\n",
       "      <th>VICTIMA_CUENTA_DNI</th>\n",
       "      <th>VICTIMA_EXTRANJERA</th>\n",
       "      <th>VICTIMA_PAIS_EXTRANJERO</th>\n",
       "      <th>VICTIMA_CARNE_EXTRANJERIA</th>\n",
       "      <th>...</th>\n",
       "      <th>INTERPUSO_DENUNCIA</th>\n",
       "      <th>DONDE_INTERPUSO_DENUNCIA</th>\n",
       "      <th>DESEA_DENUNCIAR</th>\n",
       "      <th>CUENTA_MEDIDAS_PROTECCION</th>\n",
       "      <th>CUENTA_MEDIDAS_CAUTELARES</th>\n",
       "      <th>DESEA_PATROCINIO_LEGAL</th>\n",
       "      <th>CASO_TENTATIVA_DE_FEMINICIDIO</th>\n",
       "      <th>LUGAR_TENTATIVA_DE_FEMINICIDIO</th>\n",
       "      <th>SITUACION_AGRESOR</th>\n",
       "      <th>TIPO_VIOLENCIA</th>\n",
       "    </tr>\n",
       "  </thead>\n",
       "  <tbody>\n",
       "    <tr>\n",
       "      <th>0</th>\n",
       "      <td>ABANCAY</td>\n",
       "      <td>3</td>\n",
       "      <td>01/08/2020</td>\n",
       "      <td>1</td>\n",
       "      <td>10</td>\n",
       "      <td>1</td>\n",
       "      <td>1</td>\n",
       "      <td>0</td>\n",
       "      <td></td>\n",
       "      <td></td>\n",
       "      <td>...</td>\n",
       "      <td>1</td>\n",
       "      <td>1</td>\n",
       "      <td></td>\n",
       "      <td>0</td>\n",
       "      <td>0</td>\n",
       "      <td>1</td>\n",
       "      <td>0</td>\n",
       "      <td></td>\n",
       "      <td></td>\n",
       "      <td>2</td>\n",
       "    </tr>\n",
       "    <tr>\n",
       "      <th>1</th>\n",
       "      <td>ABANCAY</td>\n",
       "      <td>1</td>\n",
       "      <td>01/10/2020</td>\n",
       "      <td>1</td>\n",
       "      <td>1</td>\n",
       "      <td>1</td>\n",
       "      <td>1</td>\n",
       "      <td>0</td>\n",
       "      <td></td>\n",
       "      <td></td>\n",
       "      <td>...</td>\n",
       "      <td>0</td>\n",
       "      <td></td>\n",
       "      <td>1</td>\n",
       "      <td></td>\n",
       "      <td></td>\n",
       "      <td>1</td>\n",
       "      <td>0</td>\n",
       "      <td></td>\n",
       "      <td></td>\n",
       "      <td>1</td>\n",
       "    </tr>\n",
       "    <tr>\n",
       "      <th>2</th>\n",
       "      <td>ABANCAY</td>\n",
       "      <td>2</td>\n",
       "      <td>01/10/2020</td>\n",
       "      <td>1</td>\n",
       "      <td>10</td>\n",
       "      <td>1</td>\n",
       "      <td>1</td>\n",
       "      <td>0</td>\n",
       "      <td></td>\n",
       "      <td></td>\n",
       "      <td>...</td>\n",
       "      <td>1</td>\n",
       "      <td>1</td>\n",
       "      <td></td>\n",
       "      <td>1</td>\n",
       "      <td>0</td>\n",
       "      <td>1</td>\n",
       "      <td>0</td>\n",
       "      <td></td>\n",
       "      <td></td>\n",
       "      <td>1</td>\n",
       "    </tr>\n",
       "    <tr>\n",
       "      <th>3</th>\n",
       "      <td>ABANCAY</td>\n",
       "      <td>4</td>\n",
       "      <td>01/13/2020</td>\n",
       "      <td>0</td>\n",
       "      <td>16</td>\n",
       "      <td>1</td>\n",
       "      <td>1</td>\n",
       "      <td>0</td>\n",
       "      <td></td>\n",
       "      <td></td>\n",
       "      <td>...</td>\n",
       "      <td>0</td>\n",
       "      <td></td>\n",
       "      <td>1</td>\n",
       "      <td></td>\n",
       "      <td></td>\n",
       "      <td>1</td>\n",
       "      <td>0</td>\n",
       "      <td></td>\n",
       "      <td></td>\n",
       "      <td>3</td>\n",
       "    </tr>\n",
       "    <tr>\n",
       "      <th>4</th>\n",
       "      <td>ABANCAY</td>\n",
       "      <td>1</td>\n",
       "      <td>01/14/2020</td>\n",
       "      <td>1</td>\n",
       "      <td>11</td>\n",
       "      <td>1</td>\n",
       "      <td>1</td>\n",
       "      <td>0</td>\n",
       "      <td></td>\n",
       "      <td></td>\n",
       "      <td>...</td>\n",
       "      <td>1</td>\n",
       "      <td>2</td>\n",
       "      <td></td>\n",
       "      <td>0</td>\n",
       "      <td>0</td>\n",
       "      <td>1</td>\n",
       "      <td>0</td>\n",
       "      <td></td>\n",
       "      <td></td>\n",
       "      <td>3</td>\n",
       "    </tr>\n",
       "    <tr>\n",
       "      <th>...</th>\n",
       "      <td>...</td>\n",
       "      <td>...</td>\n",
       "      <td>...</td>\n",
       "      <td>...</td>\n",
       "      <td>...</td>\n",
       "      <td>...</td>\n",
       "      <td>...</td>\n",
       "      <td>...</td>\n",
       "      <td>...</td>\n",
       "      <td>...</td>\n",
       "      <td>...</td>\n",
       "      <td>...</td>\n",
       "      <td>...</td>\n",
       "      <td>...</td>\n",
       "      <td>...</td>\n",
       "      <td>...</td>\n",
       "      <td>...</td>\n",
       "      <td>...</td>\n",
       "      <td>...</td>\n",
       "      <td>...</td>\n",
       "      <td>...</td>\n",
       "    </tr>\n",
       "    <tr>\n",
       "      <th>114490</th>\n",
       "      <td>ZARUMILLA</td>\n",
       "      <td>1</td>\n",
       "      <td>12/29/2020</td>\n",
       "      <td>1</td>\n",
       "      <td>1</td>\n",
       "      <td>1</td>\n",
       "      <td>1</td>\n",
       "      <td>0</td>\n",
       "      <td></td>\n",
       "      <td></td>\n",
       "      <td>...</td>\n",
       "      <td>0</td>\n",
       "      <td></td>\n",
       "      <td>1</td>\n",
       "      <td></td>\n",
       "      <td></td>\n",
       "      <td>1</td>\n",
       "      <td>0</td>\n",
       "      <td></td>\n",
       "      <td></td>\n",
       "      <td>1</td>\n",
       "    </tr>\n",
       "    <tr>\n",
       "      <th>114491</th>\n",
       "      <td>ZARUMILLA</td>\n",
       "      <td>1</td>\n",
       "      <td>12/29/2020</td>\n",
       "      <td>1</td>\n",
       "      <td>10</td>\n",
       "      <td>1</td>\n",
       "      <td>1</td>\n",
       "      <td>0</td>\n",
       "      <td></td>\n",
       "      <td></td>\n",
       "      <td>...</td>\n",
       "      <td>1</td>\n",
       "      <td>1</td>\n",
       "      <td></td>\n",
       "      <td>0</td>\n",
       "      <td>0</td>\n",
       "      <td>1</td>\n",
       "      <td>0</td>\n",
       "      <td></td>\n",
       "      <td></td>\n",
       "      <td>1</td>\n",
       "    </tr>\n",
       "    <tr>\n",
       "      <th>114492</th>\n",
       "      <td>ZARUMILLA</td>\n",
       "      <td>4</td>\n",
       "      <td>12/30/2020</td>\n",
       "      <td>1</td>\n",
       "      <td>16</td>\n",
       "      <td>1</td>\n",
       "      <td>1</td>\n",
       "      <td>0</td>\n",
       "      <td></td>\n",
       "      <td></td>\n",
       "      <td>...</td>\n",
       "      <td>1</td>\n",
       "      <td>1</td>\n",
       "      <td></td>\n",
       "      <td>0</td>\n",
       "      <td>0</td>\n",
       "      <td>1</td>\n",
       "      <td>0</td>\n",
       "      <td></td>\n",
       "      <td></td>\n",
       "      <td>2</td>\n",
       "    </tr>\n",
       "    <tr>\n",
       "      <th>114493</th>\n",
       "      <td>ZARUMILLA</td>\n",
       "      <td>4</td>\n",
       "      <td>12/30/2020</td>\n",
       "      <td>1</td>\n",
       "      <td>16</td>\n",
       "      <td>1</td>\n",
       "      <td>1</td>\n",
       "      <td>0</td>\n",
       "      <td></td>\n",
       "      <td></td>\n",
       "      <td>...</td>\n",
       "      <td>1</td>\n",
       "      <td>1</td>\n",
       "      <td></td>\n",
       "      <td>0</td>\n",
       "      <td>0</td>\n",
       "      <td>1</td>\n",
       "      <td>0</td>\n",
       "      <td></td>\n",
       "      <td></td>\n",
       "      <td>2</td>\n",
       "    </tr>\n",
       "    <tr>\n",
       "      <th>114494</th>\n",
       "      <td>ZARUMILLA</td>\n",
       "      <td>4</td>\n",
       "      <td>12/30/2020</td>\n",
       "      <td>1</td>\n",
       "      <td>16</td>\n",
       "      <td>1</td>\n",
       "      <td>1</td>\n",
       "      <td>0</td>\n",
       "      <td></td>\n",
       "      <td></td>\n",
       "      <td>...</td>\n",
       "      <td>1</td>\n",
       "      <td>1</td>\n",
       "      <td></td>\n",
       "      <td>0</td>\n",
       "      <td>0</td>\n",
       "      <td>1</td>\n",
       "      <td>0</td>\n",
       "      <td></td>\n",
       "      <td></td>\n",
       "      <td>2</td>\n",
       "    </tr>\n",
       "  </tbody>\n",
       "</table>\n",
       "<p>114495 rows × 158 columns</p>\n",
       "</div>"
      ],
      "text/plain": [
       "              CEM  CONDICION FECHA_INGRESO  INFORMANTE  FORMA_INGRESO  \\\n",
       "0         ABANCAY          3    01/08/2020           1             10   \n",
       "1         ABANCAY          1    01/10/2020           1              1   \n",
       "2         ABANCAY          2    01/10/2020           1             10   \n",
       "3         ABANCAY          4    01/13/2020           0             16   \n",
       "4         ABANCAY          1    01/14/2020           1             11   \n",
       "...           ...        ...           ...         ...            ...   \n",
       "114490  ZARUMILLA          1    12/29/2020           1              1   \n",
       "114491  ZARUMILLA          1    12/29/2020           1             10   \n",
       "114492  ZARUMILLA          4    12/30/2020           1             16   \n",
       "114493  ZARUMILLA          4    12/30/2020           1             16   \n",
       "114494  ZARUMILLA          4    12/30/2020           1             16   \n",
       "\n",
       "        VICTIMA_PERUANA VICTIMA_CUENTA_DNI  VICTIMA_EXTRANJERA  \\\n",
       "0                     1                  1                   0   \n",
       "1                     1                  1                   0   \n",
       "2                     1                  1                   0   \n",
       "3                     1                  1                   0   \n",
       "4                     1                  1                   0   \n",
       "...                 ...                ...                 ...   \n",
       "114490                1                  1                   0   \n",
       "114491                1                  1                   0   \n",
       "114492                1                  1                   0   \n",
       "114493                1                  1                   0   \n",
       "114494                1                  1                   0   \n",
       "\n",
       "       VICTIMA_PAIS_EXTRANJERO VICTIMA_CARNE_EXTRANJERIA  ...  \\\n",
       "0                                                         ...   \n",
       "1                                                         ...   \n",
       "2                                                         ...   \n",
       "3                                                         ...   \n",
       "4                                                         ...   \n",
       "...                        ...                       ...  ...   \n",
       "114490                                                    ...   \n",
       "114491                                                    ...   \n",
       "114492                                                    ...   \n",
       "114493                                                    ...   \n",
       "114494                                                    ...   \n",
       "\n",
       "       INTERPUSO_DENUNCIA DONDE_INTERPUSO_DENUNCIA DESEA_DENUNCIAR  \\\n",
       "0                       1                        1                   \n",
       "1                       0                                        1   \n",
       "2                       1                        1                   \n",
       "3                       0                                        1   \n",
       "4                       1                        2                   \n",
       "...                   ...                      ...             ...   \n",
       "114490                  0                                        1   \n",
       "114491                  1                        1                   \n",
       "114492                  1                        1                   \n",
       "114493                  1                        1                   \n",
       "114494                  1                        1                   \n",
       "\n",
       "       CUENTA_MEDIDAS_PROTECCION CUENTA_MEDIDAS_CAUTELARES  \\\n",
       "0                              0                         0   \n",
       "1                                                            \n",
       "2                              1                         0   \n",
       "3                                                            \n",
       "4                              0                         0   \n",
       "...                          ...                       ...   \n",
       "114490                                                       \n",
       "114491                         0                         0   \n",
       "114492                         0                         0   \n",
       "114493                         0                         0   \n",
       "114494                         0                         0   \n",
       "\n",
       "       DESEA_PATROCINIO_LEGAL CASO_TENTATIVA_DE_FEMINICIDIO  \\\n",
       "0                           1                             0   \n",
       "1                           1                             0   \n",
       "2                           1                             0   \n",
       "3                           1                             0   \n",
       "4                           1                             0   \n",
       "...                       ...                           ...   \n",
       "114490                      1                             0   \n",
       "114491                      1                             0   \n",
       "114492                      1                             0   \n",
       "114493                      1                             0   \n",
       "114494                      1                             0   \n",
       "\n",
       "        LUGAR_TENTATIVA_DE_FEMINICIDIO  SITUACION_AGRESOR TIPO_VIOLENCIA  \n",
       "0                                                                      2  \n",
       "1                                                                      1  \n",
       "2                                                                      1  \n",
       "3                                                                      3  \n",
       "4                                                                      3  \n",
       "...                                ...                ...            ...  \n",
       "114490                                                                 1  \n",
       "114491                                                                 1  \n",
       "114492                                                                 2  \n",
       "114493                                                                 2  \n",
       "114494                                                                 2  \n",
       "\n",
       "[114495 rows x 158 columns]"
      ]
     },
     "execution_count": 51,
     "metadata": {},
     "output_type": "execute_result"
    }
   ],
   "source": [
    "cem_2020_df"
   ]
  },
  {
   "cell_type": "code",
   "execution_count": 56,
   "metadata": {
    "scrolled": true
   },
   "outputs": [
    {
     "name": "stdout",
     "output_type": "stream",
     "text": [
      "Columna VICTIMA_PAIS_EXTRANJERO tiene 112933 ' '\n",
      "Columna VICTIMA_CARNE_EXTRANJERIA tiene 112933 ' '\n",
      "Columna VICTIMA_SOLICITANTE_REFUGIO tiene 114362 ' '\n",
      "Columna VICTIMA_REFUGIADO tiene 114431 ' '\n",
      "Columna VICTIMA_SOLICITANTE_ASILO tiene 114489 ' '\n",
      "Columna VICTIMA_ASILADO tiene 114493 ' '\n",
      "Columna VICTIMA_APATRIDA tiene 114493 ' '\n",
      "Columna VICTIMA_OTRA_SIT_MIGR tiene 114326 ' '\n",
      "Columna VICTIMA_NINGUNA_SIT_MIGR tiene 114046 ' '\n",
      "Columna ESSALUD_SEGURO tiene 92717 ' '\n",
      "Columna OTRO_SEGURO tiene 111469 ' '\n",
      "Columna NINGUN_SEGURO tiene 93347 ' '\n",
      "Columna AGRESOR_PAIS_EXTRANJERO tiene 113270 ' '\n",
      "Columna AGRESOR_CARNE_EXTRANJERIA tiene 113135 ' '\n",
      "Columna AGRESOR_SOLICITANTE_REFUGIO tiene 114406 ' '\n",
      "Columna AGRESOR_REFUGIADO tiene 114448 ' '\n",
      "Columna AGRESOR_SOLICITANTE_ASILO tiene 114491 ' '\n",
      "Columna AGRESOR_ASILADO tiene 114495 ' '\n",
      "Columna AGRESOR_APATRIDA tiene 114493 ' '\n",
      "Columna AGRESOR_OTRA_SIT_MIGR tiene 114347 ' '\n",
      "Columna AGRESOR_NINGUNA_SIT_MIGR tiene 112804 ' '\n",
      "Columna SIN_VINCULO tiene 105001 ' '\n",
      "Columna PERTURBACION_POSESION tiene 113426 ' '\n",
      "Columna MENOSCABO_TENENCIA_BIENES tiene 114105 ' '\n",
      "Columna PERDIDA_DERECHOS_PATRIMONIALES tiene 113133 ' '\n",
      "Columna LIMITACION_RECURSOS_ECONOMICOS tiene 111667 ' '\n",
      "Columna PRIVACION_MEDIOS_INDISPENSABLES tiene 113330 ' '\n",
      "Columna INCUMPLIMIENTO_OBLIGACION_ALIMENTARIA tiene 111715 ' '\n",
      "Columna CONTROL_DE_INGRESOS tiene 114045 ' '\n",
      "Columna PERCEPCION_SALARIO_MENOR tiene 114459 ' '\n",
      "Columna OTRA_VECON_PATRIM tiene 114214 ' '\n",
      "Columna VIOLENCIA_RACIAL tiene 113639 ' '\n",
      "Columna INDIFERENCIA tiene 108948 ' '\n",
      "Columna DISCR_ORIENTACION_SEXUAL tiene 114310 ' '\n",
      "Columna DISCR_GENERO tiene 111789 ' '\n",
      "Columna DISCR_IDENTIDAD_GENERO tiene 114153 ' '\n",
      "Columna RECHAZO tiene 102561 ' '\n",
      "Columna AMENAZA_QUITAR_HIJOS tiene 106762 ' '\n",
      "Columna OTRAS_AMENAZAS tiene 97684 ' '\n",
      "Columna PROHIBE_RECIBIR_VISITAS tiene 112345 ' '\n",
      "Columna PROHIBE_ESTUDIAR_TRABAJAR_SALIR tiene 112201 ' '\n",
      "Columna ROMPE_DESTRUYE_COSAS tiene 109675 ' '\n",
      "Columna VIGILANCIA_CONTINUA_PERSECUCION tiene 110508 ' '\n",
      "Columna BOTAR_CASA tiene 104147 ' '\n",
      "Columna AMENAZA_DE_MUERTE tiene 101644 ' '\n",
      "Columna ABANDONO tiene 112708 ' '\n",
      "Columna OTRA_VPSI tiene 98803 ' '\n",
      "Columna PUNTAPIES_PATADAS tiene 105368 ' '\n",
      "Columna PUÑETAZOS tiene 99294 ' '\n",
      "Columna BOFETADAS tiene 104440 ' '\n",
      "Columna JALONES_CABELLO tiene 103967 ' '\n",
      "Columna OTRAS_AGRESIONES tiene 110546 ' '\n",
      "Columna EMPUJONES tiene 97870 ' '\n",
      "Columna GOLPES_CON_PALOS tiene 112479 ' '\n",
      "Columna LATIGAZO tiene 112052 ' '\n",
      "Columna AHORCAMIENTO tiene 111058 ' '\n",
      "Columna HERIDAS_CON_ARMAS tiene 113678 ' '\n",
      "Columna GOLPES_CON_OBJETOS_CONTUNDENTES tiene 113182 ' '\n",
      "Columna NEGLIGENCIA tiene 110060 ' '\n",
      "Columna OTRA_VFIS tiene 107749 ' '\n",
      "Columna HOSTIGAMIENTO_SEXUAL tiene 113868 ' '\n",
      "Columna ACOSO_SEX_ESP_PUB tiene 113968 ' '\n",
      "Columna VIOLACION tiene 108172 ' '\n",
      "Columna ACTOS_CONTRA_EL_PUDOR tiene 109068 ' '\n",
      "Columna TRATA_CON_FINES_EXPLOTACION_SEXUAL tiene 114464 ' '\n",
      "Columna EXPLOTACION_SEXUAL tiene 114482 ' '\n",
      "Columna PORNOGRAFIA tiene 114412 ' '\n",
      "Columna OTRA_VSEX tiene 112729 ' '\n",
      "Columna TRATAMIENTO_PSICOLOGICO tiene 110081 ' '\n",
      "Columna TRATAMIENTO_PSIQUIATRICO tiene 113788 ' '\n",
      "Columna ATENCION_MEDICA tiene 112475 ' '\n",
      "Columna OTRO_TRATAMIENTO tiene 113982 ' '\n",
      "Columna VINCULO_AFECTIVO_AMIGOS tiene 110042 ' '\n",
      "Columna VINCULO_AFECTIVO_VECINOS tiene 111960 ' '\n",
      "Columna VINCULO_AFECTIVO_ASOCIACIONES tiene 114355 ' '\n",
      "Columna VINCULO_AFECTIVO_ORGANIZACIONES_CIVICAS tiene 114094 ' '\n",
      "Columna VINCULO_AFECTIVO_COMPAÑEROS_TRABAJO tiene 114217 ' '\n",
      "Columna VINCULO_AFECTIVO_OTRO tiene 113626 ' '\n",
      "Columna VINCULO_AFECTIVO_NINGUNO tiene 107967 ' '\n",
      "Columna FACTOR_AGRESOR_CONSUME_DROGA tiene 108713 ' '\n",
      "Columna FACTOR_VICTIMA_DISCAPACIDAD tiene 112812 ' '\n",
      "Columna FACTOR_VICTIMA_ABUSO_CONSUMO_ALCOHOL tiene 114120 ' '\n",
      "Columna FACTOR_VICTIMA_CONSUME_DROGAS tiene 114340 ' '\n",
      "Columna VULNERABILIDAD_VICTIMA_LGTBI tiene 114437 ' '\n",
      "Columna VULNERABILIDAD_VICTIMA_VIH tiene 114424 ' '\n",
      "Columna VIOLENCIA_CARCELARIA tiene 114495 ' '\n",
      "Columna LUGAR_TENTATIVA_DE_FEMINICIDIO tiene 114172 ' '\n",
      "Columna SITUACION_AGRESOR tiene 114185 ' '\n"
     ]
    }
   ],
   "source": [
    "show_columns_names_with_missing_values(cem_2020_df)"
   ]
  },
  {
   "cell_type": "markdown",
   "metadata": {},
   "source": [
    "# PREPARAMOS DATOS PARA 2017"
   ]
  },
  {
   "cell_type": "code",
   "execution_count": 3,
   "metadata": {},
   "outputs": [
    {
     "name": "stdout",
     "output_type": "stream",
     "text": [
      "CEM\n",
      "CONDICION\n",
      "FECHA_INGRESO\n",
      "INFORMANTE\n",
      "FORMA_INGRESO\n",
      "VICTIMA_PERUANA\n",
      "VICTIMA_CUENTA_DNI\n",
      "VICTIMA_EXTRANJERA\n",
      "VICTIMA_PAIS_EXTRANJERO\n",
      "VICTIMA_CARNE_EXTRANJERIA\n",
      "VICTIMA_SOLICITANTE_REFUGIO\n",
      "VICTIMA_REFUGIADO\n",
      "VICTIMA_SOLICITANTE_ASILO\n",
      "VICTIMA_ASILADO\n",
      "VICTIMA_APATRIDA\n",
      "VICTIMA_OTRA_SIT_MIGR\n",
      "VICTIMA_NINGUNA_SIT_MIGR\n",
      "EDAD_VICTIMA\n",
      "SEXO_VICTIMA\n",
      "VICTIMA_GESTANDO\n",
      "HIJAS_VIVAS\n",
      "HIJOS_VIVOS\n",
      "LENGUA_MATERNA_VICTIMA\n",
      "ETNIA_VICTIMA\n",
      "DPTO_DOMICILIO\n",
      "PROV_DOMICILIO\n",
      "DIST_DOMICILIO\n",
      "AREA_RESIDENCIA_DOMICILIO\n",
      "ESTADO_CIVIL_VICTIMA\n",
      "NIVEL_EDUCATIVO_VICTIMA\n",
      "TRABAJA_VICTIMA\n",
      "OCUPACION_VICTIMA\n",
      "AGRESOR_PERUANO\n",
      "AGRESOR_CUENTA_DNI\n",
      "AGRESOR_EXTRANJERO\n",
      "AGRESOR_PAIS_EXTRANJERO\n",
      "AGRESOR_CARNE_EXTRANJERIA\n",
      "AGRESOR_SOLICITANTE_REFUGIO\n",
      "AGRESOR_REFUGIADO\n",
      "AGRESOR_SOLICITANTE_ASILO\n",
      "AGRESOR_ASILADO\n",
      "AGRESOR_APATRIDA\n",
      "AGRESOR_OTRA_SIT_MIGR\n",
      "AGRESOR_NINGUNA_SIT_MIGR\n",
      "VINCULO_AGRESOR_VICTIMA\n",
      "VINCULO_PAREJA\n",
      "VINCULO_FAMILIAR\n",
      "SIN_VINCULO\n",
      "AGRESOR_VIVE_CASA_VICTIMA\n",
      "EDAD_AGRESOR\n",
      "SEXO_AGRESOR\n",
      "NIVEL_EDUCATIVO_AGRESOR\n",
      "TRABAJA_AGRESOR\n",
      "OCUPACION_AGRESOR\n",
      "GRITOS_INSULTOS\n",
      "VIOLENCIA_RACIAL\n",
      "INDIFERENCIA\n",
      "DISCR_ORIENTACION_SEXUAL\n",
      "DISCR_GENERO\n",
      "DISCR_IDENTIDAD_GENERO\n",
      "RECHAZO\n",
      "DESVALORIZACION_HUMILLACION\n",
      "AMENAZA_QUITAR_HIJOS\n",
      "OTRAS_AMENAZAS\n",
      "PROHIBE_RECIBIR_VISITAS\n",
      "PROHIBE_ESTUDIAR_TRABAJAR_SALIR\n",
      "ROMPE_DESTRUYE_COSAS\n",
      "VIGILANCIA_CONTINUA_PERSECUCION\n",
      "BOTAR_CASA\n",
      "AMENAZA_DE_MUERTE\n",
      "ABANDONO\n",
      "OTRA_VPSI\n",
      "PUNTAPIES_PATADAS\n",
      "PUÑETAZOS\n",
      "BOFETADAS\n",
      "JALONES_CABELLO\n",
      "OTRAS_AGRESIONES\n",
      "EMPUJONES\n",
      "GOLPES_CON_PALOS\n",
      "LATIGAZO\n",
      "AHORCAMIENTO\n",
      "HERIDAS_CON_ARMAS\n",
      "GOLPES_CON_OBJETOS_CONTUNDENTES\n",
      "NEGLIGENCIA\n",
      "OTRA_VFIS\n",
      "PERTURBACION_POSESION\n",
      "MENOSCABO_TENENCIA_BIENES\n",
      "PERDIDA_DERECHOS_PATRIMONIALES\n",
      "LIMITACION_RECURSOS_ECONOMICOS\n",
      "PRIVACION_MEDIOS_INDISPENSABLES\n",
      "INCUMPLIMIENTO_OBLIGACION_ALIMENTARIA\n",
      "CONTROL_DE_INGRESOS\n",
      "PERCEPCION_SALARIO_MENOR\n",
      "OTRA_VECON_PATRIM\n",
      "ACOSO_SEXUAL\n",
      "OFENSAS_AL_PUDOR\n",
      "VIOLACION\n",
      "ACTOS_CONTRA_EL_PUDOR\n",
      "TRATA_CON_FINES_EXPLOTACION_SEXUAL\n",
      "EXPLOTACION_SEXUAL\n",
      "PORNOGRAFIA\n",
      "OTRA_VSEX\n",
      "DEPENDE_VICTIMA_FEMINICIDIO\n",
      "PRIMERA_VEZ_AGREDE\n",
      "N_AÑOS\n",
      "N_MESES\n",
      "N_SEMANAS\n",
      "FRECUENCIA_AGREDE\n",
      "TRATAMIENTO_PSICOLOGICO\n",
      "TRATAMIENTO_PSIQUIATRICO\n",
      "ATENCION_MEDICA\n",
      "OTRO_TRATAMIENTO\n",
      "NINGUN_TRATAMIENTO\n",
      "CONTINUA_RECIBIENDO_TRATAMIENTO\n",
      "FACTOR_AGRESOR_CONSUMO_ALCOHOL\n",
      "FACTOR_AGRESOR_CONSUME_DROGA\n",
      "FACTOR_VICTIMA_DISCAPACIDAD\n",
      "FACTOR_VICTIMA_ABUSO_CONSUMO_ALCOHOL\n",
      "FACTOR_VICTIMA_CONSUME_DROGAS\n",
      "FACTOR_VICTIMA_POBLACION_LGTBI\n",
      "VINCULO_AFECTIVO_FAMILIA\n",
      "VINCULO_AFECTIVO_AMIGOS\n",
      "VINCULO_AFECTIVO_VECINOS\n",
      "VINCULO_AFECTIVO_ASOCIACIONES\n",
      "VINCULO_AFECTIVO_ORGANIZACIONES_CIVICAS\n",
      "VINCULO_AFECTIVO_COMPAÑEROS_TRABAJO\n",
      "VINCULO_AFECTIVO_OTRO\n",
      "VINCULO_AFECTIVO_NINGUNO\n",
      "APOYO_EMOCIONAL\n",
      "APOYO_COGNITIVO\n",
      "APOYO_INSTRUMENTAL\n",
      "APOYO_MATERIAL\n",
      "NIVEL_DE_RIESGO_VICTIMA\n",
      "INTERPUSO_DENUNCIA\n",
      "DONDE_INTERPUSO_DENUNCIA\n",
      "DESEA_DENUNCIAR\n",
      "CUENTA_MEDIDAS_DE_PROTECCION\n",
      "CUENTA_MEDIDAS_DE_CAUTELARES\n",
      "DESEA_PATROCINIO_LEGAL\n",
      "CASO_TENTATIVA_DE_FEMINICIDIO\n",
      "LUGAR_TENTATIVA_DE_FEMINICIDIO\n",
      "SITUACION_AGRESOR\n",
      "TIPO_VIOLENCIA\n"
     ]
    }
   ],
   "source": [
    "for col in cem_2017_df.columns:\n",
    "    print(col)"
   ]
  },
  {
   "cell_type": "code",
   "execution_count": 66,
   "metadata": {
    "scrolled": true
   },
   "outputs": [
    {
     "data": {
      "text/plain": [
       "13    2.6%\n",
       "12    2.5%\n",
       "14    2.5%\n",
       "34    2.2%\n",
       "10    2.2%\n",
       "      ... \n",
       "95    0.0%\n",
       "94    0.0%\n",
       "97    0.0%\n",
       "98    0.0%\n",
       "99    0.0%\n",
       "Name: EDAD_VICTIMA, Length: 100, dtype: object"
      ]
     },
     "execution_count": 66,
     "metadata": {},
     "output_type": "execute_result"
    }
   ],
   "source": [
    "cem_2017_df['EDAD_VICTIMA'].value_counts(normalize=True).mul(100).round(1).astype(str) + '%'"
   ]
  },
  {
   "cell_type": "code",
   "execution_count": 36,
   "metadata": {
    "scrolled": true
   },
   "outputs": [
    {
     "data": {
      "text/plain": [
       "1    74.0%\n",
       "0    26.0%\n",
       "Name: INFORMANTE, dtype: object"
      ]
     },
     "execution_count": 36,
     "metadata": {},
     "output_type": "execute_result"
    }
   ],
   "source": [
    "cem_2017_df['INFORMANTE'].value_counts(normalize=True).mul(100).round(1).astype(str) + '%'"
   ]
  },
  {
   "cell_type": "code",
   "execution_count": 35,
   "metadata": {
    "scrolled": true
   },
   "outputs": [
    {
     "data": {
      "text/plain": [
       "1     54.6%\n",
       "7     28.1%\n",
       "5      5.0%\n",
       "4      3.6%\n",
       "9      2.4%\n",
       "8      2.1%\n",
       "2      1.5%\n",
       "3      1.4%\n",
       "10     1.1%\n",
       "12     0.3%\n",
       "6      0.0%\n",
       "11     0.0%\n",
       "Name: FORMA_INGRESO, dtype: object"
      ]
     },
     "execution_count": 35,
     "metadata": {},
     "output_type": "execute_result"
    }
   ],
   "source": [
    "cem_2017_df['FORMA_INGRESO'].value_counts(normalize=True).mul(100).round(1).astype(str) + '%'"
   ]
  },
  {
   "cell_type": "code",
   "execution_count": 38,
   "metadata": {
    "scrolled": true
   },
   "outputs": [
    {
     "data": {
      "text/plain": [
       "0    85.0%\n",
       "1    15.0%\n",
       "Name: SEXO_VICTIMA, dtype: object"
      ]
     },
     "execution_count": 38,
     "metadata": {},
     "output_type": "execute_result"
    }
   ],
   "source": [
    "cem_2017_df['SEXO_VICTIMA'].value_counts(normalize=True).mul(100).round(1).astype(str) + '%'"
   ]
  },
  {
   "cell_type": "code",
   "execution_count": 39,
   "metadata": {
    "scrolled": true
   },
   "outputs": [
    {
     "data": {
      "text/plain": [
       "0    53.0%\n",
       "1    24.4%\n",
       "2    13.3%\n",
       "3     5.6%\n",
       "4     2.3%\n",
       "5     0.9%\n",
       "6     0.3%\n",
       "7     0.1%\n",
       "8     0.1%\n",
       "9     0.0%\n",
       "Name: HIJAS_VIVAS, dtype: object"
      ]
     },
     "execution_count": 39,
     "metadata": {},
     "output_type": "execute_result"
    }
   ],
   "source": [
    "cem_2017_df['HIJAS_VIVAS'].value_counts(normalize=True).mul(100).round(1).astype(str) + '%'"
   ]
  },
  {
   "cell_type": "code",
   "execution_count": 41,
   "metadata": {
    "scrolled": true
   },
   "outputs": [
    {
     "data": {
      "text/plain": [
       "0    52.0%\n",
       "1    24.7%\n",
       "2    14.0%\n",
       "3     5.7%\n",
       "4     2.2%\n",
       "5     0.8%\n",
       "6     0.3%\n",
       "7     0.1%\n",
       "8     0.0%\n",
       "9     0.0%\n",
       "Name: HIJOS_VIVOS, dtype: object"
      ]
     },
     "execution_count": 41,
     "metadata": {},
     "output_type": "execute_result"
    }
   ],
   "source": [
    "cem_2017_df['HIJOS_VIVOS'].value_counts(normalize=True).mul(100).round(1).astype(str) + '%'"
   ]
  },
  {
   "cell_type": "code",
   "execution_count": 42,
   "metadata": {
    "scrolled": true
   },
   "outputs": [
    {
     "data": {
      "text/plain": [
       "6    75.6%\n",
       "1    10.5%\n",
       "8     8.1%\n",
       "5     3.1%\n",
       "2     1.3%\n",
       "3     1.1%\n",
       "4     0.3%\n",
       "7     0.0%\n",
       "Name: ETNIA_VICTIMA, dtype: object"
      ]
     },
     "execution_count": 42,
     "metadata": {},
     "output_type": "execute_result"
    }
   ],
   "source": [
    "cem_2017_df['ETNIA_VICTIMA'].value_counts(normalize=True).mul(100).round(1).astype(str) + '%'"
   ]
  },
  {
   "cell_type": "code",
   "execution_count": 43,
   "metadata": {
    "scrolled": true
   },
   "outputs": [
    {
     "data": {
      "text/plain": [
       "     77.9%\n",
       "1    22.1%\n",
       "Name: FACTOR_AGRESOR_CONSUMO_ALCOHOL, dtype: object"
      ]
     },
     "execution_count": 43,
     "metadata": {},
     "output_type": "execute_result"
    }
   ],
   "source": [
    "cem_2017_df['FACTOR_AGRESOR_CONSUMO_ALCOHOL'].value_counts(normalize=True).mul(100).round(1).astype(str) + '%'"
   ]
  },
  {
   "cell_type": "code",
   "execution_count": 44,
   "metadata": {
    "scrolled": true
   },
   "outputs": [
    {
     "data": {
      "text/plain": [
       "U    82.1%\n",
       "R    17.9%\n",
       "Name: AREA_RESIDENCIA_DOMICILIO, dtype: object"
      ]
     },
     "execution_count": 44,
     "metadata": {},
     "output_type": "execute_result"
    }
   ],
   "source": [
    "cem_2017_df['AREA_RESIDENCIA_DOMICILIO'].value_counts(normalize=True).mul(100).round(1).astype(str) + '%'"
   ]
  },
  {
   "cell_type": "code",
   "execution_count": 45,
   "metadata": {
    "scrolled": true
   },
   "outputs": [
    {
     "data": {
      "text/plain": [
       "1    80.8%\n",
       "2    16.5%\n",
       "4     1.9%\n",
       "3     0.8%\n",
       "Name: ESTADO_CIVIL_VICTIMA, dtype: object"
      ]
     },
     "execution_count": 45,
     "metadata": {},
     "output_type": "execute_result"
    }
   ],
   "source": [
    "cem_2017_df['ESTADO_CIVIL_VICTIMA'].value_counts(normalize=True).mul(100).round(1).astype(str) + '%'"
   ]
  },
  {
   "cell_type": "code",
   "execution_count": 46,
   "metadata": {
    "scrolled": true
   },
   "outputs": [
    {
     "data": {
      "text/plain": [
       "3     22.7%\n",
       "5     21.3%\n",
       "6     18.6%\n",
       "4      7.6%\n",
       "8      7.1%\n",
       "1      6.0%\n",
       "10     4.8%\n",
       "7      4.2%\n",
       "2      4.0%\n",
       "9      3.6%\n",
       "Name: NIVEL_EDUCATIVO_VICTIMA, dtype: object"
      ]
     },
     "execution_count": 46,
     "metadata": {},
     "output_type": "execute_result"
    }
   ],
   "source": [
    "cem_2017_df['NIVEL_EDUCATIVO_VICTIMA'].value_counts(normalize=True).mul(100).round(1).astype(str) + '%'"
   ]
  },
  {
   "cell_type": "code",
   "execution_count": 47,
   "metadata": {
    "scrolled": true
   },
   "outputs": [
    {
     "data": {
      "text/plain": [
       "0    67.8%\n",
       "1    32.2%\n",
       "Name: TRABAJA_VICTIMA, dtype: object"
      ]
     },
     "execution_count": 47,
     "metadata": {},
     "output_type": "execute_result"
    }
   ],
   "source": [
    "cem_2017_df['TRABAJA_VICTIMA'].value_counts(normalize=True).mul(100).round(1).astype(str) + '%'"
   ]
  },
  {
   "cell_type": "code",
   "execution_count": 48,
   "metadata": {
    "scrolled": true
   },
   "outputs": [
    {
     "data": {
      "text/plain": [
       "1    51.0%\n",
       "2    42.7%\n",
       "3     6.3%\n",
       "Name: VINCULO_AGRESOR_VICTIMA, dtype: object"
      ]
     },
     "execution_count": 48,
     "metadata": {},
     "output_type": "execute_result"
    }
   ],
   "source": [
    "cem_2017_df['VINCULO_AGRESOR_VICTIMA'].value_counts(normalize=True).mul(100).round(1).astype(str) + '%'"
   ]
  },
  {
   "cell_type": "code",
   "execution_count": 49,
   "metadata": {
    "scrolled": true
   },
   "outputs": [
    {
     "data": {
      "text/plain": [
       "1    85.9%\n",
       "0    14.1%\n",
       "Name: SEXO_AGRESOR, dtype: object"
      ]
     },
     "execution_count": 49,
     "metadata": {},
     "output_type": "execute_result"
    }
   ],
   "source": [
    "cem_2017_df['SEXO_AGRESOR'].value_counts(normalize=True).mul(100).round(1).astype(str) + '%'"
   ]
  },
  {
   "cell_type": "code",
   "execution_count": 51,
   "metadata": {
    "scrolled": true
   },
   "outputs": [
    {
     "data": {
      "text/plain": [
       "1    57.6%\n",
       "0    42.4%\n",
       "Name: INTERPUSO_DENUNCIA, dtype: object"
      ]
     },
     "execution_count": 51,
     "metadata": {},
     "output_type": "execute_result"
    }
   ],
   "source": [
    "cem_2017_df['INTERPUSO_DENUNCIA'].value_counts(normalize=True).mul(100).round(1).astype(str) + '%'"
   ]
  },
  {
   "cell_type": "code",
   "execution_count": 52,
   "metadata": {},
   "outputs": [
    {
     "data": {
      "text/plain": [
       "1    50.5%\n",
       "2    39.6%\n",
       "3     9.5%\n",
       "0     0.5%\n",
       "Name: TIPO_VIOLENCIA, dtype: object"
      ]
     },
     "execution_count": 52,
     "metadata": {},
     "output_type": "execute_result"
    }
   ],
   "source": [
    "cem_2017_df['TIPO_VIOLENCIA'].value_counts(normalize=True).mul(100).round(1).astype(str) + '%'"
   ]
  },
  {
   "cell_type": "code",
   "execution_count": null,
   "metadata": {},
   "outputs": [],
   "source": [
    "# Columnas a usar:\n",
    "# CEM, UBIGEO, FECHA (para filtrar)\n",
    "# 1) INFORMANTE (0,1)\n",
    "# 2) FORMA_INGRESO\n",
    "# 3) EDAD_VICTIMA\n",
    "# 4) SEXO_VICTIMA\n",
    "# 5) HIJAS_VIVAS\n",
    "# 6) HIJOS_VIVOS\n",
    "# 7) \n",
    "# 8) ETNIA_VICTIMA\n",
    "# 9) \n",
    "# 10) FACTOR_AGRESOR_CONSUMO_ALCOHOL\n",
    "# 11) \n",
    "# 12) AREA_RESIDENCIA_DOMICILIO\n",
    "# 13) ESTADO_CIVIL_VICTIMA\n",
    "# 14) NIVEL_EDUCATIVO_VICTIMA\n",
    "# 15) TRABAJA_VICTIMA\n",
    "# 16) VINCULO_AGRESOR_VICTIMA\n",
    "# 17) AGRESOR_VIVE_CASA_VICTIMA\n",
    "# 18) SEXO_AGRESOR\n",
    "# 19) AGRESIONES_FISICAS\n",
    "# 20) AGRESIONES_PSICOLOGICAS\n",
    "# 21) AGRESIONES_ECONOMICAS\n",
    "# 22) AGRESIONES SEXUALES\n",
    "# 23) INTERPUSO_DENUNCIA\n",
    "# 24) TIPO_VIOLENCIA"
   ]
  },
  {
   "cell_type": "markdown",
   "metadata": {},
   "source": [
    "# PREPARAMOS DATOS PARA EL 2018"
   ]
  },
  {
   "cell_type": "code",
   "execution_count": 50,
   "metadata": {
    "scrolled": true
   },
   "outputs": [
    {
     "name": "stdout",
     "output_type": "stream",
     "text": [
      "CEM\n",
      "CONDICION\n",
      "FECHA_INGRESO\n",
      "INFORMANTE\n",
      "FORMA_INGRESO\n",
      "VICTIMA_PERUANA\n",
      "VICTIMA_CUENTA_DNI\n",
      "VICTIMA_EXTRANJERA\n",
      "VICTIMA_PAIS_EXTRANJERO\n",
      "VICTIMA_CARNE_EXTRANJERIA\n",
      "VICTIMA_SOLICITANTE_REFUGIO\n",
      "VICTIMA_REFUGIADO\n",
      "VICTIMA_SOLICITANTE_ASILO\n",
      "VICTIMA_ASILADO\n",
      "VICTIMA_APATRIDA\n",
      "VICTIMA_OTRA_SIT_MIGR\n",
      "VICTIMA_NINGUNA_SIT_MIGR\n",
      "EDAD_VICTIMA\n",
      "SEXO_VICTIMA\n",
      "VICTIMA_GESTANDO\n",
      "HIJAS_VIVAS\n",
      "HIJOS_VIVOS\n",
      "LENGUA_MATERNA_VICTIMA\n",
      "ETNIA_VICTIMA\n",
      "DPTO_DOMICILIO\n",
      "PROV_DOMICILIO\n",
      "DIST_DOMICILIO\n",
      "CENTRO_POBLADO_DOMICILIO\n",
      "AREA_RESIDENCIA_DOMICILIO\n",
      "ESTADO_CIVIL_VICTIMA\n",
      "NIVEL_EDUCATIVO_VICTIMA\n",
      "ESTUDIA\n",
      "LUGAR_ESTUDIA\n",
      "TIPO_GESTION_ESTUDIA\n",
      "TRABAJA_VICTIMA\n",
      "OCUPACION_VICTIMA\n",
      "SIS_SEGURO\n",
      "ESSALUD_SEGURO\n",
      "OTRO_SEGURO\n",
      "NINGUN_SEGURO\n",
      "AGRESOR_PERUANO\n",
      "AGRESOR_CUENTA_DNI\n",
      "AGRESOR_EXTRANJERO\n",
      "AGRESOR_PAIS_EXTRANJERO\n",
      "AGRESOR_CARNE_EXTRANJERIA\n",
      "AGRESOR_SOLICITANTE_REFUGIO\n",
      "AGRESOR_REFUGIADO\n",
      "AGRESOR_SOLICITANTE_ASILO\n",
      "AGRESOR_ASILADO\n",
      "AGRESOR_APATRIDA\n",
      "AGRESOR_OTRA_SIT_MIGR\n",
      "AGRESOR_NINGUNA_SIT_MIGR\n",
      "VINCULO_AGRESOR_VICTIMA\n",
      "VINCULO_PAREJA\n",
      "VINCULO_FAMILIAR\n",
      "SIN_VINCULO\n",
      "AGRESOR_VIVE_CASA_VICTIMA\n",
      "EDAD_AGRESOR\n",
      "SEXO_AGRESOR\n",
      "NIVEL_EDUCATIVO_AGRESOR\n",
      "TRABAJA_AGRESOR\n",
      "OCUPACION_AGRESOR\n",
      "PERTURBACION_POSESION\n",
      "MENOSCABO_TENENCIA_BIENES\n",
      "PERDIDA_DERECHOS_PATRIMONIALES\n",
      "LIMITACION_RECURSOS_ECONOMICOS\n",
      "PRIVACION_MEDIOS_INDISPENSABLES\n",
      "INCUMPLIMIENTO_OBLIGACION_ALIMENTARIA\n",
      "CONTROL_DE_INGRESOS\n",
      "PERCEPCION_SALARIO_MENOR\n",
      "OTRA_VECON_PATRIM\n",
      "GRITOS_INSULTOS\n",
      "VIOLENCIA_RACIAL\n",
      "INDIFERENCIA\n",
      "DISCR_ORIENTACION_SEXUAL\n",
      "DISCR_GENERO\n",
      "DISCR_IDENTIDAD_GENERO\n",
      "RECHAZO\n",
      "DESVALORIZACION_HUMILLACION\n",
      "AMENAZA_QUITAR_HIJOS\n",
      "OTRAS_AMENAZAS\n",
      "PROHIBE_RECIBIR_VISITAS\n",
      "PROHIBE_ESTUDIAR_TRABAJAR_SALIR\n",
      "ROMPE_DESTRUYE_COSAS\n",
      "VIGILANCIA_CONTINUA_PERSECUCION\n",
      "BOTAR_CASA\n",
      "AMENAZA_DE_MUERTE\n",
      "ABANDONO\n",
      "OTRA_VPSI\n",
      "PUNTAPIES_PATADAS\n",
      "PUÑETAZOS\n",
      "BOFETADAS\n",
      "JALONES_CABELLO\n",
      "OTRAS_AGRESIONES\n",
      "EMPUJONES\n",
      "GOLPES_CON_PALOS\n",
      "LATIGAZO\n",
      "AHORCAMIENTO\n",
      "HERIDAS_CON_ARMAS\n",
      "GOLPES_CON_OBJETOS_CONTUNDENTES\n",
      "NEGLIGENCIA\n",
      "OTRA_VFIS\n",
      "HOSTIGAMIENTO_SEXUAL\n",
      "ACOSO_SEX_ESP_PUB\n",
      "VIOLACION\n",
      "ACTOS_CONTRA_EL_PUDOR\n",
      "TRATA_CON_FINES_EXPLOTACION_SEXUAL\n",
      "EXPLOTACION_SEXUAL\n",
      "PORNOGRAFIA\n",
      "OTRA_VSEX\n",
      "DEPENDE_VICTIMA_FEMINICIDIO\n",
      "PRIMERA_VEZ_AGREDE\n",
      "N_AÑOS\n",
      "N_MESES\n",
      "N_SEMANAS\n",
      "FRECUENCIA_AGREDE\n",
      "ESTADO_AGRESOR_U_A\n",
      "ESTADO_AGRESOR_G\n",
      "ESTADO_VICTIMA_U_A\n",
      "ESTADO_VICTIMA_G\n",
      "TRATAMIENTO_PSICOLOGICO\n",
      "TRATAMIENTO_PSIQUIATRICO\n",
      "ATENCION_MEDICA\n",
      "OTRO_TRATAMIENTO\n",
      "NINGUN_TRATAMIENTO\n",
      "CONTINUA_RECIBIENDO_TRATAMIENTO\n",
      "VINCULO_AFECTIVO_FAMILIA\n",
      "VINCULO_AFECTIVO_AMIGOS\n",
      "VINCULO_AFECTIVO_VECINOS\n",
      "VINCULO_AFECTIVO_ASOCIACIONES\n",
      "VINCULO_AFECTIVO_ORGANIZACIONES_CIVICAS\n",
      "VINCULO_AFECTIVO_COMPAÑEROS_TRABAJO\n",
      "VINCULO_AFECTIVO_OTRO\n",
      "VINCULO_AFECTIVO_NINGUNO\n",
      "REDES_FAM_SOC\n",
      "APOYO_EMOCIONAL\n",
      "APOYO_COGNITIVO\n",
      "APOYO_INSTRUMENTAL\n",
      "APOYO_MATERIAL\n",
      "FACTOR_AGRESOR_CONSUMO_ALCOHOL\n",
      "FACTOR_AGRESOR_CONSUME_DROGA\n",
      "FACTOR_VICTIMA_DISCAPACIDAD\n",
      "FACTOR_VICTIMA_ABUSO_CONSUMO_ALCOHOL\n",
      "FACTOR_VICTIMA_CONSUME_DROGAS\n",
      "FACTOR_VICTIMA_POBLACION_LGTBI\n",
      "FACTOR_VICTIMA_VIH\n",
      "FACTOR_VICTIMA_CARCEL\n",
      "NIVEL_DE_RIESGO_VICTIMA\n",
      "INTERPUSO_DENUNCIA\n",
      "DONDE_INTERPUSO_DENUNCIA\n",
      "DESEA_DENUNCIAR\n",
      "CUENTA_MEDIDAS_DE_PROTECCION\n",
      "CUENTA_MEDIDAS_DE_CAUTELARES\n",
      "DESEA_PATROCINIO_LEGAL\n",
      "CASO_TENTATIVA_DE_FEMINICIDIO\n",
      "LUGAR_TENTATIVA_DE_FEMINICIDIO\n",
      "SITUACION_AGRESOR\n",
      "TIPO_VIOLENCIA\n"
     ]
    }
   ],
   "source": [
    "for col in cem_2018_df.columns:\n",
    "    print(col)"
   ]
  },
  {
   "cell_type": "code",
   "execution_count": 67,
   "metadata": {
    "scrolled": true
   },
   "outputs": [
    {
     "data": {
      "text/plain": [
       "13     2.8%\n",
       "14     2.5%\n",
       "12     2.3%\n",
       "30     2.3%\n",
       "36     2.2%\n",
       "       ... \n",
       "98     0.0%\n",
       "96     0.0%\n",
       "97     0.0%\n",
       "102    0.0%\n",
       "99     0.0%\n",
       "Name: EDAD_VICTIMA, Length: 102, dtype: object"
      ]
     },
     "execution_count": 67,
     "metadata": {},
     "output_type": "execute_result"
    }
   ],
   "source": [
    "cem_2018_df['EDAD_VICTIMA'].value_counts(normalize=True).mul(100).round(1).astype(str) + '%'"
   ]
  },
  {
   "cell_type": "code",
   "execution_count": 68,
   "metadata": {
    "scrolled": true
   },
   "outputs": [
    {
     "data": {
      "text/plain": [
       "1    74.5%\n",
       "0    25.5%\n",
       "Name: INFORMANTE, dtype: object"
      ]
     },
     "execution_count": 68,
     "metadata": {},
     "output_type": "execute_result"
    }
   ],
   "source": [
    "cem_2018_df['INFORMANTE'].value_counts(normalize=True).mul(100).round(1).astype(str) + '%'"
   ]
  },
  {
   "cell_type": "code",
   "execution_count": 70,
   "metadata": {},
   "outputs": [
    {
     "data": {
      "text/plain": [
       "1     49.3%\n",
       "7     36.4%\n",
       "4      4.1%\n",
       "5      3.8%\n",
       "8      1.7%\n",
       "2      1.5%\n",
       "9      1.3%\n",
       "10     0.8%\n",
       "3      0.8%\n",
       "12     0.2%\n",
       "6      0.0%\n",
       "11     0.0%\n",
       "Name: FORMA_INGRESO, dtype: object"
      ]
     },
     "execution_count": 70,
     "metadata": {},
     "output_type": "execute_result"
    }
   ],
   "source": [
    "cem_2018_df['FORMA_INGRESO'].value_counts(normalize=True).mul(100).round(1).astype(str) + '%'"
   ]
  },
  {
   "cell_type": "code",
   "execution_count": 71,
   "metadata": {},
   "outputs": [
    {
     "data": {
      "text/plain": [
       "0    85.1%\n",
       "1    14.9%\n",
       "Name: SEXO_VICTIMA, dtype: object"
      ]
     },
     "execution_count": 71,
     "metadata": {},
     "output_type": "execute_result"
    }
   ],
   "source": [
    "cem_2018_df['SEXO_VICTIMA'].value_counts(normalize=True).mul(100).round(1).astype(str) + '%'"
   ]
  },
  {
   "cell_type": "code",
   "execution_count": 72,
   "metadata": {},
   "outputs": [
    {
     "data": {
      "text/plain": [
       "0     53.5%\n",
       "1     24.8%\n",
       "2     13.1%\n",
       "3      5.3%\n",
       "4      2.1%\n",
       "5      0.8%\n",
       "6      0.3%\n",
       "7      0.1%\n",
       "8      0.0%\n",
       "9      0.0%\n",
       "10     0.0%\n",
       "11     0.0%\n",
       "Name: HIJAS_VIVAS, dtype: object"
      ]
     },
     "execution_count": 72,
     "metadata": {},
     "output_type": "execute_result"
    }
   ],
   "source": [
    "cem_2018_df['HIJAS_VIVAS'].value_counts(normalize=True).mul(100).round(1).astype(str) + '%'"
   ]
  },
  {
   "cell_type": "code",
   "execution_count": 73,
   "metadata": {},
   "outputs": [
    {
     "data": {
      "text/plain": [
       "0     52.5%\n",
       "1     25.1%\n",
       "2     13.4%\n",
       "3      5.7%\n",
       "4      2.0%\n",
       "5      0.8%\n",
       "6      0.3%\n",
       "7      0.1%\n",
       "8      0.0%\n",
       "9      0.0%\n",
       "11     0.0%\n",
       "10     0.0%\n",
       "14     0.0%\n",
       "Name: HIJOS_VIVOS, dtype: object"
      ]
     },
     "execution_count": 73,
     "metadata": {},
     "output_type": "execute_result"
    }
   ],
   "source": [
    "cem_2018_df['HIJOS_VIVOS'].value_counts(normalize=True).mul(100).round(1).astype(str) + '%'"
   ]
  },
  {
   "cell_type": "code",
   "execution_count": 74,
   "metadata": {},
   "outputs": [
    {
     "data": {
      "text/plain": [
       "6    80.4%\n",
       "1     9.7%\n",
       "8     5.9%\n",
       "5     1.6%\n",
       "2     1.3%\n",
       "3     0.9%\n",
       "4     0.2%\n",
       "7     0.0%\n",
       "Name: ETNIA_VICTIMA, dtype: object"
      ]
     },
     "execution_count": 74,
     "metadata": {},
     "output_type": "execute_result"
    }
   ],
   "source": [
    "cem_2018_df['ETNIA_VICTIMA'].value_counts(normalize=True).mul(100).round(1).astype(str) + '%'"
   ]
  },
  {
   "cell_type": "code",
   "execution_count": 75,
   "metadata": {},
   "outputs": [
    {
     "data": {
      "text/plain": [
       "     75.9%\n",
       "1    24.1%\n",
       "Name: FACTOR_AGRESOR_CONSUMO_ALCOHOL, dtype: object"
      ]
     },
     "execution_count": 75,
     "metadata": {},
     "output_type": "execute_result"
    }
   ],
   "source": [
    "cem_2018_df['FACTOR_AGRESOR_CONSUMO_ALCOHOL'].value_counts(normalize=True).mul(100).round(1).astype(str) + '%'"
   ]
  },
  {
   "cell_type": "code",
   "execution_count": 76,
   "metadata": {},
   "outputs": [
    {
     "data": {
      "text/plain": [
       "U    84.1%\n",
       "R    15.9%\n",
       "Name: AREA_RESIDENCIA_DOMICILIO, dtype: object"
      ]
     },
     "execution_count": 76,
     "metadata": {},
     "output_type": "execute_result"
    }
   ],
   "source": [
    "cem_2018_df['AREA_RESIDENCIA_DOMICILIO'].value_counts(normalize=True).mul(100).round(1).astype(str) + '%'"
   ]
  },
  {
   "cell_type": "code",
   "execution_count": 77,
   "metadata": {},
   "outputs": [
    {
     "data": {
      "text/plain": [
       "1    81.0%\n",
       "2    16.2%\n",
       "4     1.9%\n",
       "3     0.9%\n",
       "Name: ESTADO_CIVIL_VICTIMA, dtype: object"
      ]
     },
     "execution_count": 77,
     "metadata": {},
     "output_type": "execute_result"
    }
   ],
   "source": [
    "cem_2018_df['ESTADO_CIVIL_VICTIMA'].value_counts(normalize=True).mul(100).round(1).astype(str) + '%'"
   ]
  },
  {
   "cell_type": "code",
   "execution_count": 78,
   "metadata": {},
   "outputs": [
    {
     "data": {
      "text/plain": [
       "5     21.9%\n",
       "3     20.8%\n",
       "6     19.4%\n",
       "8      7.3%\n",
       "4      6.9%\n",
       "1      5.3%\n",
       "10     5.1%\n",
       "7      4.8%\n",
       "9      4.2%\n",
       "2      4.1%\n",
       "12     0.2%\n",
       "11     0.0%\n",
       "Name: NIVEL_EDUCATIVO_VICTIMA, dtype: object"
      ]
     },
     "execution_count": 78,
     "metadata": {},
     "output_type": "execute_result"
    }
   ],
   "source": [
    "cem_2018_df['NIVEL_EDUCATIVO_VICTIMA'].value_counts(normalize=True).mul(100).round(1).astype(str) + '%'"
   ]
  },
  {
   "cell_type": "code",
   "execution_count": 79,
   "metadata": {},
   "outputs": [
    {
     "data": {
      "text/plain": [
       "0    65.5%\n",
       "1    34.5%\n",
       "Name: TRABAJA_VICTIMA, dtype: object"
      ]
     },
     "execution_count": 79,
     "metadata": {},
     "output_type": "execute_result"
    }
   ],
   "source": [
    "cem_2018_df['TRABAJA_VICTIMA'].value_counts(normalize=True).mul(100).round(1).astype(str) + '%'"
   ]
  },
  {
   "cell_type": "code",
   "execution_count": 80,
   "metadata": {},
   "outputs": [
    {
     "data": {
      "text/plain": [
       "1    51.4%\n",
       "2    41.8%\n",
       "3     6.8%\n",
       "Name: VINCULO_AGRESOR_VICTIMA, dtype: object"
      ]
     },
     "execution_count": 80,
     "metadata": {},
     "output_type": "execute_result"
    }
   ],
   "source": [
    "cem_2018_df['VINCULO_AGRESOR_VICTIMA'].value_counts(normalize=True).mul(100).round(1).astype(str) + '%'"
   ]
  },
  {
   "cell_type": "code",
   "execution_count": 81,
   "metadata": {},
   "outputs": [
    {
     "data": {
      "text/plain": [
       "2    53.4%\n",
       "1    44.9%\n",
       "3     1.7%\n",
       "Name: AGRESOR_VIVE_CASA_VICTIMA, dtype: object"
      ]
     },
     "execution_count": 81,
     "metadata": {},
     "output_type": "execute_result"
    }
   ],
   "source": [
    "cem_2018_df['AGRESOR_VIVE_CASA_VICTIMA'].value_counts(normalize=True).mul(100).round(1).astype(str) + '%'"
   ]
  },
  {
   "cell_type": "code",
   "execution_count": 82,
   "metadata": {},
   "outputs": [
    {
     "data": {
      "text/plain": [
       "1    86.5%\n",
       "0    13.5%\n",
       "Name: SEXO_AGRESOR, dtype: object"
      ]
     },
     "execution_count": 82,
     "metadata": {},
     "output_type": "execute_result"
    }
   ],
   "source": [
    "cem_2018_df['SEXO_AGRESOR'].value_counts(normalize=True).mul(100).round(1).astype(str) + '%'"
   ]
  },
  {
   "cell_type": "code",
   "execution_count": 83,
   "metadata": {},
   "outputs": [
    {
     "data": {
      "text/plain": [
       "1    64.3%\n",
       "0    35.7%\n",
       "Name: INTERPUSO_DENUNCIA, dtype: object"
      ]
     },
     "execution_count": 83,
     "metadata": {},
     "output_type": "execute_result"
    }
   ],
   "source": [
    "cem_2018_df['INTERPUSO_DENUNCIA'].value_counts(normalize=True).mul(100).round(1).astype(str) + '%'"
   ]
  },
  {
   "cell_type": "code",
   "execution_count": 84,
   "metadata": {},
   "outputs": [
    {
     "data": {
      "text/plain": [
       "1    49.8%\n",
       "2    40.1%\n",
       "3     9.6%\n",
       "0     0.5%\n",
       "Name: TIPO_VIOLENCIA, dtype: object"
      ]
     },
     "execution_count": 84,
     "metadata": {},
     "output_type": "execute_result"
    }
   ],
   "source": [
    "cem_2018_df['TIPO_VIOLENCIA'].value_counts(normalize=True).mul(100).round(1).astype(str) + '%'"
   ]
  },
  {
   "cell_type": "code",
   "execution_count": null,
   "metadata": {},
   "outputs": [],
   "source": [
    "# Columnas a usar:\n",
    "# CEM, UBIGEO, FECHA (para filtrar)\n",
    "# 1) INFORMANTE (0,1)\n",
    "# 2) FORMA_INGRESO\n",
    "# 3) EDAD_VICTIMA\n",
    "# 4) SEXO_VICTIMA\n",
    "# 5) HIJAS_VIVAS\n",
    "# 6) HIJOS_VIVOS\n",
    "# 7) \n",
    "# 8) ETNIA_VICTIMA\n",
    "# 9) \n",
    "# 10) FACTOR_AGRESOR_CONSUMO_ALCOHOL (REEMPLAZAR ' ' por 0)\n",
    "# 11) \n",
    "# 12) AREA_RESIDENCIA_DOMICILIO\n",
    "# 13) ESTADO_CIVIL_VICTIMA\n",
    "# 14) NIVEL_EDUCATIVO_VICTIMA\n",
    "# 15) TRABAJA_VICTIMA\n",
    "# 16) VINCULO_AGRESOR_VICTIMA\n",
    "# 17) AGRESOR_VIVE_CASA_VICTIMA\n",
    "# 18) SEXO_AGRESOR\n",
    "# 19) AGRESIONES_FISICAS\n",
    "# 20) AGRESIONES_PSICOLOGICAS\n",
    "# 21) AGRESIONES_ECONOMICAS\n",
    "# 22) AGRESIONES SEXUALES\n",
    "# 23) INTERPUSO_DENUNCIA\n",
    "# 24) TIPO_VIOLENCIA"
   ]
  },
  {
   "cell_type": "markdown",
   "metadata": {},
   "source": [
    "# PREPARAMOS DATOS PARA EL 2019"
   ]
  },
  {
   "cell_type": "code",
   "execution_count": 73,
   "metadata": {},
   "outputs": [
    {
     "name": "stdout",
     "output_type": "stream",
     "text": [
      "CEM\n",
      "CONDICION\n",
      "FECHA_INGRESO\n",
      "INFORMANTE\n",
      "FORMA_INGRESO\n",
      "VICTIMA_PERUANA\n",
      "VICTIMA_CUENTA_DNI\n",
      "VICTIMA_EXTRANJERA\n",
      "VICTIMA_PAIS_EXTRANJERO\n",
      "VICTIMA_CARNE_EXTRANJERIA\n",
      "VICTIMA_SOLICITANTE_REFUGIO\n",
      "VICTIMA_REFUGIADO\n",
      "VICTIMA_SOLICITANTE_ASILO\n",
      "VICTIMA_ASILADO\n",
      "VICTIMA_APATRIDA\n",
      "VICTIMA_OTRA_SIT_MIGR\n",
      "VICTIMA_NINGUNA_SIT_MIGR\n",
      "EDAD_VICTIMA\n",
      "SEXO_VICTIMA\n",
      "VICTIMA_GESTANDO\n",
      "HIJAS_VIVAS\n",
      "HIJOS_VIVOS\n",
      "LENGUA_MATERNA_VICTIMA\n",
      "OTRA_LENGUA_NATIVA_VICTIMA\n",
      "ETNIA_VICTIMA\n",
      "PUEBLO_INDIGENA_AMAZONIA\n",
      "PUEBLO_INDIGENA_ANDES\n",
      "DPTO_DOMICILIO\n",
      "PROV_DOMICILIO\n",
      "DIST_DOMICILIO\n",
      "CENTRO_POBLADO_DOMICILIO\n",
      "AREA_RESIDENCIA_DOMICILIO\n",
      "ESTADO_CIVIL_VICTIMA\n",
      "NIVEL_EDUCATIVO_VICTIMA\n",
      "ESTUDIA\n",
      "LUGAR_ESTUDIA\n",
      "TIPO_GESTION_ESTUDIA\n",
      "TRABAJA_VICTIMA\n",
      "OCUPACION_VICTIMA\n",
      "SIS_SEGURO\n",
      "ESSALUD_SEGURO\n",
      "OTRO_SEGURO\n",
      "NINGUN_SEGURO\n",
      "AGRESOR_PERUANO\n",
      "AGRESOR_CUENTA_DNI\n",
      "AGRESOR_EXTRANJERO\n",
      "AGRESOR_PAIS_EXTRANJERO\n",
      "AGRESOR_CARNE_EXTRANJERIA\n",
      "AGRESOR_SOLICITANTE_REFUGIO\n",
      "AGRESOR_REFUGIADO\n",
      "AGRESOR_SOLICITANTE_ASILO\n",
      "AGRESOR_ASILADO\n",
      "AGRESOR_APATRIDA\n",
      "AGRESOR_OTRA_SIT_MIGR\n",
      "AGRESOR_NINGUNA_SIT_MIGR\n",
      "VINCULO_AGRESOR_VICTIMA\n",
      "VINCULO_PAREJA\n",
      "VINCULO_FAMILIAR\n",
      "SIN_VINCULO\n",
      "AGRESOR_VIVE_CASA_VICTIMA\n",
      "AGRESOR_DPTO_DOMICILIO\n",
      "AGRESOR_PROV_DOMICILIO\n",
      "AGRESOR_DIST_DOMICILIO\n",
      "AGRESOR_CENTRO_POBLADO_DOMICILIO\n",
      "AGRESOR_AREA_RESIDENCIA_DOMICILIO\n",
      "EDAD_AGRESOR\n",
      "SEXO_AGRESOR\n",
      "NIVEL_EDUCATIVO_AGRESOR\n",
      "TRABAJA_AGRESOR\n",
      "OCUPACION_AGRESOR\n",
      "DEPENDE_VICTIMA_FEMINICIDIO\n",
      "PERTURBACION_POSESION\n",
      "MENOSCABO_TENENCIA_BIENES\n",
      "PERDIDA_DERECHOS_PATRIMONIALES\n",
      "LIMITACION_RECURSOS_ECONOMICOS\n",
      "PRIVACION_MEDIOS_INDISPENSABLES\n",
      "INCUMPLIMIENTO_OBLIGACION_ALIMENTARIA\n",
      "CONTROL_DE_INGRESOS\n",
      "PERCEPCION_SALARIO_MENOR\n",
      "OTRA_VECON_PATRIM\n",
      "GRITOS_INSULTOS\n",
      "VIOLENCIA_RACIAL\n",
      "INDIFERENCIA\n",
      "DISCR_ORIENTACION_SEXUAL\n",
      "DISCR_GENERO\n",
      "DISCR_IDENTIDAD_GENERO\n",
      "RECHAZO\n",
      "DESVALORIZACION_HUMILLACION\n",
      "AMENAZA_QUITAR_HIJOS\n",
      "OTRAS_AMENAZAS\n",
      "PROHIBE_RECIBIR_VISITAS\n",
      "PROHIBE_ESTUDIAR_TRABAJAR_SALIR\n",
      "ROMPE_DESTRUYE_COSAS\n",
      "VIGILANCIA_CONTINUA_PERSECUCION\n",
      "BOTAR_CASA\n",
      "AMENAZA_DE_MUERTE\n",
      "ABANDONO\n",
      "OTRA_VPSI\n",
      "PUNTAPIES_PATADAS\n",
      "PUÑETAZOS\n",
      "BOFETADAS\n",
      "JALONES_CABELLO\n",
      "OTRAS_AGRESIONES\n",
      "EMPUJONES\n",
      "GOLPES_CON_PALOS\n",
      "LATIGAZO\n",
      "AHORCAMIENTO\n",
      "HERIDAS_CON_ARMAS\n",
      "GOLPES_CON_OBJETOS_CONTUNDENTES\n",
      "NEGLIGENCIA\n",
      "OTRA_VFIS\n",
      "HOSTIGAMIENTO_SEXUAL\n",
      "ACOSO_SEX_ESP_PUB\n",
      "VIOLACION\n",
      "ACTOS_CONTRA_EL_PUDOR\n",
      "TRATA_CON_FINES_EXPLOTACION_SEXUAL\n",
      "EXPLOTACION_SEXUAL\n",
      "PORNOGRAFIA\n",
      "OTRA_VSEX\n",
      "VIOLENCIA_OBSTETRICA\n",
      "ACOSO_POLITICO\n",
      "VIOLENCIA_CONFLICTOS_SOCIALES\n",
      "VIOLENCIA_CONFLICTO_ARMADO\n",
      "VIOLENCIA_TICS\n",
      "VIOLENCIA_CARCELARIA\n",
      "NINGUNA_OTRA_MOD_VG\n",
      "PRIMERA_VEZ_AGREDE\n",
      "N_AÑOS\n",
      "N_MESES\n",
      "N_SEMANAS\n",
      "FRECUENCIA_AGREDE\n",
      "ESTADO_AGRESOR_U_A\n",
      "ESTADO_AGRESOR_G\n",
      "ESTADO_VICTIMA_U_A\n",
      "ESTADO_VICTIMA_G\n",
      "TRATAMIENTO_PSICOLOGICO\n",
      "TRATAMIENTO_PSIQUIATRICO\n",
      "ATENCION_MEDICA\n",
      "OTRO_TRATAMIENTO\n",
      "NINGUN_TRATAMIENTO\n",
      "CONTINUA_RECIBIENDO_TRATAMIENTO\n",
      "FACTOR_AGRESOR_CONSUMO_ALCOHOL\n",
      "FACTOR_AGRESOR_CONSUME_DROGA\n",
      "FACTOR_VICTIMA_DISCAPACIDAD\n",
      "FACTOR_VICTIMA_ABUSO_CONSUMO_ALCOHOL\n",
      "FACTOR_VICTIMA_CONSUME_DROGAS\n",
      "VULNERABILIDAD_VICTIMA_LGTBI\n",
      "VULNERABILIDAD_VICTIMA_VIH\n",
      "VULNERABILIDAD_VICTIMA_OTRO\n",
      "VICTIMA_DISCAPACIDAD_FISICA\n",
      "VICTIMA_DISCAPACIDAD_VISUAL\n",
      "VICTIMA_DISCAPACIDAD_AUDITIVA\n",
      "VICTIMA_DISCAPACIDAD_PSICOSOCIAL\n",
      "VICTIMA_DISCAPACIDAD_INTELECTUAL\n",
      "VICTIMA_DISCAPACIDAD_SORDOCIEGO\n",
      "VICTIMA_DISCAPACIDAD_MUDO\n",
      "VINCULO_AFECTIVO_FAMILIA\n",
      "VINCULO_AFECTIVO_AMIGOS\n",
      "VINCULO_AFECTIVO_VECINOS\n",
      "VINCULO_AFECTIVO_ASOCIACIONES\n",
      "VINCULO_AFECTIVO_ORGANIZACIONES_CIVICAS\n",
      "VINCULO_AFECTIVO_COMPAÑEROS_TRABAJO\n",
      "VINCULO_AFECTIVO_OTRO\n",
      "VINCULO_AFECTIVO_NINGUNO\n",
      "COMP_DESTR_PROT\n",
      "RECURSOS_INST\n",
      "REDES_FAM_SOC\n",
      "APOYO_EMOCIONAL\n",
      "APOYO_COGNITIVO\n",
      "APOYO_INSTRUMENTAL\n",
      "APOYO_MATERIAL\n",
      "NIVEL_DE_RIESGO_VICTIMA\n",
      "INTERPUSO_DENUNCIA\n",
      "DONDE_INTERPUSO_DENUNCIA\n",
      "DESEA_DENUNCIAR\n",
      "CUENTA_MEDIDAS_PROTECCION\n",
      "CUENTA_MEDIDAS_CAUTELARES\n",
      "DESEA_PATROCINIO_LEGAL\n",
      "CASO_TENTATIVA_DE_FEMINICIDIO\n",
      "LUGAR_TENTATIVA_DE_FEMINICIDIO\n",
      "MODALIDAD_TENTATIVA_DE_FEMINICIDIO\n",
      "SITUACION_AGRESOR\n",
      "TIPO_VIOLENCIA\n",
      "filter_$\n"
     ]
    }
   ],
   "source": [
    "for col in cem_2019_df.columns:\n",
    "    print(col)"
   ]
  },
  {
   "cell_type": "code",
   "execution_count": 85,
   "metadata": {
    "scrolled": true
   },
   "outputs": [
    {
     "data": {
      "text/plain": [
       "1    76.1%\n",
       "0    23.9%\n",
       "Name: INFORMANTE, dtype: object"
      ]
     },
     "execution_count": 85,
     "metadata": {},
     "output_type": "execute_result"
    }
   ],
   "source": [
    "cem_2019_df['INFORMANTE'].value_counts(normalize=True).mul(100).round(1).astype(str) + '%'"
   ]
  },
  {
   "cell_type": "code",
   "execution_count": 86,
   "metadata": {
    "scrolled": true
   },
   "outputs": [
    {
     "data": {
      "text/plain": [
       "9     47.2%\n",
       "1     35.2%\n",
       "6      4.2%\n",
       "8      3.1%\n",
       "3      2.1%\n",
       "10     1.7%\n",
       "13     1.7%\n",
       "5      1.4%\n",
       "11     1.4%\n",
       "2      1.3%\n",
       "4      0.3%\n",
       "15     0.3%\n",
       "12     0.1%\n",
       "7      0.0%\n",
       "14     0.0%\n",
       "Name: FORMA_INGRESO, dtype: object"
      ]
     },
     "execution_count": 86,
     "metadata": {},
     "output_type": "execute_result"
    }
   ],
   "source": [
    "cem_2019_df['FORMA_INGRESO'].value_counts(normalize=True).mul(100).round(1).astype(str) + '%'"
   ]
  },
  {
   "cell_type": "code",
   "execution_count": 87,
   "metadata": {},
   "outputs": [
    {
     "data": {
      "text/plain": [
       "14    2.5%\n",
       "13    2.5%\n",
       "31    2.3%\n",
       "26    2.3%\n",
       "12    2.2%\n",
       "      ... \n",
       "95    0.0%\n",
       "98    0.0%\n",
       "96    0.0%\n",
       "97    0.0%\n",
       "99    0.0%\n",
       "Name: EDAD_VICTIMA, Length: 100, dtype: object"
      ]
     },
     "execution_count": 87,
     "metadata": {},
     "output_type": "execute_result"
    }
   ],
   "source": [
    "cem_2019_df['EDAD_VICTIMA'].value_counts(normalize=True).mul(100).round(1).astype(str) + '%'"
   ]
  },
  {
   "cell_type": "code",
   "execution_count": 88,
   "metadata": {},
   "outputs": [
    {
     "data": {
      "text/plain": [
       "0    85.3%\n",
       "1    14.7%\n",
       "Name: SEXO_VICTIMA, dtype: object"
      ]
     },
     "execution_count": 88,
     "metadata": {},
     "output_type": "execute_result"
    }
   ],
   "source": [
    "cem_2019_df['SEXO_VICTIMA'].value_counts(normalize=True).mul(100).round(1).astype(str) + '%'"
   ]
  },
  {
   "cell_type": "code",
   "execution_count": 89,
   "metadata": {},
   "outputs": [
    {
     "data": {
      "text/plain": [
       "0     54.1%\n",
       "1     24.6%\n",
       "2     12.9%\n",
       "3      5.2%\n",
       "4      2.0%\n",
       "5      0.8%\n",
       "6      0.3%\n",
       "7      0.1%\n",
       "8      0.0%\n",
       "9      0.0%\n",
       "10     0.0%\n",
       "11     0.0%\n",
       "12     0.0%\n",
       "Name: HIJAS_VIVAS, dtype: object"
      ]
     },
     "execution_count": 89,
     "metadata": {},
     "output_type": "execute_result"
    }
   ],
   "source": [
    "cem_2019_df['HIJAS_VIVAS'].value_counts(normalize=True).mul(100).round(1).astype(str) + '%'"
   ]
  },
  {
   "cell_type": "code",
   "execution_count": 90,
   "metadata": {},
   "outputs": [
    {
     "data": {
      "text/plain": [
       "0     52.7%\n",
       "1     25.0%\n",
       "2     13.6%\n",
       "3      5.5%\n",
       "4      2.0%\n",
       "5      0.8%\n",
       "6      0.3%\n",
       "7      0.1%\n",
       "8      0.0%\n",
       "9      0.0%\n",
       "10     0.0%\n",
       "11     0.0%\n",
       "13     0.0%\n",
       "34     0.0%\n",
       "Name: HIJOS_VIVOS, dtype: object"
      ]
     },
     "execution_count": 90,
     "metadata": {},
     "output_type": "execute_result"
    }
   ],
   "source": [
    "cem_2019_df['HIJOS_VIVOS'].value_counts(normalize=True).mul(100).round(1).astype(str) + '%'"
   ]
  },
  {
   "cell_type": "code",
   "execution_count": 91,
   "metadata": {},
   "outputs": [
    {
     "data": {
      "text/plain": [
       "7    82.6%\n",
       "1    13.1%\n",
       "6     1.8%\n",
       "2     1.6%\n",
       "3     0.4%\n",
       "4     0.2%\n",
       "8     0.1%\n",
       "5     0.0%\n",
       "Name: ETNIA_VICTIMA, dtype: object"
      ]
     },
     "execution_count": 91,
     "metadata": {},
     "output_type": "execute_result"
    }
   ],
   "source": [
    "cem_2019_df['ETNIA_VICTIMA'].value_counts(normalize=True).mul(100).round(1).astype(str) + '%'"
   ]
  },
  {
   "cell_type": "code",
   "execution_count": 92,
   "metadata": {},
   "outputs": [
    {
     "data": {
      "text/plain": [
       "     76.3%\n",
       "1    23.7%\n",
       "Name: FACTOR_AGRESOR_CONSUMO_ALCOHOL, dtype: object"
      ]
     },
     "execution_count": 92,
     "metadata": {},
     "output_type": "execute_result"
    }
   ],
   "source": [
    "cem_2019_df['FACTOR_AGRESOR_CONSUMO_ALCOHOL'].value_counts(normalize=True).mul(100).round(1).astype(str) + '%'"
   ]
  },
  {
   "cell_type": "code",
   "execution_count": 93,
   "metadata": {},
   "outputs": [
    {
     "data": {
      "text/plain": [
       "U    84.6%\n",
       "R    15.4%\n",
       "Name: AREA_RESIDENCIA_DOMICILIO, dtype: object"
      ]
     },
     "execution_count": 93,
     "metadata": {},
     "output_type": "execute_result"
    }
   ],
   "source": [
    "cem_2019_df['AREA_RESIDENCIA_DOMICILIO'].value_counts(normalize=True).mul(100).round(1).astype(str) + '%'"
   ]
  },
  {
   "cell_type": "code",
   "execution_count": 94,
   "metadata": {},
   "outputs": [
    {
     "data": {
      "text/plain": [
       "1    81.9%\n",
       "2    15.4%\n",
       "4     1.7%\n",
       "3     0.9%\n",
       "Name: ESTADO_CIVIL_VICTIMA, dtype: object"
      ]
     },
     "execution_count": 94,
     "metadata": {},
     "output_type": "execute_result"
    }
   ],
   "source": [
    "cem_2019_df['ESTADO_CIVIL_VICTIMA'].value_counts(normalize=True).mul(100).round(1).astype(str) + '%'"
   ]
  },
  {
   "cell_type": "code",
   "execution_count": 95,
   "metadata": {},
   "outputs": [
    {
     "data": {
      "text/plain": [
       "5     21.3%\n",
       "3     20.4%\n",
       "6     20.1%\n",
       "8      7.4%\n",
       "4      6.6%\n",
       "10     5.5%\n",
       "1      5.3%\n",
       "7      4.9%\n",
       "9      4.5%\n",
       "2      3.8%\n",
       "12     0.2%\n",
       "11     0.0%\n",
       "Name: NIVEL_EDUCATIVO_VICTIMA, dtype: object"
      ]
     },
     "execution_count": 95,
     "metadata": {},
     "output_type": "execute_result"
    }
   ],
   "source": [
    "cem_2019_df['NIVEL_EDUCATIVO_VICTIMA'].value_counts(normalize=True).mul(100).round(1).astype(str) + '%'"
   ]
  },
  {
   "cell_type": "code",
   "execution_count": 96,
   "metadata": {},
   "outputs": [
    {
     "data": {
      "text/plain": [
       "0    64.3%\n",
       "1    35.7%\n",
       "Name: TRABAJA_VICTIMA, dtype: object"
      ]
     },
     "execution_count": 96,
     "metadata": {},
     "output_type": "execute_result"
    }
   ],
   "source": [
    "cem_2019_df['TRABAJA_VICTIMA'].value_counts(normalize=True).mul(100).round(1).astype(str) + '%'"
   ]
  },
  {
   "cell_type": "code",
   "execution_count": 97,
   "metadata": {},
   "outputs": [
    {
     "data": {
      "text/plain": [
       "1    52.5%\n",
       "2    39.9%\n",
       "3     7.6%\n",
       "Name: VINCULO_AGRESOR_VICTIMA, dtype: object"
      ]
     },
     "execution_count": 97,
     "metadata": {},
     "output_type": "execute_result"
    }
   ],
   "source": [
    "cem_2019_df['VINCULO_AGRESOR_VICTIMA'].value_counts(normalize=True).mul(100).round(1).astype(str) + '%'"
   ]
  },
  {
   "cell_type": "code",
   "execution_count": 98,
   "metadata": {},
   "outputs": [
    {
     "data": {
      "text/plain": [
       "2    53.7%\n",
       "1    44.9%\n",
       "3     1.4%\n",
       "Name: AGRESOR_VIVE_CASA_VICTIMA, dtype: object"
      ]
     },
     "execution_count": 98,
     "metadata": {},
     "output_type": "execute_result"
    }
   ],
   "source": [
    "cem_2019_df['AGRESOR_VIVE_CASA_VICTIMA'].value_counts(normalize=True).mul(100).round(1).astype(str) + '%'"
   ]
  },
  {
   "cell_type": "code",
   "execution_count": 99,
   "metadata": {},
   "outputs": [
    {
     "data": {
      "text/plain": [
       "1    87.0%\n",
       "0    13.0%\n",
       "Name: SEXO_AGRESOR, dtype: object"
      ]
     },
     "execution_count": 99,
     "metadata": {},
     "output_type": "execute_result"
    }
   ],
   "source": [
    "cem_2019_df['SEXO_AGRESOR'].value_counts(normalize=True).mul(100).round(1).astype(str) + '%'"
   ]
  },
  {
   "cell_type": "code",
   "execution_count": 100,
   "metadata": {},
   "outputs": [
    {
     "data": {
      "text/plain": [
       "1    64.3%\n",
       "0    35.7%\n",
       "Name: INTERPUSO_DENUNCIA, dtype: object"
      ]
     },
     "execution_count": 100,
     "metadata": {},
     "output_type": "execute_result"
    }
   ],
   "source": [
    "cem_2018_df['INTERPUSO_DENUNCIA'].value_counts(normalize=True).mul(100).round(1).astype(str) + '%'"
   ]
  },
  {
   "cell_type": "code",
   "execution_count": 101,
   "metadata": {},
   "outputs": [
    {
     "data": {
      "text/plain": [
       "1    49.8%\n",
       "2    40.1%\n",
       "3     9.6%\n",
       "0     0.5%\n",
       "Name: TIPO_VIOLENCIA, dtype: object"
      ]
     },
     "execution_count": 101,
     "metadata": {},
     "output_type": "execute_result"
    }
   ],
   "source": [
    "cem_2018_df['TIPO_VIOLENCIA'].value_counts(normalize=True).mul(100).round(1).astype(str) + '%'"
   ]
  },
  {
   "cell_type": "code",
   "execution_count": null,
   "metadata": {},
   "outputs": [],
   "source": [
    "# Columnas a usar:\n",
    "# CEM, UBIGEO, FECHA (para filtrar)\n",
    "# 1) INFORMANTE (0,1)\n",
    "# 2) FORMA_INGRESO\n",
    "# 3) EDAD_VICTIMA\n",
    "# 4) SEXO_VICTIMA\n",
    "# 5) HIJAS_VIVAS\n",
    "# 6) HIJOS_VIVOS\n",
    "# 7) \n",
    "# 8) ETNIA_VICTIMA\n",
    "# 9) \n",
    "# 10) FACTOR_AGRESOR_CONSUMO_ALCOHOL\n",
    "# 11) \n",
    "# 12) AREA_RESIDENCIA_DOMICILIO\n",
    "# 13) ESTADO_CIVIL_VICTIMA\n",
    "# 14) NIVEL_EDUCATIVO_VICTIMA\n",
    "# 15) TRABAJA_VICTIMA\n",
    "# 16) VINCULO_AGRESOR_VICTIMA\n",
    "# 17) AGRESOR_VIVE_CASA_VICTIMA\n",
    "# 18) SEXO_AGRESOR\n",
    "# 19) AGRESIONES_FISICAS\n",
    "# 20) AGRESIONES_PSICOLOGICAS\n",
    "# 21) AGRESIONES_ECONOMICAS\n",
    "# 22) AGRESIONES SEXUALES\n",
    "# 23) INTERPUSO_DENUNCIA\n",
    "# 24) TIPO_VIOLENCIA"
   ]
  },
  {
   "cell_type": "markdown",
   "metadata": {},
   "source": [
    "# Preparamos datos para el 2020"
   ]
  },
  {
   "cell_type": "code",
   "execution_count": 74,
   "metadata": {},
   "outputs": [
    {
     "name": "stdout",
     "output_type": "stream",
     "text": [
      "CEM\n",
      "CONDICION\n",
      "FECHA_INGRESO\n",
      "INFORMANTE\n",
      "FORMA_INGRESO\n",
      "VICTIMA_PERUANA\n",
      "VICTIMA_CUENTA_DNI\n",
      "VICTIMA_EXTRANJERA\n",
      "VICTIMA_PAIS_EXTRANJERO\n",
      "VICTIMA_CARNE_EXTRANJERIA\n",
      "VICTIMA_SOLICITANTE_REFUGIO\n",
      "VICTIMA_REFUGIADO\n",
      "VICTIMA_SOLICITANTE_ASILO\n",
      "VICTIMA_ASILADO\n",
      "VICTIMA_APATRIDA\n",
      "VICTIMA_OTRA_SIT_MIGR\n",
      "VICTIMA_NINGUNA_SIT_MIGR\n",
      "EDAD_VICTIMA\n",
      "SEXO_VICTIMA\n",
      "VICTIMA_GESTANDO\n",
      "HIJAS_VIVAS\n",
      "HIJOS_VIVOS\n",
      "LENGUA_MATERNA_VICTIMA\n",
      "ETNIA_VICTIMA\n",
      "DPTO_DOMICILIO\n",
      "PROV_DOMICILIO\n",
      "DIST_DOMICILIO\n",
      "CENTRO_POBLADO_DOMICILIO\n",
      "AREA_RESIDENCIA_DOMICILIO\n",
      "ESTADO_CIVIL_VICTIMA\n",
      "NIVEL_EDUCATIVO_VICTIMA\n",
      "ESTUDIA\n",
      "LUGAR_ESTUDIA\n",
      "TIPO_GESTION_ESTUDIA\n",
      "TRABAJA_VICTIMA\n",
      "OCUPACION_VICTIMA\n",
      "SIS_SEGURO\n",
      "ESSALUD_SEGURO\n",
      "OTRO_SEGURO\n",
      "NINGUN_SEGURO\n",
      "AGRESOR_PERUANO\n",
      "AGRESOR_CUENTA_DNI\n",
      "AGRESOR_EXTRANJERO\n",
      "AGRESOR_PAIS_EXTRANJERO\n",
      "AGRESOR_CARNE_EXTRANJERIA\n",
      "AGRESOR_SOLICITANTE_REFUGIO\n",
      "AGRESOR_REFUGIADO\n",
      "AGRESOR_SOLICITANTE_ASILO\n",
      "AGRESOR_ASILADO\n",
      "AGRESOR_APATRIDA\n",
      "AGRESOR_OTRA_SIT_MIGR\n",
      "AGRESOR_NINGUNA_SIT_MIGR\n",
      "VINCULO_AGRESOR_VICTIMA\n",
      "VINCULO_PAREJA\n",
      "VINCULO_FAMILIAR\n",
      "SIN_VINCULO\n",
      "AGRESOR_VIVE_CASA_VICTIMA\n",
      "EDAD_AGRESOR\n",
      "SEXO_AGRESOR\n",
      "NIVEL_EDUCATIVO_AGRESOR\n",
      "TRABAJA_AGRESOR\n",
      "OCUPACION_AGRESOR\n",
      "PERTURBACION_POSESION\n",
      "MENOSCABO_TENENCIA_BIENES\n",
      "PERDIDA_DERECHOS_PATRIMONIALES\n",
      "LIMITACION_RECURSOS_ECONOMICOS\n",
      "PRIVACION_MEDIOS_INDISPENSABLES\n",
      "INCUMPLIMIENTO_OBLIGACION_ALIMENTARIA\n",
      "CONTROL_DE_INGRESOS\n",
      "PERCEPCION_SALARIO_MENOR\n",
      "OTRA_VECON_PATRIM\n",
      "GRITOS_INSULTOS\n",
      "VIOLENCIA_RACIAL\n",
      "INDIFERENCIA\n",
      "DISCR_ORIENTACION_SEXUAL\n",
      "DISCR_GENERO\n",
      "DISCR_IDENTIDAD_GENERO\n",
      "RECHAZO\n",
      "DESVALORIZACION_HUMILLACION\n",
      "AMENAZA_QUITAR_HIJOS\n",
      "OTRAS_AMENAZAS\n",
      "PROHIBE_RECIBIR_VISITAS\n",
      "PROHIBE_ESTUDIAR_TRABAJAR_SALIR\n",
      "ROMPE_DESTRUYE_COSAS\n",
      "VIGILANCIA_CONTINUA_PERSECUCION\n",
      "BOTAR_CASA\n",
      "AMENAZA_DE_MUERTE\n",
      "ABANDONO\n",
      "OTRA_VPSI\n",
      "PUNTAPIES_PATADAS\n",
      "PUÑETAZOS\n",
      "BOFETADAS\n",
      "JALONES_CABELLO\n",
      "OTRAS_AGRESIONES\n",
      "EMPUJONES\n",
      "GOLPES_CON_PALOS\n",
      "LATIGAZO\n",
      "AHORCAMIENTO\n",
      "HERIDAS_CON_ARMAS\n",
      "GOLPES_CON_OBJETOS_CONTUNDENTES\n",
      "NEGLIGENCIA\n",
      "OTRA_VFIS\n",
      "HOSTIGAMIENTO_SEXUAL\n",
      "ACOSO_SEX_ESP_PUB\n",
      "VIOLACION\n",
      "ACTOS_CONTRA_EL_PUDOR\n",
      "TRATA_CON_FINES_EXPLOTACION_SEXUAL\n",
      "EXPLOTACION_SEXUAL\n",
      "PORNOGRAFIA\n",
      "OTRA_VSEX\n",
      "DEPENDE_VICTIMA_FEMINICIDIO\n",
      "PRIMERA_VEZ_AGREDE\n",
      "N_AÑOS\n",
      "N_MESES\n",
      "N_SEMANAS\n",
      "FRECUENCIA_AGREDE\n",
      "ESTADO_AGRESOR_U_A\n",
      "ESTADO_AGRESOR_G\n",
      "ESTADO_VICTIMA_U_A\n",
      "ESTADO_VICTIMA_G\n",
      "TRATAMIENTO_PSICOLOGICO\n",
      "TRATAMIENTO_PSIQUIATRICO\n",
      "ATENCION_MEDICA\n",
      "OTRO_TRATAMIENTO\n",
      "NINGUN_TRATAMIENTO\n",
      "CONTINUA_RECIBIENDO_TRATAMIENTO\n",
      "VINCULO_AFECTIVO_FAMILIA\n",
      "VINCULO_AFECTIVO_AMIGOS\n",
      "VINCULO_AFECTIVO_VECINOS\n",
      "VINCULO_AFECTIVO_ASOCIACIONES\n",
      "VINCULO_AFECTIVO_ORGANIZACIONES_CIVICAS\n",
      "VINCULO_AFECTIVO_COMPAÑEROS_TRABAJO\n",
      "VINCULO_AFECTIVO_OTRO\n",
      "VINCULO_AFECTIVO_NINGUNO\n",
      "REDES_FAM_SOC\n",
      "APOYO_EMOCIONAL\n",
      "APOYO_COGNITIVO\n",
      "APOYO_INSTRUMENTAL\n",
      "APOYO_MATERIAL\n",
      "FACTOR_AGRESOR_CONSUMO_ALCOHOL\n",
      "FACTOR_AGRESOR_CONSUME_DROGA\n",
      "FACTOR_VICTIMA_DISCAPACIDAD\n",
      "FACTOR_VICTIMA_ABUSO_CONSUMO_ALCOHOL\n",
      "FACTOR_VICTIMA_CONSUME_DROGAS\n",
      "VULNERABILIDAD_VICTIMA_LGTBI\n",
      "VULNERABILIDAD_VICTIMA_VIH\n",
      "VIOLENCIA_CARCELARIA\n",
      "NIVEL_DE_RIESGO_VICTIMA\n",
      "INTERPUSO_DENUNCIA\n",
      "DONDE_INTERPUSO_DENUNCIA\n",
      "DESEA_DENUNCIAR\n",
      "CUENTA_MEDIDAS_PROTECCION\n",
      "CUENTA_MEDIDAS_CAUTELARES\n",
      "DESEA_PATROCINIO_LEGAL\n",
      "CASO_TENTATIVA_DE_FEMINICIDIO\n",
      "LUGAR_TENTATIVA_DE_FEMINICIDIO\n",
      "SITUACION_AGRESOR\n",
      "TIPO_VIOLENCIA\n"
     ]
    }
   ],
   "source": [
    "for col in cem_2020_df.columns:\n",
    "    print(col)"
   ]
  },
  {
   "cell_type": "code",
   "execution_count": 102,
   "metadata": {},
   "outputs": [
    {
     "data": {
      "text/plain": [
       "1    74.2%\n",
       "0    25.8%\n",
       "Name: INFORMANTE, dtype: object"
      ]
     },
     "execution_count": 102,
     "metadata": {},
     "output_type": "execute_result"
    }
   ],
   "source": [
    "cem_2020_df['INFORMANTE'].value_counts(normalize=True).mul(100).round(1).astype(str) + '%'"
   ]
  },
  {
   "cell_type": "code",
   "execution_count": 103,
   "metadata": {},
   "outputs": [
    {
     "data": {
      "text/plain": [
       "10    48.7%\n",
       "1     23.0%\n",
       "17     5.6%\n",
       "6      5.1%\n",
       "13     3.3%\n",
       "3      3.2%\n",
       "16     3.0%\n",
       "9      2.1%\n",
       "11     2.0%\n",
       "5      1.2%\n",
       "12     1.1%\n",
       "2      1.1%\n",
       "4      0.4%\n",
       "15     0.3%\n",
       "8      0.1%\n",
       "14     0.0%\n",
       "7      0.0%\n",
       "Name: FORMA_INGRESO, dtype: object"
      ]
     },
     "execution_count": 103,
     "metadata": {},
     "output_type": "execute_result"
    }
   ],
   "source": [
    "cem_2020_df['FORMA_INGRESO'].value_counts(normalize=True).mul(100).round(1).astype(str) + '%'"
   ]
  },
  {
   "cell_type": "code",
   "execution_count": 104,
   "metadata": {},
   "outputs": [
    {
     "data": {
      "text/plain": [
       "13     2.6%\n",
       "14     2.6%\n",
       "15     2.5%\n",
       "12     2.4%\n",
       "27     2.2%\n",
       "       ... \n",
       "98     0.0%\n",
       "97     0.0%\n",
       "99     0.0%\n",
       "104    0.0%\n",
       "100    0.0%\n",
       "Name: EDAD_VICTIMA, Length: 102, dtype: object"
      ]
     },
     "execution_count": 104,
     "metadata": {},
     "output_type": "execute_result"
    }
   ],
   "source": [
    "cem_2020_df['EDAD_VICTIMA'].value_counts(normalize=True).mul(100).round(1).astype(str) + '%'"
   ]
  },
  {
   "cell_type": "code",
   "execution_count": 105,
   "metadata": {},
   "outputs": [
    {
     "data": {
      "text/plain": [
       "0    85.5%\n",
       "1    14.5%\n",
       "Name: SEXO_VICTIMA, dtype: object"
      ]
     },
     "execution_count": 105,
     "metadata": {},
     "output_type": "execute_result"
    }
   ],
   "source": [
    "cem_2020_df['SEXO_VICTIMA'].value_counts(normalize=True).mul(100).round(1).astype(str) + '%'"
   ]
  },
  {
   "cell_type": "code",
   "execution_count": 106,
   "metadata": {},
   "outputs": [
    {
     "data": {
      "text/plain": [
       "0    54.9%\n",
       "1    24.0%\n",
       "2    12.7%\n",
       "3     5.2%\n",
       "4     2.0%\n",
       "5     0.8%\n",
       "6     0.3%\n",
       "7     0.1%\n",
       "8     0.0%\n",
       "Name: HIJAS_VIVAS, dtype: object"
      ]
     },
     "execution_count": 106,
     "metadata": {},
     "output_type": "execute_result"
    }
   ],
   "source": [
    "cem_2020_df['HIJAS_VIVAS'].value_counts(normalize=True).mul(100).round(1).astype(str) + '%'"
   ]
  },
  {
   "cell_type": "code",
   "execution_count": 107,
   "metadata": {},
   "outputs": [
    {
     "data": {
      "text/plain": [
       "0    53.8%\n",
       "1    24.3%\n",
       "2    13.2%\n",
       "3     5.5%\n",
       "4     2.0%\n",
       "5     0.8%\n",
       "6     0.3%\n",
       "7     0.1%\n",
       "8     0.0%\n",
       "Name: HIJOS_VIVOS, dtype: object"
      ]
     },
     "execution_count": 107,
     "metadata": {},
     "output_type": "execute_result"
    }
   ],
   "source": [
    "cem_2020_df['HIJOS_VIVOS'].value_counts(normalize=True).mul(100).round(1).astype(str) + '%'"
   ]
  },
  {
   "cell_type": "code",
   "execution_count": 108,
   "metadata": {},
   "outputs": [
    {
     "data": {
      "text/plain": [
       "7    84.4%\n",
       "1    12.0%\n",
       "2     1.7%\n",
       "6     1.1%\n",
       "3     0.3%\n",
       "4     0.3%\n",
       "8     0.1%\n",
       "5     0.0%\n",
       "Name: ETNIA_VICTIMA, dtype: object"
      ]
     },
     "execution_count": 108,
     "metadata": {},
     "output_type": "execute_result"
    }
   ],
   "source": [
    "cem_2020_df['ETNIA_VICTIMA'].value_counts(normalize=True).mul(100).round(1).astype(str) + '%'"
   ]
  },
  {
   "cell_type": "code",
   "execution_count": 109,
   "metadata": {},
   "outputs": [
    {
     "data": {
      "text/plain": [
       "     76.1%\n",
       "1    23.9%\n",
       "Name: FACTOR_AGRESOR_CONSUMO_ALCOHOL, dtype: object"
      ]
     },
     "execution_count": 109,
     "metadata": {},
     "output_type": "execute_result"
    }
   ],
   "source": [
    "cem_2020_df['FACTOR_AGRESOR_CONSUMO_ALCOHOL'].value_counts(normalize=True).mul(100).round(1).astype(str) + '%'"
   ]
  },
  {
   "cell_type": "code",
   "execution_count": 110,
   "metadata": {},
   "outputs": [
    {
     "data": {
      "text/plain": [
       "U    82.9%\n",
       "R    17.1%\n",
       "Name: AREA_RESIDENCIA_DOMICILIO, dtype: object"
      ]
     },
     "execution_count": 110,
     "metadata": {},
     "output_type": "execute_result"
    }
   ],
   "source": [
    "cem_2020_df['AREA_RESIDENCIA_DOMICILIO'].value_counts(normalize=True).mul(100).round(1).astype(str) + '%'"
   ]
  },
  {
   "cell_type": "code",
   "execution_count": 111,
   "metadata": {},
   "outputs": [
    {
     "data": {
      "text/plain": [
       "1    82.4%\n",
       "2    14.9%\n",
       "4     1.8%\n",
       "3     0.9%\n",
       "Name: ESTADO_CIVIL_VICTIMA, dtype: object"
      ]
     },
     "execution_count": 111,
     "metadata": {},
     "output_type": "execute_result"
    }
   ],
   "source": [
    "cem_2020_df['ESTADO_CIVIL_VICTIMA'].value_counts(normalize=True).mul(100).round(1).astype(str) + '%'"
   ]
  },
  {
   "cell_type": "code",
   "execution_count": 112,
   "metadata": {},
   "outputs": [
    {
     "data": {
      "text/plain": [
       "5     21.6%\n",
       "6     20.6%\n",
       "3     19.5%\n",
       "8      7.3%\n",
       "4      7.0%\n",
       "1      5.9%\n",
       "10     5.5%\n",
       "7      4.6%\n",
       "9      4.3%\n",
       "2      3.5%\n",
       "12     0.1%\n",
       "11     0.0%\n",
       "Name: NIVEL_EDUCATIVO_VICTIMA, dtype: object"
      ]
     },
     "execution_count": 112,
     "metadata": {},
     "output_type": "execute_result"
    }
   ],
   "source": [
    "cem_2020_df['NIVEL_EDUCATIVO_VICTIMA'].value_counts(normalize=True).mul(100).round(1).astype(str) + '%'"
   ]
  },
  {
   "cell_type": "code",
   "execution_count": 113,
   "metadata": {},
   "outputs": [
    {
     "data": {
      "text/plain": [
       "0    66.7%\n",
       "1    33.3%\n",
       "Name: TRABAJA_VICTIMA, dtype: object"
      ]
     },
     "execution_count": 113,
     "metadata": {},
     "output_type": "execute_result"
    }
   ],
   "source": [
    "cem_2020_df['TRABAJA_VICTIMA'].value_counts(normalize=True).mul(100).round(1).astype(str) + '%'"
   ]
  },
  {
   "cell_type": "code",
   "execution_count": 114,
   "metadata": {},
   "outputs": [
    {
     "data": {
      "text/plain": [
       "1    49.8%\n",
       "2    41.9%\n",
       "3     8.3%\n",
       "Name: VINCULO_AGRESOR_VICTIMA, dtype: object"
      ]
     },
     "execution_count": 114,
     "metadata": {},
     "output_type": "execute_result"
    }
   ],
   "source": [
    "cem_2020_df['VINCULO_AGRESOR_VICTIMA'].value_counts(normalize=True).mul(100).round(1).astype(str) + '%'"
   ]
  },
  {
   "cell_type": "code",
   "execution_count": 115,
   "metadata": {},
   "outputs": [
    {
     "data": {
      "text/plain": [
       "2    56.0%\n",
       "1    42.9%\n",
       "3     1.1%\n",
       "Name: AGRESOR_VIVE_CASA_VICTIMA, dtype: object"
      ]
     },
     "execution_count": 115,
     "metadata": {},
     "output_type": "execute_result"
    }
   ],
   "source": [
    "cem_2020_df['AGRESOR_VIVE_CASA_VICTIMA'].value_counts(normalize=True).mul(100).round(1).astype(str) + '%'"
   ]
  },
  {
   "cell_type": "code",
   "execution_count": 116,
   "metadata": {},
   "outputs": [
    {
     "data": {
      "text/plain": [
       "1    87.1%\n",
       "0    12.9%\n",
       "Name: SEXO_AGRESOR, dtype: object"
      ]
     },
     "execution_count": 116,
     "metadata": {},
     "output_type": "execute_result"
    }
   ],
   "source": [
    "cem_2020_df['SEXO_AGRESOR'].value_counts(normalize=True).mul(100).round(1).astype(str) + '%'"
   ]
  },
  {
   "cell_type": "code",
   "execution_count": 117,
   "metadata": {},
   "outputs": [
    {
     "data": {
      "text/plain": [
       "1    75.2%\n",
       "0    24.8%\n",
       "Name: INTERPUSO_DENUNCIA, dtype: object"
      ]
     },
     "execution_count": 117,
     "metadata": {},
     "output_type": "execute_result"
    }
   ],
   "source": [
    "cem_2020_df['INTERPUSO_DENUNCIA'].value_counts(normalize=True).mul(100).round(1).astype(str) + '%'"
   ]
  },
  {
   "cell_type": "code",
   "execution_count": 118,
   "metadata": {},
   "outputs": [
    {
     "data": {
      "text/plain": [
       "1    48.9%\n",
       "2    38.5%\n",
       "3    12.1%\n",
       "0     0.5%\n",
       "Name: TIPO_VIOLENCIA, dtype: object"
      ]
     },
     "execution_count": 118,
     "metadata": {},
     "output_type": "execute_result"
    }
   ],
   "source": [
    "cem_2020_df['TIPO_VIOLENCIA'].value_counts(normalize=True).mul(100).round(1).astype(str) + '%'"
   ]
  },
  {
   "cell_type": "code",
   "execution_count": null,
   "metadata": {},
   "outputs": [],
   "source": [
    "# Columnas a usar:\n",
    "# CEM, UBIGEO, FECHA (para filtrar)\n",
    "# 1) INFORMANTE (0,1)\n",
    "# 2) FORMA_INGRESO\n",
    "# 3) EDAD_VICTIMA\n",
    "# 4) SEXO_VICTIMA\n",
    "# 5) HIJAS_VIVAS\n",
    "# 6) HIJOS_VIVOS\n",
    "# 7) \n",
    "# 8) ETNIA_VICTIMA\n",
    "# 9) \n",
    "# 10) FACTOR_AGRESOR_CONSUMO_ALCOHOL (REEMPLAZAR ' ' por 0)\n",
    "# 11) \n",
    "# 12) AREA_RESIDENCIA_DOMICILIO\n",
    "# 13) ESTADO_CIVIL_VICTIMA\n",
    "# 14) NIVEL_EDUCATIVO_VICTIMA\n",
    "# 15) TRABAJA_VICTIMA\n",
    "# 16) VINCULO_AGRESOR_VICTIMA\n",
    "# 17) AGRESOR_VIVE_CASA_VICTIMA\n",
    "# 18) SEXO_AGRESOR\n",
    "# 19) AGRESIONES_FISICAS\n",
    "# 20) AGRESIONES_PSICOLOGICAS\n",
    "# 21) AGRESIONES_ECONOMICAS\n",
    "# 22) AGRESIONES_SEXUALES\n",
    "# 23) INTERPUSO_DENUNCIA\n",
    "# 24) TIPO_VIOLENCIA"
   ]
  },
  {
   "cell_type": "code",
   "execution_count": 133,
   "metadata": {},
   "outputs": [],
   "source": [
    "# el ubigeo\n",
    "UBIGEO = pd.read_csv(\"../prepro_impact/CEM_UBIGEO_MAPPED_2021.csv\",delimiter=\",\")"
   ]
  },
  {
   "cell_type": "code",
   "execution_count": 134,
   "metadata": {},
   "outputs": [],
   "source": [
    "def add_ubigeo_fields_to_CEM_df(ubigeo,cem_df):\n",
    "    DEP = []\n",
    "    PROV = []\n",
    "    DISTR = []\n",
    "    for i in range(len(cem_df['CEM'])):\n",
    "        for j in range(len(ubigeo['CEM'])):\n",
    "            if(cem_df['CEM'][i] == ubigeo['CEM'][j]):\n",
    "                DEP.append(ubigeo['DEP'][j])\n",
    "                PROV.append(ubigeo['PROV'][j])\n",
    "                DISTR.append(ubigeo['DISTR'][j])\n",
    "                break\n",
    "    cem_df = cem_df.assign(DEP = DEP)\n",
    "    cem_df = cem_df.assign(PROV = PROV)\n",
    "    cem_df = cem_df.assign(DISTR = DISTR)\n",
    "    return cem_df"
   ]
  },
  {
   "cell_type": "code",
   "execution_count": 135,
   "metadata": {},
   "outputs": [],
   "source": [
    "# AGREGAR UBIGEO A TODOS LOS DF\n",
    "ubigeo_2017_df = add_ubigeo_fields_to_CEM_df(UBIGEO,cem_2017_df)\n",
    "ubigeo_2018_df = add_ubigeo_fields_to_CEM_df(UBIGEO,cem_2018_df)\n",
    "ubigeo_2019_df = add_ubigeo_fields_to_CEM_df(UBIGEO,cem_2019_df)\n",
    "ubigeo_2020_df = add_ubigeo_fields_to_CEM_df(UBIGEO,cem_2020_df)"
   ]
  },
  {
   "cell_type": "code",
   "execution_count": 159,
   "metadata": {},
   "outputs": [],
   "source": [
    "# extraer columnas tal cual, a excepción de las columnas 19,20,21,22 que surgen\n",
    "# a partir de las columnas de agresiones presentes en el caso\n",
    "def generateDataForClustering(df,year):\n",
    "    df['FACTOR_AGRESOR_CONSUMO_ALCOHOL'] = df['FACTOR_AGRESOR_CONSUMO_ALCOHOL'].replace(' ',0)\n",
    "    columns = ['INFORMANTE','FORMA_INGRESO','SEXO_VICTIMA','HIJAS_VIVAS','HIJOS_VIVOS'\n",
    "                    ,'ETNIA_VICTIMA','AREA_RESIDENCIA_DOMICILIO', 'ESTADO_CIVIL_VICTIMA', 'NIVEL_EDUCATIVO_VICTIMA'\n",
    "                   , 'TRABAJA_VICTIMA', 'VINCULO_AGRESOR_VICTIMA', 'AGRESOR_VIVE_CASA_VICTIMA','SEXO_AGRESOR', 'INTERPUSO_DENUNCIA'\n",
    "                   , 'TIPO_VIOLENCIA','FECHA_INGRESO','CEM','DEP','PROV','DISTR','FACTOR_AGRESOR_CONSUMO_ALCOHOL','EDAD_VICTIMA']\n",
    "\n",
    "    reduced_df = df[columns]\n",
    "    AGRESIONES_FISICAS = []\n",
    "    AGRESIONES_PSICOLOGICAS = []\n",
    "    AGRESIONES_ECONOMICAS = []\n",
    "    AGRESIONES_SEXUALES = []\n",
    "    \n",
    "    vpsi_2017 = ['GRITOS_INSULTOS','VIOLENCIA_RACIAL','INDIFERENCIA','DISCR_ORIENTACION_SEXUAL','DISCR_GENERO','DISCR_IDENTIDAD_GENERO','RECHAZO','DESVALORIZACION_HUMILLACION','AMENAZA_QUITAR_HIJOS','OTRAS_AMENAZAS','PROHIBE_RECIBIR_VISITAS','PROHIBE_ESTUDIAR_TRABAJAR_SALIR','ROMPE_DESTRUYE_COSAS','VIGILANCIA_CONTINUA_PERSECUCION','BOTAR_CASA','AMENAZA_DE_MUERTE','ABANDONO','OTRA_VPSI']\n",
    "    vfis_2017 = ['PUNTAPIES_PATADAS','PUÑETAZOS','BOFETADAS','JALONES_CABELLO','OTRAS_AGRESIONES','EMPUJONES','GOLPES_CON_PALOS','LATIGAZO','AHORCAMIENTO','HERIDAS_CON_ARMAS','GOLPES_CON_OBJETOS_CONTUNDENTES','NEGLIGENCIA','OTRA_VFIS']\n",
    "    veco_2017 = ['PERTURBACION_POSESION','MENOSCABO_TENENCIA_BIENES','PERDIDA_DERECHOS_PATRIMONIALES','LIMITACION_RECURSOS_ECONOMICOS','PRIVACION_MEDIOS_INDISPENSABLES','INCUMPLIMIENTO_OBLIGACION_ALIMENTARIA','CONTROL_DE_INGRESOS','PERCEPCION_SALARIO_MENOR','OTRA_VECON_PATRIM']\n",
    "    vsex_2017 = ['ACOSO_SEXUAL','OFENSAS_AL_PUDOR','VIOLACION','ACTOS_CONTRA_EL_PUDOR','TRATA_CON_FINES_EXPLOTACION_SEXUAL','EXPLOTACION_SEXUAL','PORNOGRAFIA','OTRA_VSEX']\n",
    "    \n",
    "    veco_2018 = ['PERTURBACION_POSESION','MENOSCABO_TENENCIA_BIENES','PERDIDA_DERECHOS_PATRIMONIALES','LIMITACION_RECURSOS_ECONOMICOS','PRIVACION_MEDIOS_INDISPENSABLES','INCUMPLIMIENTO_OBLIGACION_ALIMENTARIA','CONTROL_DE_INGRESOS','PERCEPCION_SALARIO_MENOR','OTRA_VECON_PATRIM']\n",
    "    vpsi_2018 = ['GRITOS_INSULTOS','VIOLENCIA_RACIAL','INDIFERENCIA','DISCR_ORIENTACION_SEXUAL','DISCR_GENERO','DISCR_IDENTIDAD_GENERO','RECHAZO','DESVALORIZACION_HUMILLACION','AMENAZA_QUITAR_HIJOS','OTRAS_AMENAZAS','PROHIBE_RECIBIR_VISITAS','PROHIBE_ESTUDIAR_TRABAJAR_SALIR','ROMPE_DESTRUYE_COSAS','VIGILANCIA_CONTINUA_PERSECUCION','BOTAR_CASA','AMENAZA_DE_MUERTE','ABANDONO','OTRA_VPSI']\n",
    "    vfis_2018 = ['PUNTAPIES_PATADAS','PUÑETAZOS','BOFETADAS','JALONES_CABELLO','OTRAS_AGRESIONES','EMPUJONES','GOLPES_CON_PALOS','LATIGAZO','AHORCAMIENTO','HERIDAS_CON_ARMAS','GOLPES_CON_OBJETOS_CONTUNDENTES','NEGLIGENCIA','OTRA_VFIS']\n",
    "    vsex_2018 = ['HOSTIGAMIENTO_SEXUAL','ACOSO_SEX_ESP_PUB','VIOLACION','ACTOS_CONTRA_EL_PUDOR','TRATA_CON_FINES_EXPLOTACION_SEXUAL','EXPLOTACION_SEXUAL','PORNOGRAFIA','OTRA_VSEX']\n",
    "    \n",
    "    veco_2019 = ['PERTURBACION_POSESION','MENOSCABO_TENENCIA_BIENES','PERDIDA_DERECHOS_PATRIMONIALES','LIMITACION_RECURSOS_ECONOMICOS','PRIVACION_MEDIOS_INDISPENSABLES','INCUMPLIMIENTO_OBLIGACION_ALIMENTARIA','CONTROL_DE_INGRESOS','PERCEPCION_SALARIO_MENOR','OTRA_VECON_PATRIM']\n",
    "    vpsi_2019 = ['GRITOS_INSULTOS','VIOLENCIA_RACIAL','INDIFERENCIA','DISCR_ORIENTACION_SEXUAL','DISCR_GENERO','DISCR_IDENTIDAD_GENERO','RECHAZO','DESVALORIZACION_HUMILLACION','AMENAZA_QUITAR_HIJOS','OTRAS_AMENAZAS','PROHIBE_RECIBIR_VISITAS','PROHIBE_ESTUDIAR_TRABAJAR_SALIR','ROMPE_DESTRUYE_COSAS','VIGILANCIA_CONTINUA_PERSECUCION','BOTAR_CASA','AMENAZA_DE_MUERTE','ABANDONO','OTRA_VPSI']\n",
    "    vfis_2019 = ['PUNTAPIES_PATADAS','PUÑETAZOS','BOFETADAS','JALONES_CABELLO','OTRAS_AGRESIONES','EMPUJONES','GOLPES_CON_PALOS','LATIGAZO','AHORCAMIENTO','HERIDAS_CON_ARMAS','GOLPES_CON_OBJETOS_CONTUNDENTES','NEGLIGENCIA','OTRA_VFIS']\n",
    "    vsex_2019 = ['HOSTIGAMIENTO_SEXUAL','ACOSO_SEX_ESP_PUB','VIOLACION','ACTOS_CONTRA_EL_PUDOR','TRATA_CON_FINES_EXPLOTACION_SEXUAL','EXPLOTACION_SEXUAL','PORNOGRAFIA','OTRA_VSEX']\n",
    "    \n",
    "    veco_2020 = ['PERTURBACION_POSESION','MENOSCABO_TENENCIA_BIENES','PERDIDA_DERECHOS_PATRIMONIALES','LIMITACION_RECURSOS_ECONOMICOS','PRIVACION_MEDIOS_INDISPENSABLES','INCUMPLIMIENTO_OBLIGACION_ALIMENTARIA','CONTROL_DE_INGRESOS','PERCEPCION_SALARIO_MENOR','OTRA_VECON_PATRIM']\n",
    "    vpsi_2020 = ['GRITOS_INSULTOS','VIOLENCIA_RACIAL','INDIFERENCIA','DISCR_ORIENTACION_SEXUAL','DISCR_GENERO','DISCR_IDENTIDAD_GENERO','RECHAZO','DESVALORIZACION_HUMILLACION','AMENAZA_QUITAR_HIJOS','OTRAS_AMENAZAS','PROHIBE_RECIBIR_VISITAS','PROHIBE_ESTUDIAR_TRABAJAR_SALIR','ROMPE_DESTRUYE_COSAS','VIGILANCIA_CONTINUA_PERSECUCION','BOTAR_CASA','AMENAZA_DE_MUERTE','ABANDONO','OTRA_VPSI']\n",
    "    vfis_2020 = ['PUNTAPIES_PATADAS','PUÑETAZOS','BOFETADAS','JALONES_CABELLO','OTRAS_AGRESIONES','EMPUJONES','GOLPES_CON_PALOS','LATIGAZO','AHORCAMIENTO','HERIDAS_CON_ARMAS','GOLPES_CON_OBJETOS_CONTUNDENTES','NEGLIGENCIA','OTRA_VFIS']\n",
    "    vsex_2020 = ['HOSTIGAMIENTO_SEXUAL','ACOSO_SEX_ESP_PUB','VIOLACION','ACTOS_CONTRA_EL_PUDOR','TRATA_CON_FINES_EXPLOTACION_SEXUAL','EXPLOTACION_SEXUAL','PORNOGRAFIA','OTRA_VSEX']\n",
    "    \n",
    "    if(year == 2017):\n",
    "        for i in range(len(df['CEM'])):\n",
    "            psi = 0\n",
    "            fis = 0\n",
    "            veco = 0\n",
    "            sex = 0\n",
    "            for aggr in vpsi_2017:\n",
    "                if(df[aggr][i] == '1'):\n",
    "                    psi +=1\n",
    "                    break\n",
    "            for aggr in vfis_2017:\n",
    "                if(df[aggr][i] == '1'):\n",
    "                    fis +=1\n",
    "                    break\n",
    "            for aggr in veco_2017:\n",
    "                if(df[aggr][i] == '1'):\n",
    "                    veco +=1\n",
    "                    break\n",
    "            for aggr in vsex_2017:\n",
    "                if(df[aggr][i] == '1'):\n",
    "                    sex +=1\n",
    "                    break\n",
    "            AGRESIONES_FISICAS.append(fis)\n",
    "            AGRESIONES_PSICOLOGICAS.append(psi)\n",
    "            AGRESIONES_ECONOMICAS.append(veco)\n",
    "            AGRESIONES_SEXUALES.append(sex)\n",
    "                    \n",
    "    elif(year==2018):\n",
    "        for i in range(len(df['CEM'])):\n",
    "            psi = 0\n",
    "            fis = 0\n",
    "            veco = 0\n",
    "            sex = 0\n",
    "            for aggr in vpsi_2018:\n",
    "                if(df[aggr][i] == '1'):\n",
    "                    psi +=1\n",
    "                    break\n",
    "            for aggr in vfis_2018:\n",
    "                if(df[aggr][i] == '1'):\n",
    "                    fis +=1\n",
    "                    break\n",
    "            for aggr in veco_2018:\n",
    "                if(df[aggr][i] == '1'):\n",
    "                    veco +=1\n",
    "                    break\n",
    "            for aggr in vsex_2018:\n",
    "                if(df[aggr][i] == '1'):\n",
    "                    sex +=1\n",
    "                    break\n",
    "            AGRESIONES_FISICAS.append(fis)\n",
    "            AGRESIONES_PSICOLOGICAS.append(psi)\n",
    "            AGRESIONES_ECONOMICAS.append(veco)\n",
    "            AGRESIONES_SEXUALES.append(sex)\n",
    "\n",
    "    elif(year==2019):\n",
    "        for i in range(len(df['CEM'])):\n",
    "            psi = 0\n",
    "            fis = 0\n",
    "            veco = 0\n",
    "            sex = 0\n",
    "            for aggr in vpsi_2019:\n",
    "                if(df[aggr][i] == '1'):\n",
    "                    psi +=1\n",
    "                    break\n",
    "            for aggr in vfis_2019:\n",
    "                if(df[aggr][i] == '1'):\n",
    "                    fis +=1\n",
    "                    break\n",
    "            for aggr in veco_2019:\n",
    "                if(df[aggr][i] == '1'):\n",
    "                    veco +=1\n",
    "                    break\n",
    "            for aggr in vsex_2019:\n",
    "                if(df[aggr][i] == '1'):\n",
    "                    sex +=1\n",
    "                    break\n",
    "            AGRESIONES_FISICAS.append(fis)\n",
    "            AGRESIONES_PSICOLOGICAS.append(psi)\n",
    "            AGRESIONES_ECONOMICAS.append(veco)\n",
    "            AGRESIONES_SEXUALES.append(sex)\n",
    "    else:\n",
    "        for i in range(len(df['CEM'])):\n",
    "            psi = 0\n",
    "            fis = 0\n",
    "            veco = 0\n",
    "            sex = 0\n",
    "            for aggr in vpsi_2020:\n",
    "                if(df[aggr][i] == '1'):\n",
    "                    psi +=1\n",
    "                    break\n",
    "            for aggr in vfis_2020:\n",
    "                if(df[aggr][i] == '1'):\n",
    "                    fis +=1\n",
    "                    break\n",
    "            for aggr in veco_2020:\n",
    "                if(df[aggr][i] == '1'):\n",
    "                    veco +=1\n",
    "                    break\n",
    "            for aggr in vsex_2020:\n",
    "                if(df[aggr][i] == '1'):\n",
    "                    sex +=1\n",
    "                    break\n",
    "            AGRESIONES_FISICAS.append(fis)\n",
    "            AGRESIONES_PSICOLOGICAS.append(psi)\n",
    "            AGRESIONES_ECONOMICAS.append(veco)\n",
    "            AGRESIONES_SEXUALES.append(sex)\n",
    "            \n",
    "    reduced_df = reduced_df.assign(AGRESIONES_FISICAS = AGRESIONES_FISICAS)\n",
    "    reduced_df = reduced_df.assign(AGRESIONES_PSICOLOGICAS = AGRESIONES_PSICOLOGICAS)\n",
    "    reduced_df = reduced_df.assign(AGRESIONES_ECONOMICAS = AGRESIONES_ECONOMICAS)\n",
    "    reduced_df = reduced_df.assign(AGRESIONES_SEXUALES = AGRESIONES_SEXUALES)\n",
    "    return reduced_df"
   ]
  },
  {
   "cell_type": "code",
   "execution_count": 160,
   "metadata": {},
   "outputs": [],
   "source": [
    "#Generar los datos\n",
    "data_2017 = generateDataForClustering(ubigeo_2017_df, 2017)\n",
    "data_2018 = generateDataForClustering(ubigeo_2018_df, 2018)\n",
    "data_2019 = generateDataForClustering(ubigeo_2019_df, 2019)\n",
    "data_2020 = generateDataForClustering(ubigeo_2020_df, 2020)"
   ]
  },
  {
   "cell_type": "code",
   "execution_count": 165,
   "metadata": {
    "scrolled": true
   },
   "outputs": [
    {
     "data": {
      "text/html": [
       "<div>\n",
       "<style scoped>\n",
       "    .dataframe tbody tr th:only-of-type {\n",
       "        vertical-align: middle;\n",
       "    }\n",
       "\n",
       "    .dataframe tbody tr th {\n",
       "        vertical-align: top;\n",
       "    }\n",
       "\n",
       "    .dataframe thead th {\n",
       "        text-align: right;\n",
       "    }\n",
       "</style>\n",
       "<table border=\"1\" class=\"dataframe\">\n",
       "  <thead>\n",
       "    <tr style=\"text-align: right;\">\n",
       "      <th></th>\n",
       "      <th>INFORMANTE</th>\n",
       "      <th>FORMA_INGRESO</th>\n",
       "      <th>SEXO_VICTIMA</th>\n",
       "      <th>HIJAS_VIVAS</th>\n",
       "      <th>HIJOS_VIVOS</th>\n",
       "      <th>ETNIA_VICTIMA</th>\n",
       "      <th>AREA_RESIDENCIA_DOMICILIO</th>\n",
       "      <th>ESTADO_CIVIL_VICTIMA</th>\n",
       "      <th>NIVEL_EDUCATIVO_VICTIMA</th>\n",
       "      <th>TRABAJA_VICTIMA</th>\n",
       "      <th>...</th>\n",
       "      <th>CEM</th>\n",
       "      <th>DEP</th>\n",
       "      <th>PROV</th>\n",
       "      <th>DISTR</th>\n",
       "      <th>FACTOR_AGRESOR_CONSUMO_ALCOHOL</th>\n",
       "      <th>EDAD_VICTIMA</th>\n",
       "      <th>AGRESIONES_FISICAS</th>\n",
       "      <th>AGRESIONES_PSICOLOGICAS</th>\n",
       "      <th>AGRESIONES_ECONOMICAS</th>\n",
       "      <th>AGRESIONES_SEXUALES</th>\n",
       "    </tr>\n",
       "  </thead>\n",
       "  <tbody>\n",
       "    <tr>\n",
       "      <th>0</th>\n",
       "      <td>1</td>\n",
       "      <td>10</td>\n",
       "      <td>0</td>\n",
       "      <td>1</td>\n",
       "      <td>0</td>\n",
       "      <td>1</td>\n",
       "      <td>U</td>\n",
       "      <td>1</td>\n",
       "      <td>7</td>\n",
       "      <td>0</td>\n",
       "      <td>...</td>\n",
       "      <td>ABANCAY</td>\n",
       "      <td>3.0</td>\n",
       "      <td>301</td>\n",
       "      <td>30101</td>\n",
       "      <td>0</td>\n",
       "      <td>22</td>\n",
       "      <td>1</td>\n",
       "      <td>1</td>\n",
       "      <td>1</td>\n",
       "      <td>0</td>\n",
       "    </tr>\n",
       "    <tr>\n",
       "      <th>1</th>\n",
       "      <td>1</td>\n",
       "      <td>1</td>\n",
       "      <td>0</td>\n",
       "      <td>0</td>\n",
       "      <td>1</td>\n",
       "      <td>7</td>\n",
       "      <td>U</td>\n",
       "      <td>2</td>\n",
       "      <td>10</td>\n",
       "      <td>1</td>\n",
       "      <td>...</td>\n",
       "      <td>ABANCAY</td>\n",
       "      <td>3.0</td>\n",
       "      <td>301</td>\n",
       "      <td>30101</td>\n",
       "      <td>0</td>\n",
       "      <td>45</td>\n",
       "      <td>0</td>\n",
       "      <td>1</td>\n",
       "      <td>0</td>\n",
       "      <td>0</td>\n",
       "    </tr>\n",
       "    <tr>\n",
       "      <th>2</th>\n",
       "      <td>1</td>\n",
       "      <td>10</td>\n",
       "      <td>0</td>\n",
       "      <td>1</td>\n",
       "      <td>2</td>\n",
       "      <td>1</td>\n",
       "      <td>U</td>\n",
       "      <td>2</td>\n",
       "      <td>5</td>\n",
       "      <td>1</td>\n",
       "      <td>...</td>\n",
       "      <td>ABANCAY</td>\n",
       "      <td>3.0</td>\n",
       "      <td>301</td>\n",
       "      <td>30101</td>\n",
       "      <td>0</td>\n",
       "      <td>54</td>\n",
       "      <td>0</td>\n",
       "      <td>1</td>\n",
       "      <td>0</td>\n",
       "      <td>0</td>\n",
       "    </tr>\n",
       "    <tr>\n",
       "      <th>3</th>\n",
       "      <td>0</td>\n",
       "      <td>16</td>\n",
       "      <td>0</td>\n",
       "      <td>0</td>\n",
       "      <td>0</td>\n",
       "      <td>1</td>\n",
       "      <td>U</td>\n",
       "      <td>1</td>\n",
       "      <td>6</td>\n",
       "      <td>0</td>\n",
       "      <td>...</td>\n",
       "      <td>ABANCAY</td>\n",
       "      <td>3.0</td>\n",
       "      <td>301</td>\n",
       "      <td>30101</td>\n",
       "      <td>0</td>\n",
       "      <td>17</td>\n",
       "      <td>0</td>\n",
       "      <td>0</td>\n",
       "      <td>0</td>\n",
       "      <td>1</td>\n",
       "    </tr>\n",
       "    <tr>\n",
       "      <th>4</th>\n",
       "      <td>1</td>\n",
       "      <td>11</td>\n",
       "      <td>0</td>\n",
       "      <td>0</td>\n",
       "      <td>0</td>\n",
       "      <td>1</td>\n",
       "      <td>R</td>\n",
       "      <td>4</td>\n",
       "      <td>1</td>\n",
       "      <td>0</td>\n",
       "      <td>...</td>\n",
       "      <td>ABANCAY</td>\n",
       "      <td>3.0</td>\n",
       "      <td>301</td>\n",
       "      <td>30101</td>\n",
       "      <td>0</td>\n",
       "      <td>80</td>\n",
       "      <td>0</td>\n",
       "      <td>0</td>\n",
       "      <td>0</td>\n",
       "      <td>1</td>\n",
       "    </tr>\n",
       "    <tr>\n",
       "      <th>...</th>\n",
       "      <td>...</td>\n",
       "      <td>...</td>\n",
       "      <td>...</td>\n",
       "      <td>...</td>\n",
       "      <td>...</td>\n",
       "      <td>...</td>\n",
       "      <td>...</td>\n",
       "      <td>...</td>\n",
       "      <td>...</td>\n",
       "      <td>...</td>\n",
       "      <td>...</td>\n",
       "      <td>...</td>\n",
       "      <td>...</td>\n",
       "      <td>...</td>\n",
       "      <td>...</td>\n",
       "      <td>...</td>\n",
       "      <td>...</td>\n",
       "      <td>...</td>\n",
       "      <td>...</td>\n",
       "      <td>...</td>\n",
       "      <td>...</td>\n",
       "    </tr>\n",
       "    <tr>\n",
       "      <th>114490</th>\n",
       "      <td>1</td>\n",
       "      <td>1</td>\n",
       "      <td>0</td>\n",
       "      <td>0</td>\n",
       "      <td>0</td>\n",
       "      <td>7</td>\n",
       "      <td>U</td>\n",
       "      <td>1</td>\n",
       "      <td>1</td>\n",
       "      <td>0</td>\n",
       "      <td>...</td>\n",
       "      <td>ZARUMILLA</td>\n",
       "      <td>24.0</td>\n",
       "      <td>2403</td>\n",
       "      <td>240301</td>\n",
       "      <td>0</td>\n",
       "      <td>3</td>\n",
       "      <td>0</td>\n",
       "      <td>1</td>\n",
       "      <td>0</td>\n",
       "      <td>0</td>\n",
       "    </tr>\n",
       "    <tr>\n",
       "      <th>114491</th>\n",
       "      <td>1</td>\n",
       "      <td>10</td>\n",
       "      <td>0</td>\n",
       "      <td>1</td>\n",
       "      <td>0</td>\n",
       "      <td>7</td>\n",
       "      <td>U</td>\n",
       "      <td>1</td>\n",
       "      <td>5</td>\n",
       "      <td>0</td>\n",
       "      <td>...</td>\n",
       "      <td>ZARUMILLA</td>\n",
       "      <td>24.0</td>\n",
       "      <td>2403</td>\n",
       "      <td>240301</td>\n",
       "      <td>0</td>\n",
       "      <td>16</td>\n",
       "      <td>0</td>\n",
       "      <td>1</td>\n",
       "      <td>0</td>\n",
       "      <td>0</td>\n",
       "    </tr>\n",
       "    <tr>\n",
       "      <th>114492</th>\n",
       "      <td>1</td>\n",
       "      <td>16</td>\n",
       "      <td>0</td>\n",
       "      <td>0</td>\n",
       "      <td>0</td>\n",
       "      <td>7</td>\n",
       "      <td>U</td>\n",
       "      <td>1</td>\n",
       "      <td>9</td>\n",
       "      <td>0</td>\n",
       "      <td>...</td>\n",
       "      <td>ZARUMILLA</td>\n",
       "      <td>24.0</td>\n",
       "      <td>2403</td>\n",
       "      <td>240301</td>\n",
       "      <td>1</td>\n",
       "      <td>20</td>\n",
       "      <td>1</td>\n",
       "      <td>1</td>\n",
       "      <td>0</td>\n",
       "      <td>0</td>\n",
       "    </tr>\n",
       "    <tr>\n",
       "      <th>114493</th>\n",
       "      <td>1</td>\n",
       "      <td>16</td>\n",
       "      <td>0</td>\n",
       "      <td>0</td>\n",
       "      <td>0</td>\n",
       "      <td>7</td>\n",
       "      <td>U</td>\n",
       "      <td>1</td>\n",
       "      <td>10</td>\n",
       "      <td>1</td>\n",
       "      <td>...</td>\n",
       "      <td>ZARUMILLA</td>\n",
       "      <td>24.0</td>\n",
       "      <td>2403</td>\n",
       "      <td>240301</td>\n",
       "      <td>1</td>\n",
       "      <td>23</td>\n",
       "      <td>1</td>\n",
       "      <td>1</td>\n",
       "      <td>0</td>\n",
       "      <td>0</td>\n",
       "    </tr>\n",
       "    <tr>\n",
       "      <th>114494</th>\n",
       "      <td>1</td>\n",
       "      <td>16</td>\n",
       "      <td>0</td>\n",
       "      <td>1</td>\n",
       "      <td>1</td>\n",
       "      <td>7</td>\n",
       "      <td>U</td>\n",
       "      <td>1</td>\n",
       "      <td>5</td>\n",
       "      <td>0</td>\n",
       "      <td>...</td>\n",
       "      <td>ZARUMILLA</td>\n",
       "      <td>24.0</td>\n",
       "      <td>2403</td>\n",
       "      <td>240301</td>\n",
       "      <td>1</td>\n",
       "      <td>23</td>\n",
       "      <td>1</td>\n",
       "      <td>1</td>\n",
       "      <td>0</td>\n",
       "      <td>0</td>\n",
       "    </tr>\n",
       "  </tbody>\n",
       "</table>\n",
       "<p>114495 rows × 26 columns</p>\n",
       "</div>"
      ],
      "text/plain": [
       "        INFORMANTE  FORMA_INGRESO  SEXO_VICTIMA  HIJAS_VIVAS  HIJOS_VIVOS  \\\n",
       "0                1             10             0            1            0   \n",
       "1                1              1             0            0            1   \n",
       "2                1             10             0            1            2   \n",
       "3                0             16             0            0            0   \n",
       "4                1             11             0            0            0   \n",
       "...            ...            ...           ...          ...          ...   \n",
       "114490           1              1             0            0            0   \n",
       "114491           1             10             0            1            0   \n",
       "114492           1             16             0            0            0   \n",
       "114493           1             16             0            0            0   \n",
       "114494           1             16             0            1            1   \n",
       "\n",
       "        ETNIA_VICTIMA AREA_RESIDENCIA_DOMICILIO  ESTADO_CIVIL_VICTIMA  \\\n",
       "0                   1                         U                     1   \n",
       "1                   7                         U                     2   \n",
       "2                   1                         U                     2   \n",
       "3                   1                         U                     1   \n",
       "4                   1                         R                     4   \n",
       "...               ...                       ...                   ...   \n",
       "114490              7                         U                     1   \n",
       "114491              7                         U                     1   \n",
       "114492              7                         U                     1   \n",
       "114493              7                         U                     1   \n",
       "114494              7                         U                     1   \n",
       "\n",
       "        NIVEL_EDUCATIVO_VICTIMA  TRABAJA_VICTIMA  ...        CEM   DEP  PROV  \\\n",
       "0                             7                0  ...    ABANCAY   3.0   301   \n",
       "1                            10                1  ...    ABANCAY   3.0   301   \n",
       "2                             5                1  ...    ABANCAY   3.0   301   \n",
       "3                             6                0  ...    ABANCAY   3.0   301   \n",
       "4                             1                0  ...    ABANCAY   3.0   301   \n",
       "...                         ...              ...  ...        ...   ...   ...   \n",
       "114490                        1                0  ...  ZARUMILLA  24.0  2403   \n",
       "114491                        5                0  ...  ZARUMILLA  24.0  2403   \n",
       "114492                        9                0  ...  ZARUMILLA  24.0  2403   \n",
       "114493                       10                1  ...  ZARUMILLA  24.0  2403   \n",
       "114494                        5                0  ...  ZARUMILLA  24.0  2403   \n",
       "\n",
       "         DISTR  FACTOR_AGRESOR_CONSUMO_ALCOHOL EDAD_VICTIMA  \\\n",
       "0        30101                               0           22   \n",
       "1        30101                               0           45   \n",
       "2        30101                               0           54   \n",
       "3        30101                               0           17   \n",
       "4        30101                               0           80   \n",
       "...        ...                             ...          ...   \n",
       "114490  240301                               0            3   \n",
       "114491  240301                               0           16   \n",
       "114492  240301                               1           20   \n",
       "114493  240301                               1           23   \n",
       "114494  240301                               1           23   \n",
       "\n",
       "       AGRESIONES_FISICAS  AGRESIONES_PSICOLOGICAS  AGRESIONES_ECONOMICAS  \\\n",
       "0                       1                        1                      1   \n",
       "1                       0                        1                      0   \n",
       "2                       0                        1                      0   \n",
       "3                       0                        0                      0   \n",
       "4                       0                        0                      0   \n",
       "...                   ...                      ...                    ...   \n",
       "114490                  0                        1                      0   \n",
       "114491                  0                        1                      0   \n",
       "114492                  1                        1                      0   \n",
       "114493                  1                        1                      0   \n",
       "114494                  1                        1                      0   \n",
       "\n",
       "        AGRESIONES_SEXUALES  \n",
       "0                         0  \n",
       "1                         0  \n",
       "2                         0  \n",
       "3                         1  \n",
       "4                         1  \n",
       "...                     ...  \n",
       "114490                    0  \n",
       "114491                    0  \n",
       "114492                    0  \n",
       "114493                    0  \n",
       "114494                    0  \n",
       "\n",
       "[114495 rows x 26 columns]"
      ]
     },
     "execution_count": 165,
     "metadata": {},
     "output_type": "execute_result"
    }
   ],
   "source": [
    "data_2020"
   ]
  },
  {
   "cell_type": "code",
   "execution_count": 181,
   "metadata": {},
   "outputs": [
    {
     "data": {
      "text/plain": [
       "1    48120\n",
       "2    37752\n",
       "3     9012\n",
       "0      433\n",
       "Name: TIPO_VIOLENCIA, dtype: int64"
      ]
     },
     "execution_count": 181,
     "metadata": {},
     "output_type": "execute_result"
    }
   ],
   "source": [
    "data_2017['TIPO_VIOLENCIA'].value_counts()"
   ]
  },
  {
   "cell_type": "code",
   "execution_count": 168,
   "metadata": {},
   "outputs": [
    {
     "data": {
      "text/plain": [
       "Index(['INFORMANTE', 'FORMA_INGRESO', 'SEXO_VICTIMA', 'HIJAS_VIVAS',\n",
       "       'HIJOS_VIVOS', 'ETNIA_VICTIMA', 'AREA_RESIDENCIA_DOMICILIO',\n",
       "       'ESTADO_CIVIL_VICTIMA', 'NIVEL_EDUCATIVO_VICTIMA', 'TRABAJA_VICTIMA',\n",
       "       'VINCULO_AGRESOR_VICTIMA', 'AGRESOR_VIVE_CASA_VICTIMA', 'SEXO_AGRESOR',\n",
       "       'INTERPUSO_DENUNCIA', 'TIPO_VIOLENCIA', 'FECHA_INGRESO', 'CEM', 'DEP',\n",
       "       'PROV', 'DISTR', 'FACTOR_AGRESOR_CONSUMO_ALCOHOL', 'EDAD_VICTIMA',\n",
       "       'AGRESIONES_FISICAS', 'AGRESIONES_PSICOLOGICAS',\n",
       "       'AGRESIONES_ECONOMICAS', 'AGRESIONES_SEXUALES'],\n",
       "      dtype='object')"
      ]
     },
     "execution_count": 168,
     "metadata": {},
     "output_type": "execute_result"
    }
   ],
   "source": [
    "data_2020.columns"
   ]
  },
  {
   "cell_type": "code",
   "execution_count": 166,
   "metadata": {},
   "outputs": [],
   "source": [
    "#Guardar archivos\n",
    "#data_2017.to_csv('clustering_data_2017.csv', index = False)\n",
    "#data_2018.to_csv('clustering_data_2018.csv', index = False)\n",
    "#data_2019.to_csv('clustering_data_2019.csv', index = False)\n",
    "#data_2020.to_csv('clustering_data_2020.csv', index = False)"
   ]
  },
  {
   "cell_type": "code",
   "execution_count": 2,
   "metadata": {},
   "outputs": [],
   "source": [
    "#Leer archivos\n",
    "data_2017 = pd.read_csv(\"./clustering_data_2017.csv\",delimiter=\",\")\n",
    "data_2018 = pd.read_csv(\"./clustering_data_2018.csv\",delimiter=\",\");\n",
    "data_2019 = pd.read_csv(\"./clustering_data_2019.csv\",delimiter=\",\");\n",
    "data_2020 = pd.read_csv(\"./clustering_data_2020.csv\",delimiter=\",\");"
   ]
  },
  {
   "cell_type": "code",
   "execution_count": 3,
   "metadata": {},
   "outputs": [],
   "source": [
    "#Generar inserts\n",
    "def generate_inserts(df,index):\n",
    "    queries = []\n",
    "    for i in range(len(df['CEM'])):\n",
    "        insert = \"INSERT INTO clustering_data VALUES(\"\n",
    "        insert += str(i+index)+\",\"\n",
    "        insert += \"'\"+df['FECHA_INGRESO'][i]+\"',\"\n",
    "        insert += \"'\"+df['CEM'][i]+\"',\"\n",
    "        insert += str(df['DEP'][i])+\",\"\n",
    "        insert += str(df['PROV'][i])+\",\"\n",
    "        insert += str(df['DISTR'][i])+\",\"\n",
    "        if(str(int(df['INFORMANTE'][i])) == '1'):\n",
    "            insert += \"true,\"\n",
    "        else:\n",
    "            insert += \"false,\"\n",
    "        insert += str(int(df['FORMA_INGRESO'][i]))+\",\"\n",
    "        insert += str(int(df['SEXO_VICTIMA'][i]))+\",\"\n",
    "        insert += str(int(df['HIJAS_VIVAS'][i]))+\",\"\n",
    "        insert += str(int(df['HIJOS_VIVOS'][i]))+\",\"\n",
    "        insert += str(int(df['ETNIA_VICTIMA'][i]))+\",\"\n",
    "        if(df['AREA_RESIDENCIA_DOMICILIO'][i] == 'R'):\n",
    "            insert += \"0,\"\n",
    "        else:\n",
    "            insert += \"1,\"\n",
    "        insert += str(int(df['ESTADO_CIVIL_VICTIMA'][i]))+\",\"\n",
    "        insert += str(int(df['NIVEL_EDUCATIVO_VICTIMA'][i]))+\",\"\n",
    "        if(str(int(df['TRABAJA_VICTIMA'][i])) == '0'):\n",
    "            insert += \"false,\"\n",
    "        else:\n",
    "            insert += \"true,\"\n",
    "        insert += str(int(df['VINCULO_AGRESOR_VICTIMA'][i]))+\",\"\n",
    "        insert += str(int(df['AGRESOR_VIVE_CASA_VICTIMA'][i]))+\",\"\n",
    "        insert += str(int(df['SEXO_AGRESOR'][i]))+\",\"\n",
    "        if(str(int(df['INTERPUSO_DENUNCIA'][i])) == '0'):\n",
    "            insert += \"false,\"\n",
    "        else:\n",
    "            insert += \"true,\"\n",
    "        insert += str(int(df['TIPO_VIOLENCIA'][i]))+\",\"\n",
    "        if(str(int(df['FACTOR_AGRESOR_CONSUMO_ALCOHOL'][i])) == '0'):\n",
    "            insert += \"false,\"\n",
    "        else:\n",
    "            insert += \"true,\"\n",
    "        insert += str(int(df['EDAD_VICTIMA'][i]))+\",\"\n",
    "        if(str(int(df['AGRESIONES_FISICAS'][i])) == '0'):\n",
    "            insert += \"false,\"\n",
    "        else:\n",
    "            insert += \"true,\"\n",
    "        if(str(int(df['AGRESIONES_PSICOLOGICAS'][i])) == '0'):\n",
    "            insert += \"false,\"\n",
    "        else:\n",
    "            insert += \"true,\"\n",
    "        if(str(int(df['AGRESIONES_ECONOMICAS'][i])) == '0'):\n",
    "            insert += \"false,\"\n",
    "        else:\n",
    "            insert += \"true,\"\n",
    "        if(str(int(df['AGRESIONES_SEXUALES'][i])) == '0'):\n",
    "            insert += \"false);\"\n",
    "        else:\n",
    "            insert += \"true);\"\n",
    "        \n",
    "        queries.append(insert)\n",
    "    return queries"
   ]
  },
  {
   "cell_type": "code",
   "execution_count": 9,
   "metadata": {},
   "outputs": [
    {
     "name": "stdout",
     "output_type": "stream",
     "text": [
      "listo 2017\n",
      "listo 2018\n",
      "listo 2019\n",
      "listo 2020\n"
     ]
    }
   ],
   "source": [
    "#queries_2017 = generate_inserts(data_2017,0)\n",
    "print(\"listo 2017\")\n",
    "queries_2018 = generate_inserts(data_2018,len(queries_2017))\n",
    "print(\"listo 2018\")\n",
    "queries_2019 = generate_inserts(data_2019,len(queries_2017)+len(queries_2018))\n",
    "print(\"listo 2019\")\n",
    "queries_2020 = generate_inserts(data_2020,len(queries_2017)+len(queries_2018)+len(queries_2019))\n",
    "print(\"listo 2020\")"
   ]
  },
  {
   "cell_type": "code",
   "execution_count": 16,
   "metadata": {},
   "outputs": [
    {
     "data": {
      "text/plain": [
       "525394"
      ]
     },
     "execution_count": 16,
     "metadata": {},
     "output_type": "execute_result"
    }
   ],
   "source": [
    "len(queries_2017)+len(queries_2018)+len(queries_2019)+len(queries_2020)"
   ]
  },
  {
   "cell_type": "code",
   "execution_count": 10,
   "metadata": {},
   "outputs": [],
   "source": [
    "queryfiles2017 = {'queries':queries_2017}\n",
    "queryfiles2018 = {'queries':queries_2018}\n",
    "queryfiles2019 = {'queries':queries_2019}\n",
    "queryfiles2020 = {'queries':queries_2020}\n",
    "\n",
    "file2017 = pd.DataFrame(queryfiles2017)\n",
    "file2018 = pd.DataFrame(queryfiles2018)\n",
    "file2019 = pd.DataFrame(queryfiles2019)\n",
    "file2020 = pd.DataFrame(queryfiles2020)"
   ]
  },
  {
   "cell_type": "code",
   "execution_count": 11,
   "metadata": {},
   "outputs": [],
   "source": [
    "file2017.to_csv('queries_2017.csv', index = False)\n",
    "file2018.to_csv('queries_2018.csv', index = False)\n",
    "file2019.to_csv('queries_2019.csv', index = False)\n",
    "file2020.to_csv('queries_2020.csv', index = False)"
   ]
  }
 ],
 "metadata": {
  "kernelspec": {
   "display_name": "Python 3",
   "language": "python",
   "name": "python3"
  },
  "language_info": {
   "codemirror_mode": {
    "name": "ipython",
    "version": 3
   },
   "file_extension": ".py",
   "mimetype": "text/x-python",
   "name": "python",
   "nbconvert_exporter": "python",
   "pygments_lexer": "ipython3",
   "version": "3.8.5"
  }
 },
 "nbformat": 4,
 "nbformat_minor": 4
}
